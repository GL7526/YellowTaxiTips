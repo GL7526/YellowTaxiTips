{
 "cells": [
  {
   "cell_type": "code",
   "execution_count": 1,
   "metadata": {},
   "outputs": [],
   "source": [
    "import pandas as pd"
   ]
  },
  {
   "cell_type": "markdown",
   "metadata": {},
   "source": [
    " https://www1.nyc.gov/assets/tlc/downloads/pdf/data_dictionary_trip_records_yellow.pdf\n",
    "<br> explains what each column represents\n",
    "<br> TLC = Taxi and Limousine Commission"
   ]
  },
  {
   "cell_type": "markdown",
   "metadata": {},
   "source": [
    "# Read Data"
   ]
  },
  {
   "cell_type": "code",
   "execution_count": 2,
   "metadata": {},
   "outputs": [
    {
     "data": {
      "text/plain": [
       "(7433139, 18)"
      ]
     },
     "execution_count": 2,
     "metadata": {},
     "output_type": "execute_result"
    }
   ],
   "source": [
    "# look at size of dataframe (7433139, 18)\n",
    "pd.read_csv('https://s3.amazonaws.com/nyc-tlc/trip+data/yellow_tripdata_2019-04.csv').shape"
   ]
  },
  {
   "cell_type": "code",
   "execution_count": 4,
   "metadata": {},
   "outputs": [
    {
     "data": {
      "text/html": [
       "<div>\n",
       "<style scoped>\n",
       "    .dataframe tbody tr th:only-of-type {\n",
       "        vertical-align: middle;\n",
       "    }\n",
       "\n",
       "    .dataframe tbody tr th {\n",
       "        vertical-align: top;\n",
       "    }\n",
       "\n",
       "    .dataframe thead th {\n",
       "        text-align: right;\n",
       "    }\n",
       "</style>\n",
       "<table border=\"1\" class=\"dataframe\">\n",
       "  <thead>\n",
       "    <tr style=\"text-align: right;\">\n",
       "      <th></th>\n",
       "      <th>VendorID</th>\n",
       "      <th>tpep_pickup_datetime</th>\n",
       "      <th>tpep_dropoff_datetime</th>\n",
       "      <th>passenger_count</th>\n",
       "      <th>trip_distance</th>\n",
       "      <th>RatecodeID</th>\n",
       "      <th>store_and_fwd_flag</th>\n",
       "      <th>PULocationID</th>\n",
       "      <th>DOLocationID</th>\n",
       "      <th>payment_type</th>\n",
       "      <th>fare_amount</th>\n",
       "      <th>extra</th>\n",
       "      <th>mta_tax</th>\n",
       "      <th>tip_amount</th>\n",
       "      <th>tolls_amount</th>\n",
       "      <th>improvement_surcharge</th>\n",
       "      <th>total_amount</th>\n",
       "      <th>congestion_surcharge</th>\n",
       "    </tr>\n",
       "  </thead>\n",
       "  <tbody>\n",
       "    <tr>\n",
       "      <th>0</th>\n",
       "      <td>1</td>\n",
       "      <td>2019-04-01 00:04:09</td>\n",
       "      <td>2019-04-01 00:06:35</td>\n",
       "      <td>1</td>\n",
       "      <td>0.5</td>\n",
       "      <td>1</td>\n",
       "      <td>N</td>\n",
       "      <td>239</td>\n",
       "      <td>239</td>\n",
       "      <td>1</td>\n",
       "      <td>4.0</td>\n",
       "      <td>3.0</td>\n",
       "      <td>0.5</td>\n",
       "      <td>1.0</td>\n",
       "      <td>0.0</td>\n",
       "      <td>0.3</td>\n",
       "      <td>8.8</td>\n",
       "      <td>2.5</td>\n",
       "    </tr>\n",
       "  </tbody>\n",
       "</table>\n",
       "</div>"
      ],
      "text/plain": [
       "   VendorID tpep_pickup_datetime tpep_dropoff_datetime  passenger_count  \\\n",
       "0         1  2019-04-01 00:04:09   2019-04-01 00:06:35                1   \n",
       "\n",
       "   trip_distance  RatecodeID store_and_fwd_flag  PULocationID  DOLocationID  \\\n",
       "0            0.5           1                  N           239           239   \n",
       "\n",
       "   payment_type  fare_amount  extra  mta_tax  tip_amount  tolls_amount  \\\n",
       "0             1          4.0    3.0      0.5         1.0           0.0   \n",
       "\n",
       "   improvement_surcharge  total_amount  congestion_surcharge  \n",
       "0                    0.3           8.8                   2.5  "
      ]
     },
     "execution_count": 4,
     "metadata": {},
     "output_type": "execute_result"
    }
   ],
   "source": [
    "pd.read_csv('https://s3.amazonaws.com/nyc-tlc/trip+data/yellow_tripdata_2019-04.csv').iloc[[0]]"
   ]
  },
  {
   "cell_type": "markdown",
   "metadata": {},
   "source": [
    "## Pickle DataFrame\n",
    "**Do this only once**"
   ]
  },
  {
   "cell_type": "code",
   "execution_count": 2,
   "metadata": {},
   "outputs": [],
   "source": [
    "import pickle\n",
    "import random"
   ]
  },
  {
   "cell_type": "code",
   "execution_count": 14,
   "metadata": {},
   "outputs": [],
   "source": [
    "n_observations = 7433139 - 1\n",
    "n_keep = 1000000\n",
    "trip_data = pd.read_csv('https://s3.amazonaws.com/nyc-tlc/trip+data/yellow_tripdata_2019-04.csv',\n",
    "                        skiprows = random.sample(range(1, n_observations+1), n_observations-n_keep)) \n",
    "#creates range object of indices then randomly samples all indices but 1,000,000 observations' that will be skipped\n",
    "#using n_observations+1 in range because pandas includes last index but range will skip the last one initially\n",
    "#starting at 1 to avoid skipping first row, which is column names\n",
    "\n",
    "#file name:\n",
    "taxi_data_file_name = 'april_2019_yellow_taxi_data'"
   ]
  },
  {
   "cell_type": "code",
   "execution_count": 15,
   "metadata": {},
   "outputs": [],
   "source": [
    "#save dataframe:\n",
    "with open(taxi_data_file_name, 'wb') as f:\n",
    "    pickle.dump(trip_data, f)"
   ]
  },
  {
   "cell_type": "markdown",
   "metadata": {},
   "source": [
    "## Load DataFrame"
   ]
  },
  {
   "cell_type": "code",
   "execution_count": 4,
   "metadata": {},
   "outputs": [],
   "source": [
    "#file name:\n",
    "taxi_data_file_name = 'april_2019_yellow_taxi_data'"
   ]
  },
  {
   "cell_type": "code",
   "execution_count": 5,
   "metadata": {},
   "outputs": [],
   "source": [
    "with open(taxi_data_file_name, 'rb') as f:\n",
    "    trip_data = pickle.load(f)"
   ]
  },
  {
   "cell_type": "markdown",
   "metadata": {},
   "source": [
    "# Preview Data"
   ]
  },
  {
   "cell_type": "code",
   "execution_count": 12,
   "metadata": {},
   "outputs": [],
   "source": [
    "import matplotlib.pyplot as plt\n",
    "import seaborn as sns"
   ]
  },
  {
   "cell_type": "code",
   "execution_count": 7,
   "metadata": {},
   "outputs": [
    {
     "data": {
      "text/html": [
       "<div>\n",
       "<style scoped>\n",
       "    .dataframe tbody tr th:only-of-type {\n",
       "        vertical-align: middle;\n",
       "    }\n",
       "\n",
       "    .dataframe tbody tr th {\n",
       "        vertical-align: top;\n",
       "    }\n",
       "\n",
       "    .dataframe thead th {\n",
       "        text-align: right;\n",
       "    }\n",
       "</style>\n",
       "<table border=\"1\" class=\"dataframe\">\n",
       "  <thead>\n",
       "    <tr style=\"text-align: right;\">\n",
       "      <th></th>\n",
       "      <th>VendorID</th>\n",
       "      <th>tpep_pickup_datetime</th>\n",
       "      <th>tpep_dropoff_datetime</th>\n",
       "      <th>passenger_count</th>\n",
       "      <th>trip_distance</th>\n",
       "      <th>RatecodeID</th>\n",
       "      <th>store_and_fwd_flag</th>\n",
       "      <th>PULocationID</th>\n",
       "      <th>DOLocationID</th>\n",
       "      <th>payment_type</th>\n",
       "      <th>fare_amount</th>\n",
       "      <th>extra</th>\n",
       "      <th>mta_tax</th>\n",
       "      <th>tip_amount</th>\n",
       "      <th>tolls_amount</th>\n",
       "      <th>improvement_surcharge</th>\n",
       "      <th>total_amount</th>\n",
       "      <th>congestion_surcharge</th>\n",
       "    </tr>\n",
       "  </thead>\n",
       "  <tbody>\n",
       "    <tr>\n",
       "      <th>0</th>\n",
       "      <td>2</td>\n",
       "      <td>2019-04-01 00:38:35</td>\n",
       "      <td>2019-04-01 00:49:10</td>\n",
       "      <td>2</td>\n",
       "      <td>3.39</td>\n",
       "      <td>1</td>\n",
       "      <td>N</td>\n",
       "      <td>237</td>\n",
       "      <td>42</td>\n",
       "      <td>2</td>\n",
       "      <td>11.5</td>\n",
       "      <td>0.5</td>\n",
       "      <td>0.5</td>\n",
       "      <td>0.00</td>\n",
       "      <td>0.0</td>\n",
       "      <td>0.3</td>\n",
       "      <td>15.30</td>\n",
       "      <td>2.5</td>\n",
       "    </tr>\n",
       "    <tr>\n",
       "      <th>1</th>\n",
       "      <td>1</td>\n",
       "      <td>2019-04-01 00:07:54</td>\n",
       "      <td>2019-04-01 00:13:44</td>\n",
       "      <td>1</td>\n",
       "      <td>1.50</td>\n",
       "      <td>1</td>\n",
       "      <td>N</td>\n",
       "      <td>25</td>\n",
       "      <td>181</td>\n",
       "      <td>1</td>\n",
       "      <td>7.0</td>\n",
       "      <td>0.5</td>\n",
       "      <td>0.5</td>\n",
       "      <td>1.00</td>\n",
       "      <td>0.0</td>\n",
       "      <td>0.3</td>\n",
       "      <td>9.30</td>\n",
       "      <td>0.0</td>\n",
       "    </tr>\n",
       "    <tr>\n",
       "      <th>2</th>\n",
       "      <td>1</td>\n",
       "      <td>2019-04-01 00:58:07</td>\n",
       "      <td>2019-04-01 01:02:39</td>\n",
       "      <td>1</td>\n",
       "      <td>0.90</td>\n",
       "      <td>1</td>\n",
       "      <td>N</td>\n",
       "      <td>48</td>\n",
       "      <td>170</td>\n",
       "      <td>2</td>\n",
       "      <td>5.0</td>\n",
       "      <td>3.0</td>\n",
       "      <td>0.5</td>\n",
       "      <td>0.00</td>\n",
       "      <td>0.0</td>\n",
       "      <td>0.3</td>\n",
       "      <td>8.80</td>\n",
       "      <td>2.5</td>\n",
       "    </tr>\n",
       "    <tr>\n",
       "      <th>3</th>\n",
       "      <td>2</td>\n",
       "      <td>2019-04-01 00:04:10</td>\n",
       "      <td>2019-04-01 00:11:58</td>\n",
       "      <td>1</td>\n",
       "      <td>1.31</td>\n",
       "      <td>1</td>\n",
       "      <td>N</td>\n",
       "      <td>238</td>\n",
       "      <td>236</td>\n",
       "      <td>2</td>\n",
       "      <td>7.5</td>\n",
       "      <td>0.5</td>\n",
       "      <td>0.5</td>\n",
       "      <td>0.00</td>\n",
       "      <td>0.0</td>\n",
       "      <td>0.3</td>\n",
       "      <td>11.30</td>\n",
       "      <td>2.5</td>\n",
       "    </tr>\n",
       "    <tr>\n",
       "      <th>4</th>\n",
       "      <td>2</td>\n",
       "      <td>2019-04-01 00:59:32</td>\n",
       "      <td>2019-04-01 01:18:53</td>\n",
       "      <td>2</td>\n",
       "      <td>5.02</td>\n",
       "      <td>1</td>\n",
       "      <td>N</td>\n",
       "      <td>148</td>\n",
       "      <td>142</td>\n",
       "      <td>1</td>\n",
       "      <td>18.0</td>\n",
       "      <td>0.5</td>\n",
       "      <td>0.5</td>\n",
       "      <td>4.36</td>\n",
       "      <td>0.0</td>\n",
       "      <td>0.3</td>\n",
       "      <td>26.16</td>\n",
       "      <td>2.5</td>\n",
       "    </tr>\n",
       "  </tbody>\n",
       "</table>\n",
       "</div>"
      ],
      "text/plain": [
       "   VendorID tpep_pickup_datetime tpep_dropoff_datetime  passenger_count  \\\n",
       "0         2  2019-04-01 00:38:35   2019-04-01 00:49:10                2   \n",
       "1         1  2019-04-01 00:07:54   2019-04-01 00:13:44                1   \n",
       "2         1  2019-04-01 00:58:07   2019-04-01 01:02:39                1   \n",
       "3         2  2019-04-01 00:04:10   2019-04-01 00:11:58                1   \n",
       "4         2  2019-04-01 00:59:32   2019-04-01 01:18:53                2   \n",
       "\n",
       "   trip_distance  RatecodeID store_and_fwd_flag  PULocationID  DOLocationID  \\\n",
       "0           3.39           1                  N           237            42   \n",
       "1           1.50           1                  N            25           181   \n",
       "2           0.90           1                  N            48           170   \n",
       "3           1.31           1                  N           238           236   \n",
       "4           5.02           1                  N           148           142   \n",
       "\n",
       "   payment_type  fare_amount  extra  mta_tax  tip_amount  tolls_amount  \\\n",
       "0             2         11.5    0.5      0.5        0.00           0.0   \n",
       "1             1          7.0    0.5      0.5        1.00           0.0   \n",
       "2             2          5.0    3.0      0.5        0.00           0.0   \n",
       "3             2          7.5    0.5      0.5        0.00           0.0   \n",
       "4             1         18.0    0.5      0.5        4.36           0.0   \n",
       "\n",
       "   improvement_surcharge  total_amount  congestion_surcharge  \n",
       "0                    0.3         15.30                   2.5  \n",
       "1                    0.3          9.30                   0.0  \n",
       "2                    0.3          8.80                   2.5  \n",
       "3                    0.3         11.30                   2.5  \n",
       "4                    0.3         26.16                   2.5  "
      ]
     },
     "execution_count": 7,
     "metadata": {},
     "output_type": "execute_result"
    }
   ],
   "source": [
    "trip_data.head()"
   ]
  },
  {
   "cell_type": "code",
   "execution_count": 8,
   "metadata": {},
   "outputs": [
    {
     "data": {
      "text/plain": [
       "['VendorID',\n",
       " 'tpep_pickup_datetime',\n",
       " 'tpep_dropoff_datetime',\n",
       " 'passenger_count',\n",
       " 'trip_distance',\n",
       " 'RatecodeID',\n",
       " 'store_and_fwd_flag',\n",
       " 'PULocationID',\n",
       " 'DOLocationID',\n",
       " 'payment_type',\n",
       " 'fare_amount',\n",
       " 'extra',\n",
       " 'mta_tax',\n",
       " 'tip_amount',\n",
       " 'tolls_amount',\n",
       " 'improvement_surcharge',\n",
       " 'total_amount',\n",
       " 'congestion_surcharge']"
      ]
     },
     "execution_count": 8,
     "metadata": {},
     "output_type": "execute_result"
    }
   ],
   "source": [
    "list(trip_data.columns)"
   ]
  },
  {
   "cell_type": "code",
   "execution_count": 17,
   "metadata": {},
   "outputs": [],
   "source": [
    "# VendorID - TPEP provider - 1= Creative Mobile Technologies, LLC; 2= VeriFone Inc.\n",
    "# tpep_pickup_datetime - 1= Creative Mobile Technologies, LLC; 2= VeriFone Inc.\n",
    "# tpep_dropoff_datetime - The date and time when the meter was disengaged.\n",
    "# passenger_count - The number of passengers in the vehicle.\n",
    "# trip_distance - The elapsed trip distance in miles reported by the taximeter.\n",
    "# RatecodeID - TLC Taxi Zone in which the taximeter was engaged\n",
    "# store_and_fwd_flag - TLC Taxi Zone in which the taximeter was disengaged \n",
    "# PULocationID\n",
    "# DOLocationID\n",
    "# payment_type\n",
    "# fare_amount\n",
    "# extra\n",
    "# mta_tax\n",
    "# tip_amount\n",
    "# tolls_amount\n",
    "# improvement_surcharge\n",
    "# total_amount\n",
    "# congestion_surcharge"
   ]
  },
  {
   "cell_type": "code",
   "execution_count": 9,
   "metadata": {},
   "outputs": [
    {
     "data": {
      "text/plain": [
       "(1000001, 18)"
      ]
     },
     "execution_count": 9,
     "metadata": {},
     "output_type": "execute_result"
    }
   ],
   "source": [
    "trip_data.shape # 1,000,001 rows, 18 columns"
   ]
  },
  {
   "cell_type": "markdown",
   "metadata": {},
   "source": [
    "## Check for empty/NaN/null values"
   ]
  },
  {
   "cell_type": "code",
   "execution_count": 10,
   "metadata": {},
   "outputs": [
    {
     "data": {
      "text/plain": [
       "VendorID                 0\n",
       "tpep_pickup_datetime     0\n",
       "tpep_dropoff_datetime    0\n",
       "passenger_count          0\n",
       "trip_distance            0\n",
       "RatecodeID               0\n",
       "store_and_fwd_flag       0\n",
       "PULocationID             0\n",
       "DOLocationID             0\n",
       "payment_type             0\n",
       "fare_amount              0\n",
       "extra                    0\n",
       "mta_tax                  0\n",
       "tip_amount               0\n",
       "tolls_amount             0\n",
       "improvement_surcharge    0\n",
       "total_amount             0\n",
       "congestion_surcharge     0\n",
       "dtype: int64"
      ]
     },
     "execution_count": 10,
     "metadata": {},
     "output_type": "execute_result"
    }
   ],
   "source": [
    "trip_data.isna().sum()"
   ]
  },
  {
   "cell_type": "markdown",
   "metadata": {},
   "source": [
    "## Preview values of each column - how much is usually charged? About how much would people tip?"
   ]
  },
  {
   "cell_type": "code",
   "execution_count": 13,
   "metadata": {},
   "outputs": [
    {
     "data": {
      "image/png": "[encoded data removed]",
      "text/plain": [
       "<Figure size 432x288 with 1 Axes>"
      ]
     },
     "metadata": {
      "needs_background": "light"
     },
     "output_type": "display_data"
    }
   ],
   "source": [
    "plt.hist(trip_data['fare_amount'][(trip_data['fare_amount'] < 100) & (trip_data['fare_amount'] > 0)],\n",
    "         bins = 100);\n",
    "\n",
    "plt.title('Fare amounts greater than 0, less than 100')\n",
    "plt.xlabel('Fare amount')\n",
    "plt.ylabel('Frequency')\n",
    "\n",
    "plt.show()\n",
    "# there are some outrageous values"
   ]
  },
  {
   "cell_type": "code",
   "execution_count": 14,
   "metadata": {},
   "outputs": [
    {
     "data": {
      "text/plain": [
       "Text(0, 0.5, 'Frequency')"
      ]
     },
     "execution_count": 14,
     "metadata": {},
     "output_type": "execute_result"
    },
    {
     "data": {
      "image/png": "[encoded data removed]",
      "text/plain": [
       "<Figure size 432x288 with 1 Axes>"
      ]
     },
     "metadata": {
      "needs_background": "light"
     },
     "output_type": "display_data"
    }
   ],
   "source": [
    "plt.hist(trip_data['tip_amount'][(trip_data['tip_amount'] < 55) & (trip_data['tip_amount'] > 0)],\n",
    "         bins = 75);\n",
    "\n",
    "plt.title('Tip Amount')\n",
    "plt.xlabel('Tip Amount')\n",
    "plt.ylabel('Frequency')\n",
    "\n",
    "#there are some outrageous values"
   ]
  },
  {
   "cell_type": "code",
   "execution_count": 15,
   "metadata": {},
   "outputs": [
    {
     "data": {
      "text/plain": [
       "408899"
      ]
     },
     "execution_count": 15,
     "metadata": {},
     "output_type": "execute_result"
    }
   ],
   "source": [
    "(trip_data.tip_amount/trip_data.fare_amount > .25).sum()"
   ]
  },
  {
   "cell_type": "code",
   "execution_count": 16,
   "metadata": {},
   "outputs": [
    {
     "data": {
      "text/plain": [
       "84560"
      ]
     },
     "execution_count": 16,
     "metadata": {},
     "output_type": "execute_result"
    }
   ],
   "source": [
    "(trip_data.tip_amount > 5).sum()"
   ]
  },
  {
   "cell_type": "code",
   "execution_count": 17,
   "metadata": {},
   "outputs": [
    {
     "data": {
      "text/plain": [
       "count    1.000001e+06\n",
       "mean     2.210692e+00\n",
       "std      2.789485e+00\n",
       "min     -1.860000e+00\n",
       "25%      0.000000e+00\n",
       "50%      1.950000e+00\n",
       "75%      2.960000e+00\n",
       "max      4.408000e+02\n",
       "Name: tip_amount, dtype: float64"
      ]
     },
     "execution_count": 17,
     "metadata": {},
     "output_type": "execute_result"
    }
   ],
   "source": [
    "trip_data['tip_amount'].describe()"
   ]
  },
  {
   "cell_type": "code",
   "execution_count": 18,
   "metadata": {},
   "outputs": [
    {
     "data": {
      "text/plain": [
       "519322    440.80\n",
       "492047    333.20\n",
       "844279    250.08\n",
       "526255    222.00\n",
       "850029    208.17\n",
       "175486    150.00\n",
       "702933    148.88\n",
       "380610    145.06\n",
       "433837    119.98\n",
       "437170    111.16\n",
       "Name: tip_amount, dtype: float64"
      ]
     },
     "execution_count": 18,
     "metadata": {},
     "output_type": "execute_result"
    }
   ],
   "source": [
    "trip_data['tip_amount'].sort_values(ascending = False)[0:10]"
   ]
  },
  {
   "cell_type": "markdown",
   "metadata": {},
   "source": [
    "## Datetime the dates & times"
   ]
  },
  {
   "cell_type": "code",
   "execution_count": 19,
   "metadata": {},
   "outputs": [],
   "source": [
    "import datetime\n",
    "import numpy as np"
   ]
  },
  {
   "cell_type": "code",
   "execution_count": 20,
   "metadata": {
    "scrolled": true
   },
   "outputs": [
    {
     "data": {
      "text/plain": [
       "VendorID                   int64\n",
       "tpep_pickup_datetime      object\n",
       "tpep_dropoff_datetime     object\n",
       "passenger_count            int64\n",
       "trip_distance            float64\n",
       "RatecodeID                 int64\n",
       "store_and_fwd_flag        object\n",
       "PULocationID               int64\n",
       "DOLocationID               int64\n",
       "payment_type               int64\n",
       "fare_amount              float64\n",
       "extra                    float64\n",
       "mta_tax                  float64\n",
       "tip_amount               float64\n",
       "tolls_amount             float64\n",
       "improvement_surcharge    float64\n",
       "total_amount             float64\n",
       "congestion_surcharge     float64\n",
       "dtype: object"
      ]
     },
     "execution_count": 20,
     "metadata": {},
     "output_type": "execute_result"
    }
   ],
   "source": [
    "trip_data.dtypes"
   ]
  },
  {
   "cell_type": "code",
   "execution_count": 21,
   "metadata": {},
   "outputs": [
    {
     "data": {
      "text/plain": [
       "datetime.datetime(2019, 4, 1, 0, 38, 35)"
      ]
     },
     "execution_count": 21,
     "metadata": {},
     "output_type": "execute_result"
    }
   ],
   "source": [
    "#How to get datetime format from given format\n",
    "datetime.datetime.fromisoformat(trip_data.tpep_pickup_datetime[0])"
   ]
  },
  {
   "cell_type": "code",
   "execution_count": 22,
   "metadata": {},
   "outputs": [],
   "source": [
    "#function for one input to get hour and time\n",
    "def hour_from_iso(string_here):\n",
    "    return datetime.datetime.fromisoformat(string_here).hour\n",
    "\n",
    "def datetime_from_iso(string_here):\n",
    "    return datetime.datetime.fromisoformat(string_here)"
   ]
  },
  {
   "cell_type": "code",
   "execution_count": 23,
   "metadata": {},
   "outputs": [],
   "source": [
    "#Create new column for pick up hour\n",
    "trip_data['pickup_hour'] = trip_data['tpep_pickup_datetime'].apply(hour_from_iso)\n"
   ]
  },
  {
   "cell_type": "code",
   "execution_count": 24,
   "metadata": {},
   "outputs": [
    {
     "data": {
      "text/plain": [
       "999996     23\n",
       "999997     23\n",
       "999998     23\n",
       "999999     23\n",
       "1000000    23\n",
       "Name: pickup_hour, dtype: int64"
      ]
     },
     "execution_count": 24,
     "metadata": {},
     "output_type": "execute_result"
    }
   ],
   "source": [
    "trip_data['pickup_hour'][-5:]"
   ]
  },
  {
   "cell_type": "code",
   "execution_count": 25,
   "metadata": {},
   "outputs": [],
   "source": [
    "#Create new column for drop off hour\n",
    "trip_data['dropoff_hour'] = trip_data['tpep_dropoff_datetime'].apply(hour_from_iso)"
   ]
  },
  {
   "cell_type": "code",
   "execution_count": 26,
   "metadata": {},
   "outputs": [
    {
     "data": {
      "text/plain": [
       "0    0\n",
       "1    0\n",
       "2    1\n",
       "3    0\n",
       "4    1\n",
       "Name: dropoff_hour, dtype: int64"
      ]
     },
     "execution_count": 26,
     "metadata": {},
     "output_type": "execute_result"
    }
   ],
   "source": [
    "trip_data['dropoff_hour'][:5]"
   ]
  },
  {
   "cell_type": "code",
   "execution_count": 27,
   "metadata": {},
   "outputs": [],
   "source": [
    "trip_data['duration'] = trip_data['tpep_dropoff_datetime'].apply(datetime_from_iso) - trip_data['tpep_pickup_datetime'].apply(datetime_from_iso)\n",
    "\n"
   ]
  },
  {
   "cell_type": "code",
   "execution_count": 28,
   "metadata": {},
   "outputs": [
    {
     "data": {
      "text/plain": [
       "0   00:10:35\n",
       "1   00:05:50\n",
       "2   00:04:32\n",
       "3   00:07:48\n",
       "4   00:19:21\n",
       "Name: duration, dtype: timedelta64[ns]"
      ]
     },
     "execution_count": 28,
     "metadata": {},
     "output_type": "execute_result"
    }
   ],
   "source": [
    "trip_data['duration'][:5]"
   ]
  },
  {
   "cell_type": "code",
   "execution_count": 29,
   "metadata": {},
   "outputs": [
    {
     "data": {
      "text/plain": [
       "635.0"
      ]
     },
     "execution_count": 29,
     "metadata": {},
     "output_type": "execute_result"
    }
   ],
   "source": [
    "trip_data.duration[0].total_seconds()"
   ]
  },
  {
   "cell_type": "code",
   "execution_count": 30,
   "metadata": {},
   "outputs": [],
   "source": [
    "trip_data['duration_s'] = trip_data['duration'].apply(lambda x: x.total_seconds())"
   ]
  },
  {
   "cell_type": "code",
   "execution_count": 31,
   "metadata": {},
   "outputs": [
    {
     "data": {
      "text/plain": [
       "0     635.0\n",
       "1     350.0\n",
       "2     272.0\n",
       "3     468.0\n",
       "4    1161.0\n",
       "Name: duration_s, dtype: float64"
      ]
     },
     "execution_count": 31,
     "metadata": {},
     "output_type": "execute_result"
    }
   ],
   "source": [
    "trip_data.duration_s[:5]"
   ]
  },
  {
   "cell_type": "code",
   "execution_count": 32,
   "metadata": {},
   "outputs": [
    {
     "data": {
      "text/html": [
       "<div>\n",
       "<style scoped>\n",
       "    .dataframe tbody tr th:only-of-type {\n",
       "        vertical-align: middle;\n",
       "    }\n",
       "\n",
       "    .dataframe tbody tr th {\n",
       "        vertical-align: top;\n",
       "    }\n",
       "\n",
       "    .dataframe thead th {\n",
       "        text-align: right;\n",
       "    }\n",
       "</style>\n",
       "<table border=\"1\" class=\"dataframe\">\n",
       "  <thead>\n",
       "    <tr style=\"text-align: right;\">\n",
       "      <th></th>\n",
       "      <th>VendorID</th>\n",
       "      <th>tpep_pickup_datetime</th>\n",
       "      <th>tpep_dropoff_datetime</th>\n",
       "      <th>passenger_count</th>\n",
       "      <th>trip_distance</th>\n",
       "      <th>RatecodeID</th>\n",
       "      <th>store_and_fwd_flag</th>\n",
       "      <th>PULocationID</th>\n",
       "      <th>DOLocationID</th>\n",
       "      <th>payment_type</th>\n",
       "      <th>...</th>\n",
       "      <th>mta_tax</th>\n",
       "      <th>tip_amount</th>\n",
       "      <th>tolls_amount</th>\n",
       "      <th>improvement_surcharge</th>\n",
       "      <th>total_amount</th>\n",
       "      <th>congestion_surcharge</th>\n",
       "      <th>pickup_hour</th>\n",
       "      <th>dropoff_hour</th>\n",
       "      <th>duration</th>\n",
       "      <th>duration_s</th>\n",
       "    </tr>\n",
       "  </thead>\n",
       "  <tbody>\n",
       "    <tr>\n",
       "      <th>0</th>\n",
       "      <td>2</td>\n",
       "      <td>2019-04-01 00:38:35</td>\n",
       "      <td>2019-04-01 00:49:10</td>\n",
       "      <td>2</td>\n",
       "      <td>3.39</td>\n",
       "      <td>1</td>\n",
       "      <td>N</td>\n",
       "      <td>237</td>\n",
       "      <td>42</td>\n",
       "      <td>2</td>\n",
       "      <td>...</td>\n",
       "      <td>0.5</td>\n",
       "      <td>0.0</td>\n",
       "      <td>0.0</td>\n",
       "      <td>0.3</td>\n",
       "      <td>15.3</td>\n",
       "      <td>2.5</td>\n",
       "      <td>0</td>\n",
       "      <td>0</td>\n",
       "      <td>00:10:35</td>\n",
       "      <td>635.0</td>\n",
       "    </tr>\n",
       "    <tr>\n",
       "      <th>1</th>\n",
       "      <td>1</td>\n",
       "      <td>2019-04-01 00:07:54</td>\n",
       "      <td>2019-04-01 00:13:44</td>\n",
       "      <td>1</td>\n",
       "      <td>1.50</td>\n",
       "      <td>1</td>\n",
       "      <td>N</td>\n",
       "      <td>25</td>\n",
       "      <td>181</td>\n",
       "      <td>1</td>\n",
       "      <td>...</td>\n",
       "      <td>0.5</td>\n",
       "      <td>1.0</td>\n",
       "      <td>0.0</td>\n",
       "      <td>0.3</td>\n",
       "      <td>9.3</td>\n",
       "      <td>0.0</td>\n",
       "      <td>0</td>\n",
       "      <td>0</td>\n",
       "      <td>00:05:50</td>\n",
       "      <td>350.0</td>\n",
       "    </tr>\n",
       "  </tbody>\n",
       "</table>\n",
       "<p>2 rows × 22 columns</p>\n",
       "</div>"
      ],
      "text/plain": [
       "   VendorID tpep_pickup_datetime tpep_dropoff_datetime  passenger_count  \\\n",
       "0         2  2019-04-01 00:38:35   2019-04-01 00:49:10                2   \n",
       "1         1  2019-04-01 00:07:54   2019-04-01 00:13:44                1   \n",
       "\n",
       "   trip_distance  RatecodeID store_and_fwd_flag  PULocationID  DOLocationID  \\\n",
       "0           3.39           1                  N           237            42   \n",
       "1           1.50           1                  N            25           181   \n",
       "\n",
       "   payment_type  ...  mta_tax  tip_amount  tolls_amount  \\\n",
       "0             2  ...      0.5         0.0           0.0   \n",
       "1             1  ...      0.5         1.0           0.0   \n",
       "\n",
       "   improvement_surcharge  total_amount  congestion_surcharge  pickup_hour  \\\n",
       "0                    0.3          15.3                   2.5            0   \n",
       "1                    0.3           9.3                   0.0            0   \n",
       "\n",
       "   dropoff_hour  duration  duration_s  \n",
       "0             0  00:10:35       635.0  \n",
       "1             0  00:05:50       350.0  \n",
       "\n",
       "[2 rows x 22 columns]"
      ]
     },
     "execution_count": 32,
     "metadata": {},
     "output_type": "execute_result"
    }
   ],
   "source": [
    "trip_data.head(2)"
   ]
  },
  {
   "cell_type": "markdown",
   "metadata": {},
   "source": [
    "## Check linear dependency of variables"
   ]
  },
  {
   "cell_type": "code",
   "execution_count": 33,
   "metadata": {},
   "outputs": [
    {
     "data": {
      "text/plain": [
       "15.3"
      ]
     },
     "execution_count": 33,
     "metadata": {},
     "output_type": "execute_result"
    }
   ],
   "source": [
    "trip_data.fare_amount[0] + trip_data.extra[0] + trip_data.mta_tax[0] + trip_data.tip_amount[0] + trip_data.tolls_amount[0] + trip_data.improvement_surcharge[0] + trip_data.congestion_surcharge[0]"
   ]
  },
  {
   "cell_type": "code",
   "execution_count": 34,
   "metadata": {},
   "outputs": [
    {
     "data": {
      "text/plain": [
       "15.3"
      ]
     },
     "execution_count": 34,
     "metadata": {},
     "output_type": "execute_result"
    }
   ],
   "source": [
    "trip_data.total_amount[0]"
   ]
  },
  {
   "cell_type": "code",
   "execution_count": 35,
   "metadata": {},
   "outputs": [
    {
     "name": "stdout",
     "output_type": "stream",
     "text": [
      "total_amount = fare_amount + extra + mta_tax + tip_amount + tolls_amount + \n",
      "improvement_surcharge + congestion_surcharge\n"
     ]
    }
   ],
   "source": [
    "print(\"\"\"total_amount = fare_amount + extra + mta_tax + tip_amount + tolls_amount + \n",
    "improvement_surcharge + congestion_surcharge\"\"\")\n",
    "# drop improvement surcharge?"
   ]
  },
  {
   "cell_type": "markdown",
   "metadata": {},
   "source": [
    "## Check what to drop"
   ]
  },
  {
   "cell_type": "code",
   "execution_count": 36,
   "metadata": {},
   "outputs": [
    {
     "data": {
      "text/plain": [
       "['VendorID',\n",
       " 'tpep_pickup_datetime',\n",
       " 'tpep_dropoff_datetime',\n",
       " 'passenger_count',\n",
       " 'trip_distance',\n",
       " 'RatecodeID',\n",
       " 'store_and_fwd_flag',\n",
       " 'PULocationID',\n",
       " 'DOLocationID',\n",
       " 'payment_type',\n",
       " 'fare_amount',\n",
       " 'extra',\n",
       " 'mta_tax',\n",
       " 'tip_amount',\n",
       " 'tolls_amount',\n",
       " 'improvement_surcharge',\n",
       " 'total_amount',\n",
       " 'congestion_surcharge',\n",
       " 'pickup_hour',\n",
       " 'dropoff_hour',\n",
       " 'duration',\n",
       " 'duration_s']"
      ]
     },
     "execution_count": 36,
     "metadata": {},
     "output_type": "execute_result"
    }
   ],
   "source": [
    "list(trip_data.columns)"
   ]
  },
  {
   "cell_type": "code",
   "execution_count": 37,
   "metadata": {},
   "outputs": [
    {
     "data": {
      "text/plain": [
       "0     18347\n",
       "1    701121\n",
       "2    149446\n",
       "3     42810\n",
       "4     20642\n",
       "5     42320\n",
       "6     25307\n",
       "7         3\n",
       "8         5\n",
       "Name: passenger_count, dtype: int64"
      ]
     },
     "execution_count": 37,
     "metadata": {},
     "output_type": "execute_result"
    }
   ],
   "source": [
    "trip_data['passenger_count'].value_counts().sort_index(ascending = True) # will need to dummy this"
   ]
  },
  {
   "cell_type": "code",
   "execution_count": 38,
   "metadata": {},
   "outputs": [
    {
     "data": {
      "text/plain": [
       "50.10     1\n",
       "50.75     1\n",
       "50.90     1\n",
       "51.04     1\n",
       "51.82     1\n",
       "52.06     1\n",
       "53.21     1\n",
       "53.32     1\n",
       "53.66     1\n",
       "53.70     1\n",
       "53.73     1\n",
       "53.90     1\n",
       "54.30     1\n",
       "54.76     2\n",
       "55.35     1\n",
       "55.42     1\n",
       "55.80     1\n",
       "56.19     1\n",
       "56.50     1\n",
       "57.10     2\n",
       "57.30     1\n",
       "57.88     1\n",
       "58.62     1\n",
       "58.80     1\n",
       "58.95     1\n",
       "60.90     1\n",
       "61.02     1\n",
       "64.70     1\n",
       "65.55     1\n",
       "68.09     1\n",
       "69.57     1\n",
       "69.60     1\n",
       "70.50     1\n",
       "72.31     1\n",
       "75.65     1\n",
       "82.88     1\n",
       "87.60     1\n",
       "88.96     1\n",
       "93.00     2\n",
       "105.55    1\n",
       "124.89    1\n",
       "151.28    1\n",
       "Name: trip_distance, dtype: int64"
      ]
     },
     "execution_count": 38,
     "metadata": {},
     "output_type": "execute_result"
    }
   ],
   "source": [
    "trip_data['trip_distance'][trip_data['trip_distance']>50].value_counts().sort_index()\n",
    "# check to see if people really take taxis for over 50 miles\n",
    "# they do?\n",
    "# even the 202.70 miles is real, but was copied an extra 2 times\n",
    "# 65.20 too"
   ]
  },
  {
   "cell_type": "code",
   "execution_count": 39,
   "metadata": {},
   "outputs": [
    {
     "data": {
      "text/plain": [
       "423322   02:35:12\n",
       "Name: duration, dtype: timedelta64[ns]"
      ]
     },
     "execution_count": 39,
     "metadata": {},
     "output_type": "execute_result"
    }
   ],
   "source": [
    "trip_data['duration'][trip_data['trip_distance'] == 151.28]"
   ]
  },
  {
   "cell_type": "code",
   "execution_count": 40,
   "metadata": {},
   "outputs": [
    {
     "data": {
      "text/plain": [
       "1     965607\n",
       "2      26212\n",
       "3       2084\n",
       "4        811\n",
       "5       5234\n",
       "6         12\n",
       "99        41\n",
       "Name: RatecodeID, dtype: int64"
      ]
     },
     "execution_count": 40,
     "metadata": {},
     "output_type": "execute_result"
    }
   ],
   "source": [
    "trip_data['RatecodeID'].value_counts().sort_index() # need to drop 99s"
   ]
  },
  {
   "cell_type": "code",
   "execution_count": 41,
   "metadata": {},
   "outputs": [
    {
     "data": {
      "text/plain": [
       "N    994253\n",
       "Y      5748\n",
       "Name: store_and_fwd_flag, dtype: int64"
      ]
     },
     "execution_count": 41,
     "metadata": {},
     "output_type": "execute_result"
    }
   ],
   "source": [
    "trip_data['store_and_fwd_flag'].value_counts() # dummy this, or drop?"
   ]
  },
  {
   "cell_type": "code",
   "execution_count": 42,
   "metadata": {},
   "outputs": [
    {
     "data": {
      "text/plain": [
       "237    44401\n",
       "161    42592\n",
       "236    40034\n",
       "162    36483\n",
       "186    34427\n",
       "       ...  \n",
       "245        2\n",
       "251        1\n",
       "253        1\n",
       "221        1\n",
       "2          1\n",
       "Name: PULocationID, Length: 252, dtype: int64"
      ]
     },
     "execution_count": 42,
     "metadata": {},
     "output_type": "execute_result"
    }
   ],
   "source": [
    "trip_data['PULocationID'].value_counts() # dummy this? 253/252 values..."
   ]
  },
  {
   "cell_type": "code",
   "execution_count": 43,
   "metadata": {},
   "outputs": [
    {
     "data": {
      "text/plain": [
       "236    42030\n",
       "237    39943\n",
       "161    39312\n",
       "170    30893\n",
       "230    30585\n",
       "       ...  \n",
       "176        7\n",
       "59         6\n",
       "187        5\n",
       "84         3\n",
       "99         1\n",
       "Name: DOLocationID, Length: 259, dtype: int64"
      ]
     },
     "execution_count": 43,
     "metadata": {},
     "output_type": "execute_result"
    }
   ],
   "source": [
    "trip_data['DOLocationID'].value_counts() # dummy this? 261 values..."
   ]
  },
  {
   "cell_type": "code",
   "execution_count": 44,
   "metadata": {},
   "outputs": [
    {
     "data": {
      "text/plain": [
       "1    719796\n",
       "2    273238\n",
       "3      5113\n",
       "4      1854\n",
       "Name: payment_type, dtype: int64"
      ]
     },
     "execution_count": 44,
     "metadata": {},
     "output_type": "execute_result"
    }
   ],
   "source": [
    "trip_data['payment_type'].value_counts() # dummy this"
   ]
  },
  {
   "cell_type": "code",
   "execution_count": 45,
   "metadata": {},
   "outputs": [
    {
     "data": {
      "text/plain": [
       "-250.0    1\n",
       "-125.8    1\n",
       "-100.0    1\n",
       "-85.0     1\n",
       "-80.0     2\n",
       "         ..\n",
       " 400.0    3\n",
       " 403.0    1\n",
       " 405.0    1\n",
       " 500.0    1\n",
       " 572.5    1\n",
       "Name: fare_amount, Length: 1778, dtype: int64"
      ]
     },
     "execution_count": 45,
     "metadata": {},
     "output_type": "execute_result"
    }
   ],
   "source": [
    "trip_data['fare_amount'].value_counts().sort_index() # drop negative values \n",
    "# and also drop unreasonably high values"
   ]
  },
  {
   "cell_type": "code",
   "execution_count": 46,
   "metadata": {},
   "outputs": [
    {
     "data": {
      "text/plain": [
       "1642      180.0\n",
       "7974      170.0\n",
       "8371      324.0\n",
       "12241     231.0\n",
       "14831     165.5\n",
       "          ...  \n",
       "985495    176.0\n",
       "992060    187.0\n",
       "996041    230.0\n",
       "996811    151.5\n",
       "998380    151.0\n",
       "Name: fare_amount, Length: 262, dtype: float64"
      ]
     },
     "execution_count": 46,
     "metadata": {},
     "output_type": "execute_result"
    }
   ],
   "source": [
    "trip_data['fare_amount'][trip_data['fare_amount'] > 150]\n",
    "# drop above 150"
   ]
  },
  {
   "cell_type": "code",
   "execution_count": 47,
   "metadata": {},
   "outputs": [
    {
     "data": {
      "text/plain": [
       " 0.00     343510\n",
       " 0.50     191990\n",
       " 2.50     182114\n",
       " 1.00     114483\n",
       " 3.00      97212\n",
       " 3.50      64525\n",
       " 4.50       3660\n",
       " 7.00       1612\n",
       "-0.50        516\n",
       "-1.00        258\n",
       " 0.80         31\n",
       " 1.30         17\n",
       " 3.73         15\n",
       "-4.50         14\n",
       " 2.00         11\n",
       " 4.96          6\n",
       " 17.50         6\n",
       " 1.80          5\n",
       "-2.00          5\n",
       " 3.30          2\n",
       " 18.00         1\n",
       " 5.00          1\n",
       " 0.30          1\n",
       " 5.50          1\n",
       " 1.23          1\n",
       " 5.30          1\n",
       " 2.80          1\n",
       " 2.46          1\n",
       " 2.05          1\n",
       "Name: extra, dtype: int64"
      ]
     },
     "execution_count": 47,
     "metadata": {},
     "output_type": "execute_result"
    }
   ],
   "source": [
    "trip_data['extra'].value_counts() # $0.50 for rush hour, $1 for overnight\n",
    "# there are some other values. not sure what they mean"
   ]
  },
  {
   "cell_type": "code",
   "execution_count": 48,
   "metadata": {},
   "outputs": [
    {
     "data": {
      "text/plain": [
       "0"
      ]
     },
     "execution_count": 48,
     "metadata": {},
     "output_type": "execute_result"
    }
   ],
   "source": [
    "trip_data.extra.isna().sum() # bretter drop those NaN values too"
   ]
  },
  {
   "cell_type": "code",
   "execution_count": 49,
   "metadata": {},
   "outputs": [
    {
     "data": {
      "text/plain": [
       " 0.5    993041\n",
       " 0.0      5377\n",
       "-0.5      1581\n",
       " 0.9         1\n",
       " 3.3         1\n",
       "Name: mta_tax, dtype: int64"
      ]
     },
     "execution_count": 49,
     "metadata": {},
     "output_type": "execute_result"
    }
   ],
   "source": [
    "trip_data['mta_tax'].value_counts() # drop -0.5 and 3.3"
   ]
  },
  {
   "cell_type": "code",
   "execution_count": 50,
   "metadata": {},
   "outputs": [],
   "source": [
    "#drop surcharge due to collinearity"
   ]
  },
  {
   "cell_type": "code",
   "execution_count": 51,
   "metadata": {},
   "outputs": [
    {
     "data": {
      "text/plain": [
       "-10.50         1\n",
       "-6.12         28\n",
       "-5.00          1\n",
       "-2.80          1\n",
       " 0.00     941577\n",
       "           ...  \n",
       " 79.25         1\n",
       " 80.00         1\n",
       " 95.00         1\n",
       " 96.12         2\n",
       " 97.00         1\n",
       "Name: tolls_amount, Length: 399, dtype: int64"
      ]
     },
     "execution_count": 51,
     "metadata": {},
     "output_type": "execute_result"
    }
   ],
   "source": [
    "# tolls_amount\n",
    "trip_data['tolls_amount'].value_counts().sort_index()"
   ]
  },
  {
   "cell_type": "code",
   "execution_count": 52,
   "metadata": {},
   "outputs": [
    {
     "data": {
      "text/plain": [
       "Series([], Name: duration, dtype: timedelta64[ns])"
      ]
     },
     "execution_count": 52,
     "metadata": {},
     "output_type": "execute_result"
    }
   ],
   "source": [
    "trip_data['duration'][trip_data['tolls_amount'] == 617] # check to see if that $617 outlier is real\n",
    "# it actually has a chance of being real"
   ]
  },
  {
   "cell_type": "code",
   "execution_count": 53,
   "metadata": {},
   "outputs": [
    {
     "data": {
      "text/plain": [
       "-253.30    1\n",
       "-126.60    1\n",
       "-100.80    1\n",
       "-88.30     1\n",
       "-86.92     1\n",
       "          ..\n",
       " 468.96    1\n",
       " 480.35    1\n",
       " 493.60    1\n",
       " 514.04    1\n",
       " 602.52    1\n",
       "Name: total_amount, Length: 6647, dtype: int64"
      ]
     },
     "execution_count": 53,
     "metadata": {},
     "output_type": "execute_result"
    }
   ],
   "source": [
    "# total_amount\n",
    "trip_data['total_amount'].value_counts().sort_index() # obviously continuous"
   ]
  },
  {
   "cell_type": "code",
   "execution_count": 118,
   "metadata": {},
   "outputs": [
    {
     "data": {
      "text/plain": [
       "122512   00:00:27\n",
       "Name: duration, dtype: timedelta64[ns]"
      ]
     },
     "execution_count": 118,
     "metadata": {},
     "output_type": "execute_result"
    }
   ],
   "source": [
    "trip_data['duration'][trip_data['total_amount'] == 3036.29]\n",
    "# checking to see if that $3k trip was real -> 27 second trip, probably mistake so drop"
   ]
  },
  {
   "cell_type": "markdown",
   "metadata": {},
   "source": [
    "## Drop Plan"
   ]
  },
  {
   "cell_type": "code",
   "execution_count": null,
   "metadata": {},
   "outputs": [],
   "source": [
    "# Planning the cleaning\n",
    "\n",
    "## 'VendorID', - DROP\n",
    "## 'tpep_pickup_datetime', - DROP in favor of hour\n",
    "## 'tpep_dropoff_datetime', - DROP in favor of hour\n",
    "# 'passenger_count', - DUMMY this\n",
    "## 'trip_distance', - DROP WHERE distance > 50 AND DURATION.MINUTE < 5\n",
    "## 'RatecodeID', - DROP 99 THEN DUMMY\n",
    "## 'store_and_fwd_flag', - DROP, 99.6% are YES and it's not relevant\n",
    "# 'PULocationID', - DUMMY\n",
    "# 'DOLocationID', - DUMMY\n",
    "# 'payment_type', - DUMMY\n",
    "## 'fare_amount', - DROP < 0 and (> 200 with duration < 1 min)\n",
    "## 'extra', - DROP negatives AND NaNs\n",
    "## 'mta_tax', - DROP WHERE NOT EQUAL TO 0 OR 0.5\n",
    "# 'tip_amount', \n",
    "## 'tolls_amount', - DROP negatives\n",
    "## 'improvement_surcharge',\n",
    "# 'total_amount',\n",
    "## 'congestion_surcharge',\n",
    "# 'pickup_hour',\n",
    "## 'dropoff_hour', - made this but probably don't need\n",
    "# 'duration', will keep this in dataframe but not use this, in favor of duration_s\n",
    "# 'duration_s'\n",
    "\n",
    "# made a 'good_or_nah' column for good tip or nah"
   ]
  },
  {
   "cell_type": "markdown",
   "metadata": {},
   "source": [
    "## Just drop"
   ]
  },
  {
   "cell_type": "code",
   "execution_count": 57,
   "metadata": {},
   "outputs": [],
   "source": [
    "trip_data.drop(columns = ['VendorID', \n",
    "                          'improvement_surcharge',\n",
    "                          'tpep_pickup_datetime',# grabbed the hour from this, which ranged 0-23\n",
    "                          'tpep_dropoff_datetime',#dropped tpep dropoff datetime to avoid dependency to duration, which we made\n",
    "                          'dropoff_hour',#made this but probably don't need\n",
    "                          'store_and_fwd_flag',\n",
    "                          'congestion_surcharge'],#drop to avoid total's dependency on this\n",
    "               inplace = True)"
   ]
  },
  {
   "cell_type": "code",
   "execution_count": 58,
   "metadata": {},
   "outputs": [
    {
     "data": {
      "text/plain": [
       "Index(['passenger_count', 'trip_distance', 'RatecodeID', 'PULocationID',\n",
       "       'DOLocationID', 'payment_type', 'fare_amount', 'extra', 'mta_tax',\n",
       "       'tip_amount', 'tolls_amount', 'total_amount', 'pickup_hour', 'duration',\n",
       "       'duration_s'],\n",
       "      dtype='object')"
      ]
     },
     "execution_count": 58,
     "metadata": {},
     "output_type": "execute_result"
    }
   ],
   "source": [
    "trip_data.columns"
   ]
  },
  {
   "cell_type": "markdown",
   "metadata": {},
   "source": [
    "### Drop before dummy ones"
   ]
  },
  {
   "cell_type": "code",
   "execution_count": 33,
   "metadata": {},
   "outputs": [],
   "source": [
    "# can also do inplace = true"
   ]
  },
  {
   "cell_type": "code",
   "execution_count": 59,
   "metadata": {},
   "outputs": [],
   "source": [
    "# drop ones where they travelled over 50 miles in less than 5 minutes\n",
    "# these end up being the accidental copies\n",
    "trip_data = trip_data.drop(trip_data[(trip_data['trip_distance'] >= 50) & ((trip_data['duration_s'] // 60) < 5)].index)\n"
   ]
  },
  {
   "cell_type": "code",
   "execution_count": 60,
   "metadata": {},
   "outputs": [],
   "source": [
    "trip_data = trip_data.drop(trip_data[trip_data['RatecodeID'] == 99].index)"
   ]
  },
  {
   "cell_type": "code",
   "execution_count": 61,
   "metadata": {},
   "outputs": [],
   "source": [
    "# drop where fare amount is negative\n",
    "trip_data = trip_data.drop(trip_data[(trip_data['fare_amount'] < 0)].index)"
   ]
  },
  {
   "cell_type": "code",
   "execution_count": 62,
   "metadata": {},
   "outputs": [],
   "source": [
    "# drop where fare amount is over $200 but the ride was less than a minute\n",
    "trip_data = trip_data.drop(trip_data[(trip_data['fare_amount'] > 200) & (trip_data['duration_s'] < 60)].index)"
   ]
  },
  {
   "cell_type": "code",
   "execution_count": 63,
   "metadata": {},
   "outputs": [],
   "source": [
    "# drop negative extra\n",
    "trip_data['extra'] = trip_data['extra'][trip_data['extra'] >= 0]"
   ]
  },
  {
   "cell_type": "code",
   "execution_count": 64,
   "metadata": {},
   "outputs": [],
   "source": [
    "# drop NaNs from extra\n",
    "trip_data.dropna(axis = 0, how = 'any', subset = ['extra'], inplace = True)"
   ]
  },
  {
   "cell_type": "code",
   "execution_count": 40,
   "metadata": {},
   "outputs": [],
   "source": [
    "# drop whatever mta tax isn't 0 or 0.5\n",
    "\n",
    "#trip_data = trip_data.drop(trip_data[(trip_data['mta_tax'] != 0) or (trip_data['mta_tax'] != 0.5)].index)\n",
    "\n",
    "#**don't run this or else the entire dataframe gets deleted for some reason. is it because\n",
    "#there are no values to drop?**"
   ]
  },
  {
   "cell_type": "code",
   "execution_count": 65,
   "metadata": {},
   "outputs": [
    {
     "data": {
      "text/plain": [
       "0.5    993003\n",
       "0.0      5301\n",
       "0.9         1\n",
       "Name: mta_tax, dtype: int64"
      ]
     },
     "execution_count": 65,
     "metadata": {},
     "output_type": "execute_result"
    }
   ],
   "source": [
    "trip_data.mta_tax.value_counts()"
   ]
  },
  {
   "cell_type": "code",
   "execution_count": 66,
   "metadata": {},
   "outputs": [],
   "source": [
    "# all negative tolls have been dealt with from above nicely enough"
   ]
  },
  {
   "cell_type": "code",
   "execution_count": 67,
   "metadata": {},
   "outputs": [
    {
     "data": {
      "text/plain": [
       "0"
      ]
     },
     "execution_count": 67,
     "metadata": {},
     "output_type": "execute_result"
    }
   ],
   "source": [
    "(trip_data.tolls_amount < 0).sum()"
   ]
  },
  {
   "cell_type": "code",
   "execution_count": null,
   "metadata": {},
   "outputs": [],
   "source": [
    "# congestion surcharge is dropped or else total would just be a sum of several others"
   ]
  },
  {
   "cell_type": "markdown",
   "metadata": {},
   "source": [
    "### MAKE GOOD OR NAH COLUMN BEFORE DROPPING TIP AMT"
   ]
  },
  {
   "cell_type": "markdown",
   "metadata": {},
   "source": [
    "Define what a good tip is as at least 25% of fare<br>\n",
    "https://www.tripsavvy.com/guide-to-tipping-in-new-york-city-4177115 <br>\n",
    "says usual tip is 10-20% of fare"
   ]
  },
  {
   "cell_type": "code",
   "execution_count": 68,
   "metadata": {},
   "outputs": [
    {
     "data": {
      "text/plain": [
       "232885"
      ]
     },
     "execution_count": 68,
     "metadata": {},
     "output_type": "execute_result"
    }
   ],
   "source": [
    "# just checking with flat amounts\n",
    "(trip_data.tip_amount > 3).sum() #242408"
   ]
  },
  {
   "cell_type": "code",
   "execution_count": 69,
   "metadata": {},
   "outputs": [],
   "source": [
    "trip_data['good_or_nah'] = (trip_data.tip_amount/trip_data.fare_amount) > 0.25"
   ]
  },
  {
   "cell_type": "code",
   "execution_count": 73,
   "metadata": {},
   "outputs": [
    {
     "data": {
      "text/plain": [
       "10    False\n",
       "11    False\n",
       "12    False\n",
       "13    False\n",
       "14     True\n",
       "15    False\n",
       "16    False\n",
       "17    False\n",
       "18     True\n",
       "19    False\n",
       "Name: good_or_nah, dtype: bool"
      ]
     },
     "execution_count": 73,
     "metadata": {},
     "output_type": "execute_result"
    }
   ],
   "source": [
    "trip_data['good_or_nah'][10:20]"
   ]
  },
  {
   "cell_type": "code",
   "execution_count": 74,
   "metadata": {},
   "outputs": [],
   "source": [
    "# finally drop tip amount\n",
    "\n",
    "trip_data.drop(columns = ['tip_amount'], inplace = True)"
   ]
  },
  {
   "cell_type": "markdown",
   "metadata": {},
   "source": [
    "## Dummies Plan"
   ]
  },
  {
   "cell_type": "code",
   "execution_count": null,
   "metadata": {},
   "outputs": [],
   "source": [
    "# Planning the cleaning\n",
    "# DOUBLE HASH ONCE PASSED INTO DUMMY COLUMN LIST\n",
    "## 'VendorID', - DROP\n",
    "## 'tpep_pickup_datetime', - DROP in favor of hour\n",
    "## 'tpep_dropoff_datetime', - DROP in favor of hour\n",
    "## 'passenger_count', - DUMMY this\n",
    "## 'trip_distance', - DROP WHERE distance > 50 AND DURATION.MINUTE < 5\n",
    "## 'RatecodeID', - DROP 99 THEN DUMMY\n",
    "## 'store_and_fwd_flag', - DROP, 99.6% are YES and it's not relevant\n",
    "## 'PULocationID', - DUMMY\n",
    "## 'DOLocationID', - DUMMY\n",
    "## 'payment_type', - DUMMY\n",
    "## 'fare_amount', - DROP < 0 and (> 200 with duration < 1 min)\n",
    "## 'extra', - DROP negatives\n",
    "## 'mta_tax', - DROP WHERE NOT EQUAL TO 0 OR 0.5\n",
    "## 'tip_amount', - DROPPED AFTER MAKING GOOD OR NAH\n",
    "## 'tolls_amount', - DROP negatives\n",
    "## 'improvement_surcharge',\n",
    "# 'total_amount',\n",
    "## 'congestion_surcharge',\n",
    "# 'pickup_hour',\n",
    "## 'dropoff_hour', - made this but don't need\n",
    "# 'duration', will keep this in dataframe but not use this, in favor of duration_s\n",
    "# 'duration_s'\n",
    "\n",
    "# made a 'good_or_nah' column for good tip or nah"
   ]
  },
  {
   "cell_type": "markdown",
   "metadata": {},
   "source": [
    "## Get dummies"
   ]
  },
  {
   "cell_type": "code",
   "execution_count": 76,
   "metadata": {},
   "outputs": [],
   "source": [
    "import pandas as pd"
   ]
  },
  {
   "cell_type": "code",
   "execution_count": 77,
   "metadata": {},
   "outputs": [],
   "source": [
    "trip_data = pd.get_dummies(data = trip_data, \n",
    "               columns = ['passenger_count', 'PULocationID', 'DOLocationID', 'payment_type'],\n",
    "              drop_first = True)\n"
   ]
  },
  {
   "cell_type": "code",
   "execution_count": 48,
   "metadata": {},
   "outputs": [],
   "source": [
    "# Before making dummy variables: 15 columns\n"
   ]
  },
  {
   "cell_type": "code",
   "execution_count": 78,
   "metadata": {
    "scrolled": true
   },
   "outputs": [
    {
     "data": {
      "text/plain": [
       "(998305, 531)"
      ]
     },
     "execution_count": 78,
     "metadata": {},
     "output_type": "execute_result"
    }
   ],
   "source": [
    "# After making dummy variables: 535 columns\n",
    "# got rid of 4 rows that had NaNs\n",
    "trip_data.shape # 998507, 535 || 998305, 531"
   ]
  },
  {
   "cell_type": "markdown",
   "metadata": {},
   "source": [
    "## Looking at distribution of the two classes\n",
    "**Total Number of Good Tips vs. Not Good Tips**"
   ]
  },
  {
   "cell_type": "code",
   "execution_count": 79,
   "metadata": {},
   "outputs": [
    {
     "data": {
      "text/plain": [
       "(998305, 531)"
      ]
     },
     "execution_count": 79,
     "metadata": {},
     "output_type": "execute_result"
    }
   ],
   "source": [
    "trip_data.shape"
   ]
  },
  {
   "cell_type": "code",
   "execution_count": 80,
   "metadata": {},
   "outputs": [
    {
     "data": {
      "text/plain": [
       "False    589423\n",
       "True     408882\n",
       "Name: good_or_nah, dtype: int64"
      ]
     },
     "execution_count": 80,
     "metadata": {},
     "output_type": "execute_result"
    }
   ],
   "source": [
    "trip_data.good_or_nah.value_counts() # 572961 False, 425546 True"
   ]
  },
  {
   "cell_type": "code",
   "execution_count": 23,
   "metadata": {},
   "outputs": [],
   "source": [
    "import seaborn as sns\n",
    "import matplotlib.pyplot as plt"
   ]
  },
  {
   "cell_type": "code",
   "execution_count": 26,
   "metadata": {},
   "outputs": [
    {
     "data": {
      "image/png": "[encoded data removed]",
      "text/plain": [
       "<Figure size 576x504 with 1 Axes>"
      ]
     },
     "metadata": {},
     "output_type": "display_data"
    }
   ],
   "source": [
    "sns.set_style(style = 'darkgrid')\n",
    "sns.set(rc={'figure.figsize':(8,7)})\n",
    "plt.rcParams.update({'figure.autolayout': True})\n",
    "\n",
    "\n",
    "dist_bar = sns.barplot(orient = 'v',\n",
    "                           y = trip_data.good_or_nah.value_counts(),\n",
    "                           x = ['Bad Tip', 'Good Tip'],\n",
    "                           palette = 'colorblind')\n",
    "\n",
    "dist_bar.axes.set_title('Number of Good and Bad Tips', fontsize = 19.5, pad = 10) # title info\n",
    "# dist_bar.set_xlabel('Distance', fontsize = 18, labelpad = 10) # xlabel info\n",
    "dist_bar.set_ylabel('Quantity', fontsize = 17.5, labelpad = 9) # ylabel info\n",
    "\n",
    "plt.savefig('distr_of_classes')#, transparent = True)"
   ]
  },
  {
   "cell_type": "markdown",
   "metadata": {},
   "source": [
    "# List of input column names"
   ]
  },
  {
   "cell_type": "code",
   "execution_count": null,
   "metadata": {},
   "outputs": [],
   "source": [
    "# Columns that will not be used: duration\n",
    "# also take out the dependent variable"
   ]
  },
  {
   "cell_type": "code",
   "execution_count": 29,
   "metadata": {},
   "outputs": [],
   "source": [
    "inputs = list(trip_data.columns)\n",
    "inputs.remove('duration')\n",
    "inputs.remove('good_or_nah')"
   ]
  },
  {
   "cell_type": "code",
   "execution_count": 30,
   "metadata": {},
   "outputs": [
    {
     "data": {
      "text/plain": [
       "['trip_distance',\n",
       " 'RatecodeID',\n",
       " 'fare_amount',\n",
       " 'extra',\n",
       " 'mta_tax',\n",
       " 'tolls_amount',\n",
       " 'total_amount',\n",
       " 'pickup_hour',\n",
       " 'duration_s',\n",
       " 'passenger_count_1',\n",
       " 'passenger_count_2',\n",
       " 'passenger_count_3',\n",
       " 'passenger_count_4',\n",
       " 'passenger_count_5',\n",
       " 'passenger_count_6',\n",
       " 'passenger_count_7',\n",
       " 'passenger_count_8',\n",
       " 'PULocationID_2',\n",
       " 'PULocationID_3',\n",
       " 'PULocationID_4',\n",
       " 'PULocationID_5',\n",
       " 'PULocationID_6',\n",
       " 'PULocationID_7',\n",
       " 'PULocationID_8',\n",
       " 'PULocationID_9',\n",
       " 'PULocationID_10',\n",
       " 'PULocationID_11',\n",
       " 'PULocationID_12',\n",
       " 'PULocationID_13',\n",
       " 'PULocationID_14',\n",
       " 'PULocationID_15',\n",
       " 'PULocationID_16',\n",
       " 'PULocationID_17',\n",
       " 'PULocationID_18',\n",
       " 'PULocationID_19',\n",
       " 'PULocationID_20',\n",
       " 'PULocationID_21',\n",
       " 'PULocationID_22',\n",
       " 'PULocationID_23',\n",
       " 'PULocationID_24',\n",
       " 'PULocationID_25',\n",
       " 'PULocationID_26',\n",
       " 'PULocationID_27',\n",
       " 'PULocationID_28',\n",
       " 'PULocationID_29',\n",
       " 'PULocationID_31',\n",
       " 'PULocationID_32',\n",
       " 'PULocationID_33',\n",
       " 'PULocationID_34',\n",
       " 'PULocationID_35',\n",
       " 'PULocationID_36',\n",
       " 'PULocationID_37',\n",
       " 'PULocationID_38',\n",
       " 'PULocationID_39',\n",
       " 'PULocationID_40',\n",
       " 'PULocationID_41',\n",
       " 'PULocationID_42',\n",
       " 'PULocationID_43',\n",
       " 'PULocationID_44',\n",
       " 'PULocationID_45',\n",
       " 'PULocationID_46',\n",
       " 'PULocationID_47',\n",
       " 'PULocationID_48',\n",
       " 'PULocationID_49',\n",
       " 'PULocationID_50',\n",
       " 'PULocationID_51',\n",
       " 'PULocationID_52',\n",
       " 'PULocationID_53',\n",
       " 'PULocationID_54',\n",
       " 'PULocationID_55',\n",
       " 'PULocationID_56',\n",
       " 'PULocationID_58',\n",
       " 'PULocationID_59',\n",
       " 'PULocationID_60',\n",
       " 'PULocationID_61',\n",
       " 'PULocationID_62',\n",
       " 'PULocationID_63',\n",
       " 'PULocationID_64',\n",
       " 'PULocationID_65',\n",
       " 'PULocationID_66',\n",
       " 'PULocationID_67',\n",
       " 'PULocationID_68',\n",
       " 'PULocationID_69',\n",
       " 'PULocationID_70',\n",
       " 'PULocationID_71',\n",
       " 'PULocationID_72',\n",
       " 'PULocationID_73',\n",
       " 'PULocationID_74',\n",
       " 'PULocationID_75',\n",
       " 'PULocationID_76',\n",
       " 'PULocationID_77',\n",
       " 'PULocationID_78',\n",
       " 'PULocationID_79',\n",
       " 'PULocationID_80',\n",
       " 'PULocationID_81',\n",
       " 'PULocationID_82',\n",
       " 'PULocationID_83',\n",
       " 'PULocationID_85',\n",
       " 'PULocationID_86',\n",
       " 'PULocationID_87',\n",
       " 'PULocationID_88',\n",
       " 'PULocationID_89',\n",
       " 'PULocationID_90',\n",
       " 'PULocationID_91',\n",
       " 'PULocationID_92',\n",
       " 'PULocationID_93',\n",
       " 'PULocationID_94',\n",
       " 'PULocationID_95',\n",
       " 'PULocationID_96',\n",
       " 'PULocationID_97',\n",
       " 'PULocationID_98',\n",
       " 'PULocationID_100',\n",
       " 'PULocationID_101',\n",
       " 'PULocationID_102',\n",
       " 'PULocationID_105',\n",
       " 'PULocationID_106',\n",
       " 'PULocationID_107',\n",
       " 'PULocationID_108',\n",
       " 'PULocationID_111',\n",
       " 'PULocationID_112',\n",
       " 'PULocationID_113',\n",
       " 'PULocationID_114',\n",
       " 'PULocationID_116',\n",
       " 'PULocationID_117',\n",
       " 'PULocationID_118',\n",
       " 'PULocationID_119',\n",
       " 'PULocationID_120',\n",
       " 'PULocationID_121',\n",
       " 'PULocationID_122',\n",
       " 'PULocationID_123',\n",
       " 'PULocationID_124',\n",
       " 'PULocationID_125',\n",
       " 'PULocationID_126',\n",
       " 'PULocationID_127',\n",
       " 'PULocationID_128',\n",
       " 'PULocationID_129',\n",
       " 'PULocationID_130',\n",
       " 'PULocationID_131',\n",
       " 'PULocationID_132',\n",
       " 'PULocationID_133',\n",
       " 'PULocationID_134',\n",
       " 'PULocationID_135',\n",
       " 'PULocationID_136',\n",
       " 'PULocationID_137',\n",
       " 'PULocationID_138',\n",
       " 'PULocationID_139',\n",
       " 'PULocationID_140',\n",
       " 'PULocationID_141',\n",
       " 'PULocationID_142',\n",
       " 'PULocationID_143',\n",
       " 'PULocationID_144',\n",
       " 'PULocationID_145',\n",
       " 'PULocationID_146',\n",
       " 'PULocationID_147',\n",
       " 'PULocationID_148',\n",
       " 'PULocationID_149',\n",
       " 'PULocationID_150',\n",
       " 'PULocationID_151',\n",
       " 'PULocationID_152',\n",
       " 'PULocationID_153',\n",
       " 'PULocationID_154',\n",
       " 'PULocationID_155',\n",
       " 'PULocationID_156',\n",
       " 'PULocationID_157',\n",
       " 'PULocationID_158',\n",
       " 'PULocationID_159',\n",
       " 'PULocationID_160',\n",
       " 'PULocationID_161',\n",
       " 'PULocationID_162',\n",
       " 'PULocationID_163',\n",
       " 'PULocationID_164',\n",
       " 'PULocationID_165',\n",
       " 'PULocationID_166',\n",
       " 'PULocationID_167',\n",
       " 'PULocationID_168',\n",
       " 'PULocationID_169',\n",
       " 'PULocationID_170',\n",
       " 'PULocationID_171',\n",
       " 'PULocationID_173',\n",
       " 'PULocationID_174',\n",
       " 'PULocationID_175',\n",
       " 'PULocationID_176',\n",
       " 'PULocationID_177',\n",
       " 'PULocationID_178',\n",
       " 'PULocationID_179',\n",
       " 'PULocationID_180',\n",
       " 'PULocationID_181',\n",
       " 'PULocationID_182',\n",
       " 'PULocationID_183',\n",
       " 'PULocationID_184',\n",
       " 'PULocationID_185',\n",
       " 'PULocationID_186',\n",
       " 'PULocationID_188',\n",
       " 'PULocationID_189',\n",
       " 'PULocationID_190',\n",
       " 'PULocationID_191',\n",
       " 'PULocationID_192',\n",
       " 'PULocationID_193',\n",
       " 'PULocationID_194',\n",
       " 'PULocationID_195',\n",
       " 'PULocationID_196',\n",
       " 'PULocationID_197',\n",
       " 'PULocationID_198',\n",
       " 'PULocationID_200',\n",
       " 'PULocationID_201',\n",
       " 'PULocationID_202',\n",
       " 'PULocationID_203',\n",
       " 'PULocationID_205',\n",
       " 'PULocationID_206',\n",
       " 'PULocationID_207',\n",
       " 'PULocationID_208',\n",
       " 'PULocationID_209',\n",
       " 'PULocationID_210',\n",
       " 'PULocationID_211',\n",
       " 'PULocationID_212',\n",
       " 'PULocationID_213',\n",
       " 'PULocationID_214',\n",
       " 'PULocationID_215',\n",
       " 'PULocationID_216',\n",
       " 'PULocationID_217',\n",
       " 'PULocationID_218',\n",
       " 'PULocationID_219',\n",
       " 'PULocationID_220',\n",
       " 'PULocationID_221',\n",
       " 'PULocationID_222',\n",
       " 'PULocationID_223',\n",
       " 'PULocationID_224',\n",
       " 'PULocationID_225',\n",
       " 'PULocationID_226',\n",
       " 'PULocationID_227',\n",
       " 'PULocationID_228',\n",
       " 'PULocationID_229',\n",
       " 'PULocationID_230',\n",
       " 'PULocationID_231',\n",
       " 'PULocationID_232',\n",
       " 'PULocationID_233',\n",
       " 'PULocationID_234',\n",
       " 'PULocationID_235',\n",
       " 'PULocationID_236',\n",
       " 'PULocationID_237',\n",
       " 'PULocationID_238',\n",
       " 'PULocationID_239',\n",
       " 'PULocationID_240',\n",
       " 'PULocationID_241',\n",
       " 'PULocationID_242',\n",
       " 'PULocationID_243',\n",
       " 'PULocationID_244',\n",
       " 'PULocationID_245',\n",
       " 'PULocationID_246',\n",
       " 'PULocationID_247',\n",
       " 'PULocationID_248',\n",
       " 'PULocationID_249',\n",
       " 'PULocationID_250',\n",
       " 'PULocationID_251',\n",
       " 'PULocationID_252',\n",
       " 'PULocationID_253',\n",
       " 'PULocationID_254',\n",
       " 'PULocationID_255',\n",
       " 'PULocationID_256',\n",
       " 'PULocationID_257',\n",
       " 'PULocationID_258',\n",
       " 'PULocationID_259',\n",
       " 'PULocationID_260',\n",
       " 'PULocationID_261',\n",
       " 'PULocationID_262',\n",
       " 'PULocationID_263',\n",
       " 'PULocationID_264',\n",
       " 'PULocationID_265',\n",
       " 'DOLocationID_3',\n",
       " 'DOLocationID_4',\n",
       " 'DOLocationID_5',\n",
       " 'DOLocationID_6',\n",
       " 'DOLocationID_7',\n",
       " 'DOLocationID_8',\n",
       " 'DOLocationID_9',\n",
       " 'DOLocationID_10',\n",
       " 'DOLocationID_11',\n",
       " 'DOLocationID_12',\n",
       " 'DOLocationID_13',\n",
       " 'DOLocationID_14',\n",
       " 'DOLocationID_15',\n",
       " 'DOLocationID_16',\n",
       " 'DOLocationID_17',\n",
       " 'DOLocationID_18',\n",
       " 'DOLocationID_19',\n",
       " 'DOLocationID_20',\n",
       " 'DOLocationID_21',\n",
       " 'DOLocationID_22',\n",
       " 'DOLocationID_23',\n",
       " 'DOLocationID_24',\n",
       " 'DOLocationID_25',\n",
       " 'DOLocationID_26',\n",
       " 'DOLocationID_27',\n",
       " 'DOLocationID_28',\n",
       " 'DOLocationID_29',\n",
       " 'DOLocationID_30',\n",
       " 'DOLocationID_31',\n",
       " 'DOLocationID_32',\n",
       " 'DOLocationID_33',\n",
       " 'DOLocationID_34',\n",
       " 'DOLocationID_35',\n",
       " 'DOLocationID_36',\n",
       " 'DOLocationID_37',\n",
       " 'DOLocationID_38',\n",
       " 'DOLocationID_39',\n",
       " 'DOLocationID_40',\n",
       " 'DOLocationID_41',\n",
       " 'DOLocationID_42',\n",
       " 'DOLocationID_43',\n",
       " 'DOLocationID_44',\n",
       " 'DOLocationID_45',\n",
       " 'DOLocationID_46',\n",
       " 'DOLocationID_47',\n",
       " 'DOLocationID_48',\n",
       " 'DOLocationID_49',\n",
       " 'DOLocationID_50',\n",
       " 'DOLocationID_51',\n",
       " 'DOLocationID_52',\n",
       " 'DOLocationID_53',\n",
       " 'DOLocationID_54',\n",
       " 'DOLocationID_55',\n",
       " 'DOLocationID_56',\n",
       " 'DOLocationID_57',\n",
       " 'DOLocationID_58',\n",
       " 'DOLocationID_59',\n",
       " 'DOLocationID_60',\n",
       " 'DOLocationID_61',\n",
       " 'DOLocationID_62',\n",
       " 'DOLocationID_63',\n",
       " 'DOLocationID_64',\n",
       " 'DOLocationID_65',\n",
       " 'DOLocationID_66',\n",
       " 'DOLocationID_67',\n",
       " 'DOLocationID_68',\n",
       " 'DOLocationID_69',\n",
       " 'DOLocationID_70',\n",
       " 'DOLocationID_71',\n",
       " 'DOLocationID_72',\n",
       " 'DOLocationID_73',\n",
       " 'DOLocationID_74',\n",
       " 'DOLocationID_75',\n",
       " 'DOLocationID_76',\n",
       " 'DOLocationID_77',\n",
       " 'DOLocationID_78',\n",
       " 'DOLocationID_79',\n",
       " 'DOLocationID_80',\n",
       " 'DOLocationID_81',\n",
       " 'DOLocationID_82',\n",
       " 'DOLocationID_83',\n",
       " 'DOLocationID_84',\n",
       " 'DOLocationID_85',\n",
       " 'DOLocationID_86',\n",
       " 'DOLocationID_87',\n",
       " 'DOLocationID_88',\n",
       " 'DOLocationID_89',\n",
       " 'DOLocationID_90',\n",
       " 'DOLocationID_91',\n",
       " 'DOLocationID_92',\n",
       " 'DOLocationID_93',\n",
       " 'DOLocationID_94',\n",
       " 'DOLocationID_95',\n",
       " 'DOLocationID_96',\n",
       " 'DOLocationID_97',\n",
       " 'DOLocationID_98',\n",
       " 'DOLocationID_99',\n",
       " 'DOLocationID_100',\n",
       " 'DOLocationID_101',\n",
       " 'DOLocationID_102',\n",
       " 'DOLocationID_106',\n",
       " 'DOLocationID_107',\n",
       " 'DOLocationID_108',\n",
       " 'DOLocationID_109',\n",
       " 'DOLocationID_111',\n",
       " 'DOLocationID_112',\n",
       " 'DOLocationID_113',\n",
       " 'DOLocationID_114',\n",
       " 'DOLocationID_115',\n",
       " 'DOLocationID_116',\n",
       " 'DOLocationID_117',\n",
       " 'DOLocationID_118',\n",
       " 'DOLocationID_119',\n",
       " 'DOLocationID_120',\n",
       " 'DOLocationID_121',\n",
       " 'DOLocationID_122',\n",
       " 'DOLocationID_123',\n",
       " 'DOLocationID_124',\n",
       " 'DOLocationID_125',\n",
       " 'DOLocationID_126',\n",
       " 'DOLocationID_127',\n",
       " 'DOLocationID_128',\n",
       " 'DOLocationID_129',\n",
       " 'DOLocationID_130',\n",
       " 'DOLocationID_131',\n",
       " 'DOLocationID_132',\n",
       " 'DOLocationID_133',\n",
       " 'DOLocationID_134',\n",
       " 'DOLocationID_135',\n",
       " 'DOLocationID_136',\n",
       " 'DOLocationID_137',\n",
       " 'DOLocationID_138',\n",
       " 'DOLocationID_139',\n",
       " 'DOLocationID_140',\n",
       " 'DOLocationID_141',\n",
       " 'DOLocationID_142',\n",
       " 'DOLocationID_143',\n",
       " 'DOLocationID_144',\n",
       " 'DOLocationID_145',\n",
       " 'DOLocationID_146',\n",
       " 'DOLocationID_147',\n",
       " 'DOLocationID_148',\n",
       " 'DOLocationID_149',\n",
       " 'DOLocationID_150',\n",
       " 'DOLocationID_151',\n",
       " 'DOLocationID_152',\n",
       " 'DOLocationID_153',\n",
       " 'DOLocationID_154',\n",
       " 'DOLocationID_155',\n",
       " 'DOLocationID_156',\n",
       " 'DOLocationID_157',\n",
       " 'DOLocationID_158',\n",
       " 'DOLocationID_159',\n",
       " 'DOLocationID_160',\n",
       " 'DOLocationID_161',\n",
       " 'DOLocationID_162',\n",
       " 'DOLocationID_163',\n",
       " 'DOLocationID_164',\n",
       " 'DOLocationID_165',\n",
       " 'DOLocationID_166',\n",
       " 'DOLocationID_167',\n",
       " 'DOLocationID_168',\n",
       " 'DOLocationID_169',\n",
       " 'DOLocationID_170',\n",
       " 'DOLocationID_171',\n",
       " 'DOLocationID_172',\n",
       " 'DOLocationID_173',\n",
       " 'DOLocationID_174',\n",
       " 'DOLocationID_175',\n",
       " 'DOLocationID_176',\n",
       " 'DOLocationID_177',\n",
       " 'DOLocationID_178',\n",
       " 'DOLocationID_179',\n",
       " 'DOLocationID_180',\n",
       " 'DOLocationID_181',\n",
       " 'DOLocationID_182',\n",
       " 'DOLocationID_183',\n",
       " 'DOLocationID_184',\n",
       " 'DOLocationID_185',\n",
       " 'DOLocationID_186',\n",
       " 'DOLocationID_187',\n",
       " 'DOLocationID_188',\n",
       " 'DOLocationID_189',\n",
       " 'DOLocationID_190',\n",
       " 'DOLocationID_191',\n",
       " 'DOLocationID_192',\n",
       " 'DOLocationID_193',\n",
       " 'DOLocationID_194',\n",
       " 'DOLocationID_195',\n",
       " 'DOLocationID_196',\n",
       " 'DOLocationID_197',\n",
       " 'DOLocationID_198',\n",
       " 'DOLocationID_200',\n",
       " 'DOLocationID_201',\n",
       " 'DOLocationID_202',\n",
       " 'DOLocationID_203',\n",
       " 'DOLocationID_204',\n",
       " 'DOLocationID_205',\n",
       " 'DOLocationID_206',\n",
       " 'DOLocationID_207',\n",
       " 'DOLocationID_208',\n",
       " 'DOLocationID_209',\n",
       " 'DOLocationID_210',\n",
       " 'DOLocationID_211',\n",
       " 'DOLocationID_212',\n",
       " 'DOLocationID_213',\n",
       " 'DOLocationID_214',\n",
       " 'DOLocationID_215',\n",
       " 'DOLocationID_216',\n",
       " 'DOLocationID_217',\n",
       " 'DOLocationID_218',\n",
       " 'DOLocationID_219',\n",
       " 'DOLocationID_220',\n",
       " 'DOLocationID_221',\n",
       " 'DOLocationID_222',\n",
       " 'DOLocationID_223',\n",
       " 'DOLocationID_224',\n",
       " 'DOLocationID_225',\n",
       " 'DOLocationID_226',\n",
       " 'DOLocationID_227',\n",
       " 'DOLocationID_228',\n",
       " 'DOLocationID_229',\n",
       " 'DOLocationID_230',\n",
       " 'DOLocationID_231',\n",
       " 'DOLocationID_232',\n",
       " 'DOLocationID_233',\n",
       " 'DOLocationID_234',\n",
       " 'DOLocationID_235',\n",
       " 'DOLocationID_236',\n",
       " 'DOLocationID_237',\n",
       " 'DOLocationID_238',\n",
       " 'DOLocationID_239',\n",
       " 'DOLocationID_240',\n",
       " 'DOLocationID_241',\n",
       " 'DOLocationID_242',\n",
       " 'DOLocationID_243',\n",
       " 'DOLocationID_244',\n",
       " 'DOLocationID_245',\n",
       " 'DOLocationID_246',\n",
       " 'DOLocationID_247',\n",
       " 'DOLocationID_248',\n",
       " 'DOLocationID_249',\n",
       " 'DOLocationID_250',\n",
       " 'DOLocationID_251',\n",
       " 'DOLocationID_252',\n",
       " 'DOLocationID_253',\n",
       " 'DOLocationID_254',\n",
       " 'DOLocationID_255',\n",
       " 'DOLocationID_256',\n",
       " 'DOLocationID_257',\n",
       " 'DOLocationID_258',\n",
       " 'DOLocationID_259',\n",
       " 'DOLocationID_260',\n",
       " 'DOLocationID_261',\n",
       " 'DOLocationID_262',\n",
       " 'DOLocationID_263',\n",
       " 'DOLocationID_264',\n",
       " 'DOLocationID_265',\n",
       " 'payment_type_2',\n",
       " 'payment_type_3',\n",
       " 'payment_type_4']"
      ]
     },
     "execution_count": 30,
     "metadata": {},
     "output_type": "execute_result"
    }
   ],
   "source": [
    "inputs"
   ]
  },
  {
   "cell_type": "markdown",
   "metadata": {},
   "source": [
    "# Pickle before splitting data\n",
    "Random State = 52 for repeatable splits"
   ]
  },
  {
   "cell_type": "code",
   "execution_count": 91,
   "metadata": {},
   "outputs": [],
   "source": [
    "# save \n",
    "\n",
    "taxi_data_file_name2 = 'cleaned_taxi_data'\n",
    "\n",
    "with open(taxi_data_file_name2, 'wb') as f:\n",
    "    pickle.dump(trip_data, f)"
   ]
  },
  {
   "cell_type": "code",
   "execution_count": 27,
   "metadata": {},
   "outputs": [],
   "source": [
    "# load\n",
    "\n",
    "taxi_data_file_name2 = 'cleaned_taxi_data'\n",
    "\n",
    "with open(taxi_data_file_name2, 'rb') as f:\n",
    "    trip_data = pickle.load(f)"
   ]
  },
  {
   "cell_type": "code",
   "execution_count": 28,
   "metadata": {},
   "outputs": [
    {
     "data": {
      "text/html": [
       "<div>\n",
       "<style scoped>\n",
       "    .dataframe tbody tr th:only-of-type {\n",
       "        vertical-align: middle;\n",
       "    }\n",
       "\n",
       "    .dataframe tbody tr th {\n",
       "        vertical-align: top;\n",
       "    }\n",
       "\n",
       "    .dataframe thead th {\n",
       "        text-align: right;\n",
       "    }\n",
       "</style>\n",
       "<table border=\"1\" class=\"dataframe\">\n",
       "  <thead>\n",
       "    <tr style=\"text-align: right;\">\n",
       "      <th></th>\n",
       "      <th>trip_distance</th>\n",
       "      <th>RatecodeID</th>\n",
       "      <th>fare_amount</th>\n",
       "      <th>extra</th>\n",
       "      <th>mta_tax</th>\n",
       "      <th>tolls_amount</th>\n",
       "      <th>total_amount</th>\n",
       "      <th>pickup_hour</th>\n",
       "      <th>duration</th>\n",
       "      <th>duration_s</th>\n",
       "      <th>...</th>\n",
       "      <th>DOLocationID_259</th>\n",
       "      <th>DOLocationID_260</th>\n",
       "      <th>DOLocationID_261</th>\n",
       "      <th>DOLocationID_262</th>\n",
       "      <th>DOLocationID_263</th>\n",
       "      <th>DOLocationID_264</th>\n",
       "      <th>DOLocationID_265</th>\n",
       "      <th>payment_type_2</th>\n",
       "      <th>payment_type_3</th>\n",
       "      <th>payment_type_4</th>\n",
       "    </tr>\n",
       "  </thead>\n",
       "  <tbody>\n",
       "    <tr>\n",
       "      <th>0</th>\n",
       "      <td>3.39</td>\n",
       "      <td>1</td>\n",
       "      <td>11.5</td>\n",
       "      <td>0.5</td>\n",
       "      <td>0.5</td>\n",
       "      <td>0.0</td>\n",
       "      <td>15.30</td>\n",
       "      <td>0</td>\n",
       "      <td>00:10:35</td>\n",
       "      <td>635.0</td>\n",
       "      <td>...</td>\n",
       "      <td>0</td>\n",
       "      <td>0</td>\n",
       "      <td>0</td>\n",
       "      <td>0</td>\n",
       "      <td>0</td>\n",
       "      <td>0</td>\n",
       "      <td>0</td>\n",
       "      <td>1</td>\n",
       "      <td>0</td>\n",
       "      <td>0</td>\n",
       "    </tr>\n",
       "    <tr>\n",
       "      <th>1</th>\n",
       "      <td>1.50</td>\n",
       "      <td>1</td>\n",
       "      <td>7.0</td>\n",
       "      <td>0.5</td>\n",
       "      <td>0.5</td>\n",
       "      <td>0.0</td>\n",
       "      <td>9.30</td>\n",
       "      <td>0</td>\n",
       "      <td>00:05:50</td>\n",
       "      <td>350.0</td>\n",
       "      <td>...</td>\n",
       "      <td>0</td>\n",
       "      <td>0</td>\n",
       "      <td>0</td>\n",
       "      <td>0</td>\n",
       "      <td>0</td>\n",
       "      <td>0</td>\n",
       "      <td>0</td>\n",
       "      <td>0</td>\n",
       "      <td>0</td>\n",
       "      <td>0</td>\n",
       "    </tr>\n",
       "    <tr>\n",
       "      <th>2</th>\n",
       "      <td>0.90</td>\n",
       "      <td>1</td>\n",
       "      <td>5.0</td>\n",
       "      <td>3.0</td>\n",
       "      <td>0.5</td>\n",
       "      <td>0.0</td>\n",
       "      <td>8.80</td>\n",
       "      <td>0</td>\n",
       "      <td>00:04:32</td>\n",
       "      <td>272.0</td>\n",
       "      <td>...</td>\n",
       "      <td>0</td>\n",
       "      <td>0</td>\n",
       "      <td>0</td>\n",
       "      <td>0</td>\n",
       "      <td>0</td>\n",
       "      <td>0</td>\n",
       "      <td>0</td>\n",
       "      <td>1</td>\n",
       "      <td>0</td>\n",
       "      <td>0</td>\n",
       "    </tr>\n",
       "    <tr>\n",
       "      <th>3</th>\n",
       "      <td>1.31</td>\n",
       "      <td>1</td>\n",
       "      <td>7.5</td>\n",
       "      <td>0.5</td>\n",
       "      <td>0.5</td>\n",
       "      <td>0.0</td>\n",
       "      <td>11.30</td>\n",
       "      <td>0</td>\n",
       "      <td>00:07:48</td>\n",
       "      <td>468.0</td>\n",
       "      <td>...</td>\n",
       "      <td>0</td>\n",
       "      <td>0</td>\n",
       "      <td>0</td>\n",
       "      <td>0</td>\n",
       "      <td>0</td>\n",
       "      <td>0</td>\n",
       "      <td>0</td>\n",
       "      <td>1</td>\n",
       "      <td>0</td>\n",
       "      <td>0</td>\n",
       "    </tr>\n",
       "    <tr>\n",
       "      <th>4</th>\n",
       "      <td>5.02</td>\n",
       "      <td>1</td>\n",
       "      <td>18.0</td>\n",
       "      <td>0.5</td>\n",
       "      <td>0.5</td>\n",
       "      <td>0.0</td>\n",
       "      <td>26.16</td>\n",
       "      <td>0</td>\n",
       "      <td>00:19:21</td>\n",
       "      <td>1161.0</td>\n",
       "      <td>...</td>\n",
       "      <td>0</td>\n",
       "      <td>0</td>\n",
       "      <td>0</td>\n",
       "      <td>0</td>\n",
       "      <td>0</td>\n",
       "      <td>0</td>\n",
       "      <td>0</td>\n",
       "      <td>0</td>\n",
       "      <td>0</td>\n",
       "      <td>0</td>\n",
       "    </tr>\n",
       "    <tr>\n",
       "      <th>...</th>\n",
       "      <td>...</td>\n",
       "      <td>...</td>\n",
       "      <td>...</td>\n",
       "      <td>...</td>\n",
       "      <td>...</td>\n",
       "      <td>...</td>\n",
       "      <td>...</td>\n",
       "      <td>...</td>\n",
       "      <td>...</td>\n",
       "      <td>...</td>\n",
       "      <td>...</td>\n",
       "      <td>...</td>\n",
       "      <td>...</td>\n",
       "      <td>...</td>\n",
       "      <td>...</td>\n",
       "      <td>...</td>\n",
       "      <td>...</td>\n",
       "      <td>...</td>\n",
       "      <td>...</td>\n",
       "      <td>...</td>\n",
       "      <td>...</td>\n",
       "    </tr>\n",
       "    <tr>\n",
       "      <th>999996</th>\n",
       "      <td>5.94</td>\n",
       "      <td>1</td>\n",
       "      <td>20.0</td>\n",
       "      <td>0.5</td>\n",
       "      <td>0.5</td>\n",
       "      <td>0.0</td>\n",
       "      <td>26.80</td>\n",
       "      <td>23</td>\n",
       "      <td>00:16:48</td>\n",
       "      <td>1008.0</td>\n",
       "      <td>...</td>\n",
       "      <td>0</td>\n",
       "      <td>0</td>\n",
       "      <td>0</td>\n",
       "      <td>0</td>\n",
       "      <td>0</td>\n",
       "      <td>0</td>\n",
       "      <td>0</td>\n",
       "      <td>0</td>\n",
       "      <td>0</td>\n",
       "      <td>0</td>\n",
       "    </tr>\n",
       "    <tr>\n",
       "      <th>999997</th>\n",
       "      <td>0.93</td>\n",
       "      <td>1</td>\n",
       "      <td>5.5</td>\n",
       "      <td>0.5</td>\n",
       "      <td>0.5</td>\n",
       "      <td>0.0</td>\n",
       "      <td>9.30</td>\n",
       "      <td>23</td>\n",
       "      <td>00:04:31</td>\n",
       "      <td>271.0</td>\n",
       "      <td>...</td>\n",
       "      <td>0</td>\n",
       "      <td>0</td>\n",
       "      <td>0</td>\n",
       "      <td>0</td>\n",
       "      <td>0</td>\n",
       "      <td>0</td>\n",
       "      <td>0</td>\n",
       "      <td>1</td>\n",
       "      <td>0</td>\n",
       "      <td>0</td>\n",
       "    </tr>\n",
       "    <tr>\n",
       "      <th>999998</th>\n",
       "      <td>1.50</td>\n",
       "      <td>1</td>\n",
       "      <td>7.0</td>\n",
       "      <td>3.0</td>\n",
       "      <td>0.5</td>\n",
       "      <td>0.0</td>\n",
       "      <td>10.80</td>\n",
       "      <td>23</td>\n",
       "      <td>00:06:02</td>\n",
       "      <td>362.0</td>\n",
       "      <td>...</td>\n",
       "      <td>0</td>\n",
       "      <td>0</td>\n",
       "      <td>0</td>\n",
       "      <td>0</td>\n",
       "      <td>0</td>\n",
       "      <td>0</td>\n",
       "      <td>0</td>\n",
       "      <td>1</td>\n",
       "      <td>0</td>\n",
       "      <td>0</td>\n",
       "    </tr>\n",
       "    <tr>\n",
       "      <th>999999</th>\n",
       "      <td>1.55</td>\n",
       "      <td>1</td>\n",
       "      <td>8.5</td>\n",
       "      <td>0.5</td>\n",
       "      <td>0.5</td>\n",
       "      <td>0.0</td>\n",
       "      <td>15.99</td>\n",
       "      <td>23</td>\n",
       "      <td>00:09:14</td>\n",
       "      <td>554.0</td>\n",
       "      <td>...</td>\n",
       "      <td>0</td>\n",
       "      <td>0</td>\n",
       "      <td>0</td>\n",
       "      <td>0</td>\n",
       "      <td>0</td>\n",
       "      <td>0</td>\n",
       "      <td>0</td>\n",
       "      <td>0</td>\n",
       "      <td>0</td>\n",
       "      <td>0</td>\n",
       "    </tr>\n",
       "    <tr>\n",
       "      <th>1000000</th>\n",
       "      <td>0.00</td>\n",
       "      <td>1</td>\n",
       "      <td>0.0</td>\n",
       "      <td>0.0</td>\n",
       "      <td>0.0</td>\n",
       "      <td>0.0</td>\n",
       "      <td>0.00</td>\n",
       "      <td>23</td>\n",
       "      <td>00:00:30</td>\n",
       "      <td>30.0</td>\n",
       "      <td>...</td>\n",
       "      <td>0</td>\n",
       "      <td>0</td>\n",
       "      <td>0</td>\n",
       "      <td>0</td>\n",
       "      <td>0</td>\n",
       "      <td>0</td>\n",
       "      <td>0</td>\n",
       "      <td>0</td>\n",
       "      <td>0</td>\n",
       "      <td>0</td>\n",
       "    </tr>\n",
       "  </tbody>\n",
       "</table>\n",
       "<p>998305 rows × 531 columns</p>\n",
       "</div>"
      ],
      "text/plain": [
       "         trip_distance  RatecodeID  fare_amount  extra  mta_tax  tolls_amount  \\\n",
       "0                 3.39           1         11.5    0.5      0.5           0.0   \n",
       "1                 1.50           1          7.0    0.5      0.5           0.0   \n",
       "2                 0.90           1          5.0    3.0      0.5           0.0   \n",
       "3                 1.31           1          7.5    0.5      0.5           0.0   \n",
       "4                 5.02           1         18.0    0.5      0.5           0.0   \n",
       "...                ...         ...          ...    ...      ...           ...   \n",
       "999996            5.94           1         20.0    0.5      0.5           0.0   \n",
       "999997            0.93           1          5.5    0.5      0.5           0.0   \n",
       "999998            1.50           1          7.0    3.0      0.5           0.0   \n",
       "999999            1.55           1          8.5    0.5      0.5           0.0   \n",
       "1000000           0.00           1          0.0    0.0      0.0           0.0   \n",
       "\n",
       "         total_amount  pickup_hour duration  duration_s  ...  \\\n",
       "0               15.30            0 00:10:35       635.0  ...   \n",
       "1                9.30            0 00:05:50       350.0  ...   \n",
       "2                8.80            0 00:04:32       272.0  ...   \n",
       "3               11.30            0 00:07:48       468.0  ...   \n",
       "4               26.16            0 00:19:21      1161.0  ...   \n",
       "...               ...          ...      ...         ...  ...   \n",
       "999996          26.80           23 00:16:48      1008.0  ...   \n",
       "999997           9.30           23 00:04:31       271.0  ...   \n",
       "999998          10.80           23 00:06:02       362.0  ...   \n",
       "999999          15.99           23 00:09:14       554.0  ...   \n",
       "1000000          0.00           23 00:00:30        30.0  ...   \n",
       "\n",
       "         DOLocationID_259  DOLocationID_260  DOLocationID_261  \\\n",
       "0                       0                 0                 0   \n",
       "1                       0                 0                 0   \n",
       "2                       0                 0                 0   \n",
       "3                       0                 0                 0   \n",
       "4                       0                 0                 0   \n",
       "...                   ...               ...               ...   \n",
       "999996                  0                 0                 0   \n",
       "999997                  0                 0                 0   \n",
       "999998                  0                 0                 0   \n",
       "999999                  0                 0                 0   \n",
       "1000000                 0                 0                 0   \n",
       "\n",
       "         DOLocationID_262  DOLocationID_263  DOLocationID_264  \\\n",
       "0                       0                 0                 0   \n",
       "1                       0                 0                 0   \n",
       "2                       0                 0                 0   \n",
       "3                       0                 0                 0   \n",
       "4                       0                 0                 0   \n",
       "...                   ...               ...               ...   \n",
       "999996                  0                 0                 0   \n",
       "999997                  0                 0                 0   \n",
       "999998                  0                 0                 0   \n",
       "999999                  0                 0                 0   \n",
       "1000000                 0                 0                 0   \n",
       "\n",
       "         DOLocationID_265  payment_type_2  payment_type_3  payment_type_4  \n",
       "0                       0               1               0               0  \n",
       "1                       0               0               0               0  \n",
       "2                       0               1               0               0  \n",
       "3                       0               1               0               0  \n",
       "4                       0               0               0               0  \n",
       "...                   ...             ...             ...             ...  \n",
       "999996                  0               0               0               0  \n",
       "999997                  0               1               0               0  \n",
       "999998                  0               1               0               0  \n",
       "999999                  0               0               0               0  \n",
       "1000000                 0               0               0               0  \n",
       "\n",
       "[998305 rows x 531 columns]"
      ]
     },
     "execution_count": 28,
     "metadata": {},
     "output_type": "execute_result"
    }
   ],
   "source": [
    "trip_data"
   ]
  },
  {
   "cell_type": "markdown",
   "metadata": {},
   "source": [
    "# Split Data"
   ]
  },
  {
   "cell_type": "code",
   "execution_count": 31,
   "metadata": {},
   "outputs": [],
   "source": [
    "from sklearn.model_selection import train_test_split"
   ]
  },
  {
   "cell_type": "code",
   "execution_count": 32,
   "metadata": {},
   "outputs": [],
   "source": [
    "x_train, x_test, y_train, y_test = train_test_split(trip_data[inputs], \n",
    "                                                    trip_data['good_or_nah'], \n",
    "                                                    random_state = 52)"
   ]
  },
  {
   "cell_type": "markdown",
   "metadata": {},
   "source": [
    "## Check data after splitting"
   ]
  },
  {
   "cell_type": "code",
   "execution_count": 33,
   "metadata": {},
   "outputs": [
    {
     "data": {
      "text/plain": [
       "(748728,)"
      ]
     },
     "execution_count": 33,
     "metadata": {},
     "output_type": "execute_result"
    }
   ],
   "source": [
    "y_train.shape # (748880,) ||| (748728,)"
   ]
  },
  {
   "cell_type": "code",
   "execution_count": 34,
   "metadata": {},
   "outputs": [
    {
     "data": {
      "text/plain": [
       "(748728, 529)"
      ]
     },
     "execution_count": 34,
     "metadata": {},
     "output_type": "execute_result"
    }
   ],
   "source": [
    "x_train.shape # (748880, 533) ||| (748728, 529)"
   ]
  },
  {
   "cell_type": "code",
   "execution_count": 35,
   "metadata": {},
   "outputs": [
    {
     "data": {
      "text/plain": [
       "(249577, 529)"
      ]
     },
     "execution_count": 35,
     "metadata": {},
     "output_type": "execute_result"
    }
   ],
   "source": [
    "x_test.shape # (249627, 533) ||| (249577, 529)"
   ]
  },
  {
   "cell_type": "code",
   "execution_count": 36,
   "metadata": {},
   "outputs": [
    {
     "data": {
      "text/plain": [
       "(249577,)"
      ]
     },
     "execution_count": 36,
     "metadata": {},
     "output_type": "execute_result"
    }
   ],
   "source": [
    "y_test.shape # (249627,) ||| (249577,)"
   ]
  },
  {
   "cell_type": "markdown",
   "metadata": {},
   "source": [
    "## How bad is the class imbalance?"
   ]
  },
  {
   "cell_type": "code",
   "execution_count": 37,
   "metadata": {},
   "outputs": [
    {
     "data": {
      "text/plain": [
       "0.4095762317127531"
      ]
     },
     "execution_count": 37,
     "metadata": {},
     "output_type": "execute_result"
    }
   ],
   "source": [
    "# percentage of trips that give good tips: 0.426, not much class imbalance\n",
    "trip_data['good_or_nah'].mean()"
   ]
  },
  {
   "cell_type": "markdown",
   "metadata": {},
   "source": [
    "# Balancing classes"
   ]
  },
  {
   "cell_type": "code",
   "execution_count": 38,
   "metadata": {},
   "outputs": [],
   "source": [
    "from sklearn.utils import resample"
   ]
  },
  {
   "cell_type": "markdown",
   "metadata": {},
   "source": [
    "## Combine x_train to y_train again to resample from them"
   ]
  },
  {
   "cell_type": "code",
   "execution_count": 39,
   "metadata": {},
   "outputs": [],
   "source": [
    "merged = pd.concat([x_train, y_train], axis = 1)"
   ]
  },
  {
   "cell_type": "code",
   "execution_count": 40,
   "metadata": {},
   "outputs": [],
   "source": [
    "n_good = (merged['good_or_nah'] == 1).sum()"
   ]
  },
  {
   "cell_type": "code",
   "execution_count": 41,
   "metadata": {},
   "outputs": [],
   "source": [
    "n_nah = (merged['good_or_nah'] == 0).sum()"
   ]
  },
  {
   "cell_type": "code",
   "execution_count": 42,
   "metadata": {},
   "outputs": [
    {
     "data": {
      "text/plain": [
       "306446"
      ]
     },
     "execution_count": 42,
     "metadata": {},
     "output_type": "execute_result"
    }
   ],
   "source": [
    "n_good # 319091 ||| 306446"
   ]
  },
  {
   "cell_type": "code",
   "execution_count": 43,
   "metadata": {},
   "outputs": [
    {
     "data": {
      "text/plain": [
       "442282"
      ]
     },
     "execution_count": 43,
     "metadata": {},
     "output_type": "execute_result"
    }
   ],
   "source": [
    "n_nah # 429789 ||| 442282"
   ]
  },
  {
   "cell_type": "code",
   "execution_count": 44,
   "metadata": {},
   "outputs": [
    {
     "data": {
      "text/plain": [
       "(748728, 530)"
      ]
     },
     "execution_count": 44,
     "metadata": {},
     "output_type": "execute_result"
    }
   ],
   "source": [
    "merged.shape # (748880, 534)"
   ]
  },
  {
   "cell_type": "code",
   "execution_count": 45,
   "metadata": {},
   "outputs": [],
   "source": [
    "# random state = 52 for repeatable results\n",
    "up_the_good = resample(merged[merged['good_or_nah'] == 1], \n",
    "                       n_samples = n_nah, \n",
    "                       random_state = 52)"
   ]
  },
  {
   "cell_type": "code",
   "execution_count": 46,
   "metadata": {},
   "outputs": [
    {
     "data": {
      "text/plain": [
       "(442282, 530)"
      ]
     },
     "execution_count": 46,
     "metadata": {},
     "output_type": "execute_result"
    }
   ],
   "source": [
    "up_the_good.shape # now up_the_good has same number as n_nah (429789, 534)"
   ]
  },
  {
   "cell_type": "code",
   "execution_count": 47,
   "metadata": {},
   "outputs": [],
   "source": [
    "nah = merged[merged['good_or_nah'] == 0]"
   ]
  },
  {
   "cell_type": "code",
   "execution_count": 48,
   "metadata": {},
   "outputs": [],
   "source": [
    "train_set = pd.concat([up_the_good, nah], axis = 0)"
   ]
  },
  {
   "cell_type": "code",
   "execution_count": 49,
   "metadata": {},
   "outputs": [],
   "source": [
    "y_train = train_set['good_or_nah']\n",
    "ind_vars = list(train_set.columns)\n",
    "ind_vars.remove('good_or_nah')\n",
    "x_train = train_set[ind_vars]\n"
   ]
  },
  {
   "cell_type": "code",
   "execution_count": 50,
   "metadata": {},
   "outputs": [
    {
     "data": {
      "text/html": [
       "<div>\n",
       "<style scoped>\n",
       "    .dataframe tbody tr th:only-of-type {\n",
       "        vertical-align: middle;\n",
       "    }\n",
       "\n",
       "    .dataframe tbody tr th {\n",
       "        vertical-align: top;\n",
       "    }\n",
       "\n",
       "    .dataframe thead th {\n",
       "        text-align: right;\n",
       "    }\n",
       "</style>\n",
       "<table border=\"1\" class=\"dataframe\">\n",
       "  <thead>\n",
       "    <tr style=\"text-align: right;\">\n",
       "      <th></th>\n",
       "      <th>trip_distance</th>\n",
       "      <th>RatecodeID</th>\n",
       "      <th>fare_amount</th>\n",
       "      <th>extra</th>\n",
       "      <th>mta_tax</th>\n",
       "      <th>tolls_amount</th>\n",
       "      <th>total_amount</th>\n",
       "      <th>pickup_hour</th>\n",
       "      <th>duration_s</th>\n",
       "      <th>passenger_count_1</th>\n",
       "      <th>...</th>\n",
       "      <th>DOLocationID_259</th>\n",
       "      <th>DOLocationID_260</th>\n",
       "      <th>DOLocationID_261</th>\n",
       "      <th>DOLocationID_262</th>\n",
       "      <th>DOLocationID_263</th>\n",
       "      <th>DOLocationID_264</th>\n",
       "      <th>DOLocationID_265</th>\n",
       "      <th>payment_type_2</th>\n",
       "      <th>payment_type_3</th>\n",
       "      <th>payment_type_4</th>\n",
       "    </tr>\n",
       "  </thead>\n",
       "  <tbody>\n",
       "    <tr>\n",
       "      <th>555561</th>\n",
       "      <td>1.20</td>\n",
       "      <td>1</td>\n",
       "      <td>6.5</td>\n",
       "      <td>2.5</td>\n",
       "      <td>0.5</td>\n",
       "      <td>0.0</td>\n",
       "      <td>11.76</td>\n",
       "      <td>7</td>\n",
       "      <td>375.0</td>\n",
       "      <td>1</td>\n",
       "      <td>...</td>\n",
       "      <td>0</td>\n",
       "      <td>0</td>\n",
       "      <td>0</td>\n",
       "      <td>0</td>\n",
       "      <td>0</td>\n",
       "      <td>0</td>\n",
       "      <td>0</td>\n",
       "      <td>0</td>\n",
       "      <td>0</td>\n",
       "      <td>0</td>\n",
       "    </tr>\n",
       "    <tr>\n",
       "      <th>581556</th>\n",
       "      <td>3.30</td>\n",
       "      <td>1</td>\n",
       "      <td>14.0</td>\n",
       "      <td>3.0</td>\n",
       "      <td>0.5</td>\n",
       "      <td>0.0</td>\n",
       "      <td>21.35</td>\n",
       "      <td>20</td>\n",
       "      <td>936.0</td>\n",
       "      <td>0</td>\n",
       "      <td>...</td>\n",
       "      <td>0</td>\n",
       "      <td>0</td>\n",
       "      <td>0</td>\n",
       "      <td>0</td>\n",
       "      <td>0</td>\n",
       "      <td>0</td>\n",
       "      <td>0</td>\n",
       "      <td>0</td>\n",
       "      <td>0</td>\n",
       "      <td>0</td>\n",
       "    </tr>\n",
       "    <tr>\n",
       "      <th>409468</th>\n",
       "      <td>1.00</td>\n",
       "      <td>1</td>\n",
       "      <td>5.0</td>\n",
       "      <td>0.5</td>\n",
       "      <td>0.5</td>\n",
       "      <td>0.0</td>\n",
       "      <td>10.56</td>\n",
       "      <td>20</td>\n",
       "      <td>215.0</td>\n",
       "      <td>1</td>\n",
       "      <td>...</td>\n",
       "      <td>0</td>\n",
       "      <td>0</td>\n",
       "      <td>0</td>\n",
       "      <td>0</td>\n",
       "      <td>0</td>\n",
       "      <td>0</td>\n",
       "      <td>0</td>\n",
       "      <td>0</td>\n",
       "      <td>0</td>\n",
       "      <td>0</td>\n",
       "    </tr>\n",
       "    <tr>\n",
       "      <th>224874</th>\n",
       "      <td>0.88</td>\n",
       "      <td>1</td>\n",
       "      <td>6.5</td>\n",
       "      <td>0.0</td>\n",
       "      <td>0.5</td>\n",
       "      <td>0.0</td>\n",
       "      <td>12.74</td>\n",
       "      <td>11</td>\n",
       "      <td>446.0</td>\n",
       "      <td>1</td>\n",
       "      <td>...</td>\n",
       "      <td>0</td>\n",
       "      <td>0</td>\n",
       "      <td>0</td>\n",
       "      <td>0</td>\n",
       "      <td>0</td>\n",
       "      <td>0</td>\n",
       "      <td>0</td>\n",
       "      <td>0</td>\n",
       "      <td>0</td>\n",
       "      <td>0</td>\n",
       "    </tr>\n",
       "    <tr>\n",
       "      <th>750617</th>\n",
       "      <td>0.68</td>\n",
       "      <td>1</td>\n",
       "      <td>7.0</td>\n",
       "      <td>0.0</td>\n",
       "      <td>0.5</td>\n",
       "      <td>0.0</td>\n",
       "      <td>12.36</td>\n",
       "      <td>13</td>\n",
       "      <td>504.0</td>\n",
       "      <td>0</td>\n",
       "      <td>...</td>\n",
       "      <td>0</td>\n",
       "      <td>0</td>\n",
       "      <td>0</td>\n",
       "      <td>0</td>\n",
       "      <td>0</td>\n",
       "      <td>0</td>\n",
       "      <td>0</td>\n",
       "      <td>0</td>\n",
       "      <td>0</td>\n",
       "      <td>0</td>\n",
       "    </tr>\n",
       "  </tbody>\n",
       "</table>\n",
       "<p>5 rows × 529 columns</p>\n",
       "</div>"
      ],
      "text/plain": [
       "        trip_distance  RatecodeID  fare_amount  extra  mta_tax  tolls_amount  \\\n",
       "555561           1.20           1          6.5    2.5      0.5           0.0   \n",
       "581556           3.30           1         14.0    3.0      0.5           0.0   \n",
       "409468           1.00           1          5.0    0.5      0.5           0.0   \n",
       "224874           0.88           1          6.5    0.0      0.5           0.0   \n",
       "750617           0.68           1          7.0    0.0      0.5           0.0   \n",
       "\n",
       "        total_amount  pickup_hour  duration_s  passenger_count_1  ...  \\\n",
       "555561         11.76            7       375.0                  1  ...   \n",
       "581556         21.35           20       936.0                  0  ...   \n",
       "409468         10.56           20       215.0                  1  ...   \n",
       "224874         12.74           11       446.0                  1  ...   \n",
       "750617         12.36           13       504.0                  0  ...   \n",
       "\n",
       "        DOLocationID_259  DOLocationID_260  DOLocationID_261  \\\n",
       "555561                 0                 0                 0   \n",
       "581556                 0                 0                 0   \n",
       "409468                 0                 0                 0   \n",
       "224874                 0                 0                 0   \n",
       "750617                 0                 0                 0   \n",
       "\n",
       "        DOLocationID_262  DOLocationID_263  DOLocationID_264  \\\n",
       "555561                 0                 0                 0   \n",
       "581556                 0                 0                 0   \n",
       "409468                 0                 0                 0   \n",
       "224874                 0                 0                 0   \n",
       "750617                 0                 0                 0   \n",
       "\n",
       "        DOLocationID_265  payment_type_2  payment_type_3  payment_type_4  \n",
       "555561                 0               0               0               0  \n",
       "581556                 0               0               0               0  \n",
       "409468                 0               0               0               0  \n",
       "224874                 0               0               0               0  \n",
       "750617                 0               0               0               0  \n",
       "\n",
       "[5 rows x 529 columns]"
      ]
     },
     "execution_count": 50,
     "metadata": {},
     "output_type": "execute_result"
    }
   ],
   "source": [
    "x_train.head()"
   ]
  },
  {
   "cell_type": "code",
   "execution_count": 51,
   "metadata": {},
   "outputs": [
    {
     "data": {
      "text/plain": [
       "555561    True\n",
       "581556    True\n",
       "409468    True\n",
       "224874    True\n",
       "750617    True\n",
       "Name: good_or_nah, dtype: bool"
      ]
     },
     "execution_count": 51,
     "metadata": {},
     "output_type": "execute_result"
    }
   ],
   "source": [
    "y_train.head()"
   ]
  },
  {
   "cell_type": "code",
   "execution_count": 52,
   "metadata": {},
   "outputs": [
    {
     "data": {
      "text/plain": [
       "2.0"
      ]
     },
     "execution_count": 52,
     "metadata": {},
     "output_type": "execute_result"
    }
   ],
   "source": [
    "y_train.shape[0]/y_train.sum() # check for equal number of good and nahs"
   ]
  },
  {
   "cell_type": "code",
   "execution_count": null,
   "metadata": {},
   "outputs": [],
   "source": []
  },
  {
   "cell_type": "code",
   "execution_count": null,
   "metadata": {},
   "outputs": [],
   "source": []
  },
  {
   "cell_type": "markdown",
   "metadata": {},
   "source": [
    "# Scale Data\n",
    "Important for convergence on logistic regression when applying l1 and l2 penalties"
   ]
  },
  {
   "cell_type": "code",
   "execution_count": 53,
   "metadata": {},
   "outputs": [],
   "source": [
    "from sklearn.preprocessing import MinMaxScaler"
   ]
  },
  {
   "cell_type": "code",
   "execution_count": 54,
   "metadata": {},
   "outputs": [],
   "source": [
    "minmax = MinMaxScaler()"
   ]
  },
  {
   "cell_type": "code",
   "execution_count": 55,
   "metadata": {},
   "outputs": [
    {
     "data": {
      "text/plain": [
       "(884564, 529)"
      ]
     },
     "execution_count": 55,
     "metadata": {},
     "output_type": "execute_result"
    }
   ],
   "source": [
    "x_train.shape # 859578, 533"
   ]
  },
  {
   "cell_type": "code",
   "execution_count": 56,
   "metadata": {},
   "outputs": [
    {
     "data": {
      "text/html": [
       "<div>\n",
       "<style scoped>\n",
       "    .dataframe tbody tr th:only-of-type {\n",
       "        vertical-align: middle;\n",
       "    }\n",
       "\n",
       "    .dataframe tbody tr th {\n",
       "        vertical-align: top;\n",
       "    }\n",
       "\n",
       "    .dataframe thead th {\n",
       "        text-align: right;\n",
       "    }\n",
       "</style>\n",
       "<table border=\"1\" class=\"dataframe\">\n",
       "  <thead>\n",
       "    <tr style=\"text-align: right;\">\n",
       "      <th></th>\n",
       "      <th>trip_distance</th>\n",
       "      <th>RatecodeID</th>\n",
       "      <th>fare_amount</th>\n",
       "      <th>extra</th>\n",
       "      <th>mta_tax</th>\n",
       "      <th>tolls_amount</th>\n",
       "      <th>total_amount</th>\n",
       "      <th>pickup_hour</th>\n",
       "      <th>duration_s</th>\n",
       "      <th>passenger_count_1</th>\n",
       "      <th>...</th>\n",
       "      <th>DOLocationID_259</th>\n",
       "      <th>DOLocationID_260</th>\n",
       "      <th>DOLocationID_261</th>\n",
       "      <th>DOLocationID_262</th>\n",
       "      <th>DOLocationID_263</th>\n",
       "      <th>DOLocationID_264</th>\n",
       "      <th>DOLocationID_265</th>\n",
       "      <th>payment_type_2</th>\n",
       "      <th>payment_type_3</th>\n",
       "      <th>payment_type_4</th>\n",
       "    </tr>\n",
       "  </thead>\n",
       "  <tbody>\n",
       "    <tr>\n",
       "      <th>555561</th>\n",
       "      <td>1.20</td>\n",
       "      <td>1</td>\n",
       "      <td>6.5</td>\n",
       "      <td>2.5</td>\n",
       "      <td>0.5</td>\n",
       "      <td>0.0</td>\n",
       "      <td>11.76</td>\n",
       "      <td>7</td>\n",
       "      <td>375.0</td>\n",
       "      <td>1</td>\n",
       "      <td>...</td>\n",
       "      <td>0</td>\n",
       "      <td>0</td>\n",
       "      <td>0</td>\n",
       "      <td>0</td>\n",
       "      <td>0</td>\n",
       "      <td>0</td>\n",
       "      <td>0</td>\n",
       "      <td>0</td>\n",
       "      <td>0</td>\n",
       "      <td>0</td>\n",
       "    </tr>\n",
       "    <tr>\n",
       "      <th>581556</th>\n",
       "      <td>3.30</td>\n",
       "      <td>1</td>\n",
       "      <td>14.0</td>\n",
       "      <td>3.0</td>\n",
       "      <td>0.5</td>\n",
       "      <td>0.0</td>\n",
       "      <td>21.35</td>\n",
       "      <td>20</td>\n",
       "      <td>936.0</td>\n",
       "      <td>0</td>\n",
       "      <td>...</td>\n",
       "      <td>0</td>\n",
       "      <td>0</td>\n",
       "      <td>0</td>\n",
       "      <td>0</td>\n",
       "      <td>0</td>\n",
       "      <td>0</td>\n",
       "      <td>0</td>\n",
       "      <td>0</td>\n",
       "      <td>0</td>\n",
       "      <td>0</td>\n",
       "    </tr>\n",
       "    <tr>\n",
       "      <th>409468</th>\n",
       "      <td>1.00</td>\n",
       "      <td>1</td>\n",
       "      <td>5.0</td>\n",
       "      <td>0.5</td>\n",
       "      <td>0.5</td>\n",
       "      <td>0.0</td>\n",
       "      <td>10.56</td>\n",
       "      <td>20</td>\n",
       "      <td>215.0</td>\n",
       "      <td>1</td>\n",
       "      <td>...</td>\n",
       "      <td>0</td>\n",
       "      <td>0</td>\n",
       "      <td>0</td>\n",
       "      <td>0</td>\n",
       "      <td>0</td>\n",
       "      <td>0</td>\n",
       "      <td>0</td>\n",
       "      <td>0</td>\n",
       "      <td>0</td>\n",
       "      <td>0</td>\n",
       "    </tr>\n",
       "    <tr>\n",
       "      <th>224874</th>\n",
       "      <td>0.88</td>\n",
       "      <td>1</td>\n",
       "      <td>6.5</td>\n",
       "      <td>0.0</td>\n",
       "      <td>0.5</td>\n",
       "      <td>0.0</td>\n",
       "      <td>12.74</td>\n",
       "      <td>11</td>\n",
       "      <td>446.0</td>\n",
       "      <td>1</td>\n",
       "      <td>...</td>\n",
       "      <td>0</td>\n",
       "      <td>0</td>\n",
       "      <td>0</td>\n",
       "      <td>0</td>\n",
       "      <td>0</td>\n",
       "      <td>0</td>\n",
       "      <td>0</td>\n",
       "      <td>0</td>\n",
       "      <td>0</td>\n",
       "      <td>0</td>\n",
       "    </tr>\n",
       "    <tr>\n",
       "      <th>750617</th>\n",
       "      <td>0.68</td>\n",
       "      <td>1</td>\n",
       "      <td>7.0</td>\n",
       "      <td>0.0</td>\n",
       "      <td>0.5</td>\n",
       "      <td>0.0</td>\n",
       "      <td>12.36</td>\n",
       "      <td>13</td>\n",
       "      <td>504.0</td>\n",
       "      <td>0</td>\n",
       "      <td>...</td>\n",
       "      <td>0</td>\n",
       "      <td>0</td>\n",
       "      <td>0</td>\n",
       "      <td>0</td>\n",
       "      <td>0</td>\n",
       "      <td>0</td>\n",
       "      <td>0</td>\n",
       "      <td>0</td>\n",
       "      <td>0</td>\n",
       "      <td>0</td>\n",
       "    </tr>\n",
       "  </tbody>\n",
       "</table>\n",
       "<p>5 rows × 529 columns</p>\n",
       "</div>"
      ],
      "text/plain": [
       "        trip_distance  RatecodeID  fare_amount  extra  mta_tax  tolls_amount  \\\n",
       "555561           1.20           1          6.5    2.5      0.5           0.0   \n",
       "581556           3.30           1         14.0    3.0      0.5           0.0   \n",
       "409468           1.00           1          5.0    0.5      0.5           0.0   \n",
       "224874           0.88           1          6.5    0.0      0.5           0.0   \n",
       "750617           0.68           1          7.0    0.0      0.5           0.0   \n",
       "\n",
       "        total_amount  pickup_hour  duration_s  passenger_count_1  ...  \\\n",
       "555561         11.76            7       375.0                  1  ...   \n",
       "581556         21.35           20       936.0                  0  ...   \n",
       "409468         10.56           20       215.0                  1  ...   \n",
       "224874         12.74           11       446.0                  1  ...   \n",
       "750617         12.36           13       504.0                  0  ...   \n",
       "\n",
       "        DOLocationID_259  DOLocationID_260  DOLocationID_261  \\\n",
       "555561                 0                 0                 0   \n",
       "581556                 0                 0                 0   \n",
       "409468                 0                 0                 0   \n",
       "224874                 0                 0                 0   \n",
       "750617                 0                 0                 0   \n",
       "\n",
       "        DOLocationID_262  DOLocationID_263  DOLocationID_264  \\\n",
       "555561                 0                 0                 0   \n",
       "581556                 0                 0                 0   \n",
       "409468                 0                 0                 0   \n",
       "224874                 0                 0                 0   \n",
       "750617                 0                 0                 0   \n",
       "\n",
       "        DOLocationID_265  payment_type_2  payment_type_3  payment_type_4  \n",
       "555561                 0               0               0               0  \n",
       "581556                 0               0               0               0  \n",
       "409468                 0               0               0               0  \n",
       "224874                 0               0               0               0  \n",
       "750617                 0               0               0               0  \n",
       "\n",
       "[5 rows x 529 columns]"
      ]
     },
     "execution_count": 56,
     "metadata": {},
     "output_type": "execute_result"
    }
   ],
   "source": [
    "x_train.head()"
   ]
  },
  {
   "cell_type": "code",
   "execution_count": 57,
   "metadata": {},
   "outputs": [
    {
     "data": {
      "text/plain": [
       "MinMaxScaler(copy=True, feature_range=(0, 1))"
      ]
     },
     "execution_count": 57,
     "metadata": {},
     "output_type": "execute_result"
    }
   ],
   "source": [
    "minmax.fit(x_train)"
   ]
  },
  {
   "cell_type": "code",
   "execution_count": 58,
   "metadata": {},
   "outputs": [
    {
     "data": {
      "text/plain": [
       "['trip_distance', 'RatecodeID', 'fare_amount', 'extra', 'mta_tax']"
      ]
     },
     "execution_count": 58,
     "metadata": {},
     "output_type": "execute_result"
    }
   ],
   "source": [
    "the_cols = list(x_test.columns)\n",
    "the_cols[:5]"
   ]
  },
  {
   "cell_type": "code",
   "execution_count": 59,
   "metadata": {},
   "outputs": [],
   "source": [
    "x_train = minmax.transform(x_train)"
   ]
  },
  {
   "cell_type": "code",
   "execution_count": 60,
   "metadata": {},
   "outputs": [
    {
     "data": {
      "text/html": [
       "<div>\n",
       "<style scoped>\n",
       "    .dataframe tbody tr th:only-of-type {\n",
       "        vertical-align: middle;\n",
       "    }\n",
       "\n",
       "    .dataframe tbody tr th {\n",
       "        vertical-align: top;\n",
       "    }\n",
       "\n",
       "    .dataframe thead th {\n",
       "        text-align: right;\n",
       "    }\n",
       "</style>\n",
       "<table border=\"1\" class=\"dataframe\">\n",
       "  <thead>\n",
       "    <tr style=\"text-align: right;\">\n",
       "      <th></th>\n",
       "      <th>trip_distance</th>\n",
       "      <th>RatecodeID</th>\n",
       "      <th>fare_amount</th>\n",
       "      <th>extra</th>\n",
       "      <th>mta_tax</th>\n",
       "      <th>tolls_amount</th>\n",
       "      <th>total_amount</th>\n",
       "      <th>pickup_hour</th>\n",
       "      <th>duration_s</th>\n",
       "      <th>passenger_count_1</th>\n",
       "      <th>...</th>\n",
       "      <th>DOLocationID_259</th>\n",
       "      <th>DOLocationID_260</th>\n",
       "      <th>DOLocationID_261</th>\n",
       "      <th>DOLocationID_262</th>\n",
       "      <th>DOLocationID_263</th>\n",
       "      <th>DOLocationID_264</th>\n",
       "      <th>DOLocationID_265</th>\n",
       "      <th>payment_type_2</th>\n",
       "      <th>payment_type_3</th>\n",
       "      <th>payment_type_4</th>\n",
       "    </tr>\n",
       "  </thead>\n",
       "  <tbody>\n",
       "    <tr>\n",
       "      <th>0</th>\n",
       "      <td>0.007932</td>\n",
       "      <td>0.0</td>\n",
       "      <td>0.013</td>\n",
       "      <td>0.138889</td>\n",
       "      <td>0.555556</td>\n",
       "      <td>0.0</td>\n",
       "      <td>0.022878</td>\n",
       "      <td>0.304348</td>\n",
       "      <td>0.004341</td>\n",
       "      <td>1.0</td>\n",
       "      <td>...</td>\n",
       "      <td>0.0</td>\n",
       "      <td>0.0</td>\n",
       "      <td>0.0</td>\n",
       "      <td>0.0</td>\n",
       "      <td>0.0</td>\n",
       "      <td>0.0</td>\n",
       "      <td>0.0</td>\n",
       "      <td>0.0</td>\n",
       "      <td>0.0</td>\n",
       "      <td>0.0</td>\n",
       "    </tr>\n",
       "    <tr>\n",
       "      <th>1</th>\n",
       "      <td>0.021814</td>\n",
       "      <td>0.0</td>\n",
       "      <td>0.028</td>\n",
       "      <td>0.166667</td>\n",
       "      <td>0.555556</td>\n",
       "      <td>0.0</td>\n",
       "      <td>0.041534</td>\n",
       "      <td>0.869565</td>\n",
       "      <td>0.010834</td>\n",
       "      <td>0.0</td>\n",
       "      <td>...</td>\n",
       "      <td>0.0</td>\n",
       "      <td>0.0</td>\n",
       "      <td>0.0</td>\n",
       "      <td>0.0</td>\n",
       "      <td>0.0</td>\n",
       "      <td>0.0</td>\n",
       "      <td>0.0</td>\n",
       "      <td>0.0</td>\n",
       "      <td>0.0</td>\n",
       "      <td>0.0</td>\n",
       "    </tr>\n",
       "    <tr>\n",
       "      <th>2</th>\n",
       "      <td>0.006610</td>\n",
       "      <td>0.0</td>\n",
       "      <td>0.010</td>\n",
       "      <td>0.027778</td>\n",
       "      <td>0.555556</td>\n",
       "      <td>0.0</td>\n",
       "      <td>0.020543</td>\n",
       "      <td>0.869565</td>\n",
       "      <td>0.002489</td>\n",
       "      <td>1.0</td>\n",
       "      <td>...</td>\n",
       "      <td>0.0</td>\n",
       "      <td>0.0</td>\n",
       "      <td>0.0</td>\n",
       "      <td>0.0</td>\n",
       "      <td>0.0</td>\n",
       "      <td>0.0</td>\n",
       "      <td>0.0</td>\n",
       "      <td>0.0</td>\n",
       "      <td>0.0</td>\n",
       "      <td>0.0</td>\n",
       "    </tr>\n",
       "    <tr>\n",
       "      <th>3</th>\n",
       "      <td>0.005817</td>\n",
       "      <td>0.0</td>\n",
       "      <td>0.013</td>\n",
       "      <td>0.000000</td>\n",
       "      <td>0.555556</td>\n",
       "      <td>0.0</td>\n",
       "      <td>0.024784</td>\n",
       "      <td>0.478261</td>\n",
       "      <td>0.005162</td>\n",
       "      <td>1.0</td>\n",
       "      <td>...</td>\n",
       "      <td>0.0</td>\n",
       "      <td>0.0</td>\n",
       "      <td>0.0</td>\n",
       "      <td>0.0</td>\n",
       "      <td>0.0</td>\n",
       "      <td>0.0</td>\n",
       "      <td>0.0</td>\n",
       "      <td>0.0</td>\n",
       "      <td>0.0</td>\n",
       "      <td>0.0</td>\n",
       "    </tr>\n",
       "    <tr>\n",
       "      <th>4</th>\n",
       "      <td>0.004495</td>\n",
       "      <td>0.0</td>\n",
       "      <td>0.014</td>\n",
       "      <td>0.000000</td>\n",
       "      <td>0.555556</td>\n",
       "      <td>0.0</td>\n",
       "      <td>0.024045</td>\n",
       "      <td>0.565217</td>\n",
       "      <td>0.005834</td>\n",
       "      <td>0.0</td>\n",
       "      <td>...</td>\n",
       "      <td>0.0</td>\n",
       "      <td>0.0</td>\n",
       "      <td>0.0</td>\n",
       "      <td>0.0</td>\n",
       "      <td>0.0</td>\n",
       "      <td>0.0</td>\n",
       "      <td>0.0</td>\n",
       "      <td>0.0</td>\n",
       "      <td>0.0</td>\n",
       "      <td>0.0</td>\n",
       "    </tr>\n",
       "  </tbody>\n",
       "</table>\n",
       "<p>5 rows × 529 columns</p>\n",
       "</div>"
      ],
      "text/plain": [
       "   trip_distance  RatecodeID  fare_amount     extra   mta_tax  tolls_amount  \\\n",
       "0       0.007932         0.0        0.013  0.138889  0.555556           0.0   \n",
       "1       0.021814         0.0        0.028  0.166667  0.555556           0.0   \n",
       "2       0.006610         0.0        0.010  0.027778  0.555556           0.0   \n",
       "3       0.005817         0.0        0.013  0.000000  0.555556           0.0   \n",
       "4       0.004495         0.0        0.014  0.000000  0.555556           0.0   \n",
       "\n",
       "   total_amount  pickup_hour  duration_s  passenger_count_1  ...  \\\n",
       "0      0.022878     0.304348    0.004341                1.0  ...   \n",
       "1      0.041534     0.869565    0.010834                0.0  ...   \n",
       "2      0.020543     0.869565    0.002489                1.0  ...   \n",
       "3      0.024784     0.478261    0.005162                1.0  ...   \n",
       "4      0.024045     0.565217    0.005834                0.0  ...   \n",
       "\n",
       "   DOLocationID_259  DOLocationID_260  DOLocationID_261  DOLocationID_262  \\\n",
       "0               0.0               0.0               0.0               0.0   \n",
       "1               0.0               0.0               0.0               0.0   \n",
       "2               0.0               0.0               0.0               0.0   \n",
       "3               0.0               0.0               0.0               0.0   \n",
       "4               0.0               0.0               0.0               0.0   \n",
       "\n",
       "   DOLocationID_263  DOLocationID_264  DOLocationID_265  payment_type_2  \\\n",
       "0               0.0               0.0               0.0             0.0   \n",
       "1               0.0               0.0               0.0             0.0   \n",
       "2               0.0               0.0               0.0             0.0   \n",
       "3               0.0               0.0               0.0             0.0   \n",
       "4               0.0               0.0               0.0             0.0   \n",
       "\n",
       "   payment_type_3  payment_type_4  \n",
       "0             0.0             0.0  \n",
       "1             0.0             0.0  \n",
       "2             0.0             0.0  \n",
       "3             0.0             0.0  \n",
       "4             0.0             0.0  \n",
       "\n",
       "[5 rows x 529 columns]"
      ]
     },
     "execution_count": 60,
     "metadata": {},
     "output_type": "execute_result"
    }
   ],
   "source": [
    "x_train = pd.DataFrame(x_train, columns = the_cols)\n",
    "x_train.head()"
   ]
  },
  {
   "cell_type": "code",
   "execution_count": 61,
   "metadata": {},
   "outputs": [
    {
     "data": {
      "text/plain": [
       "(884564, 529)"
      ]
     },
     "execution_count": 61,
     "metadata": {},
     "output_type": "execute_result"
    }
   ],
   "source": [
    "x_train.shape"
   ]
  },
  {
   "cell_type": "code",
   "execution_count": 62,
   "metadata": {},
   "outputs": [
    {
     "data": {
      "text/plain": [
       "(249577, 529)"
      ]
     },
     "execution_count": 62,
     "metadata": {},
     "output_type": "execute_result"
    }
   ],
   "source": [
    "x_test.shape"
   ]
  },
  {
   "cell_type": "code",
   "execution_count": 63,
   "metadata": {},
   "outputs": [],
   "source": [
    "x_test = minmax.transform(x_test)"
   ]
  },
  {
   "cell_type": "code",
   "execution_count": 64,
   "metadata": {},
   "outputs": [],
   "source": [
    "x_test = pd.DataFrame(x_test, columns = the_cols)"
   ]
  },
  {
   "cell_type": "code",
   "execution_count": 65,
   "metadata": {},
   "outputs": [
    {
     "data": {
      "text/plain": [
       "(249577, 529)"
      ]
     },
     "execution_count": 65,
     "metadata": {},
     "output_type": "execute_result"
    }
   ],
   "source": [
    "x_test.shape"
   ]
  },
  {
   "cell_type": "code",
   "execution_count": 66,
   "metadata": {},
   "outputs": [
    {
     "data": {
      "text/html": [
       "<div>\n",
       "<style scoped>\n",
       "    .dataframe tbody tr th:only-of-type {\n",
       "        vertical-align: middle;\n",
       "    }\n",
       "\n",
       "    .dataframe tbody tr th {\n",
       "        vertical-align: top;\n",
       "    }\n",
       "\n",
       "    .dataframe thead th {\n",
       "        text-align: right;\n",
       "    }\n",
       "</style>\n",
       "<table border=\"1\" class=\"dataframe\">\n",
       "  <thead>\n",
       "    <tr style=\"text-align: right;\">\n",
       "      <th></th>\n",
       "      <th>trip_distance</th>\n",
       "      <th>RatecodeID</th>\n",
       "      <th>fare_amount</th>\n",
       "      <th>extra</th>\n",
       "      <th>mta_tax</th>\n",
       "      <th>tolls_amount</th>\n",
       "      <th>total_amount</th>\n",
       "      <th>pickup_hour</th>\n",
       "      <th>duration_s</th>\n",
       "      <th>passenger_count_1</th>\n",
       "      <th>...</th>\n",
       "      <th>DOLocationID_259</th>\n",
       "      <th>DOLocationID_260</th>\n",
       "      <th>DOLocationID_261</th>\n",
       "      <th>DOLocationID_262</th>\n",
       "      <th>DOLocationID_263</th>\n",
       "      <th>DOLocationID_264</th>\n",
       "      <th>DOLocationID_265</th>\n",
       "      <th>payment_type_2</th>\n",
       "      <th>payment_type_3</th>\n",
       "      <th>payment_type_4</th>\n",
       "    </tr>\n",
       "  </thead>\n",
       "  <tbody>\n",
       "    <tr>\n",
       "      <th>0</th>\n",
       "      <td>0.011039</td>\n",
       "      <td>0.0</td>\n",
       "      <td>0.019</td>\n",
       "      <td>0.027778</td>\n",
       "      <td>0.555556</td>\n",
       "      <td>0.0</td>\n",
       "      <td>0.031048</td>\n",
       "      <td>1.000000</td>\n",
       "      <td>0.008542</td>\n",
       "      <td>1.0</td>\n",
       "      <td>...</td>\n",
       "      <td>0.0</td>\n",
       "      <td>0.0</td>\n",
       "      <td>0.0</td>\n",
       "      <td>0.0</td>\n",
       "      <td>0.0</td>\n",
       "      <td>0.0</td>\n",
       "      <td>0.0</td>\n",
       "      <td>0.0</td>\n",
       "      <td>0.0</td>\n",
       "      <td>0.0</td>\n",
       "    </tr>\n",
       "    <tr>\n",
       "      <th>1</th>\n",
       "      <td>0.018377</td>\n",
       "      <td>0.0</td>\n",
       "      <td>0.024</td>\n",
       "      <td>0.000000</td>\n",
       "      <td>0.555556</td>\n",
       "      <td>0.0</td>\n",
       "      <td>0.029764</td>\n",
       "      <td>0.521739</td>\n",
       "      <td>0.009283</td>\n",
       "      <td>1.0</td>\n",
       "      <td>...</td>\n",
       "      <td>0.0</td>\n",
       "      <td>0.0</td>\n",
       "      <td>0.0</td>\n",
       "      <td>0.0</td>\n",
       "      <td>0.0</td>\n",
       "      <td>0.0</td>\n",
       "      <td>0.0</td>\n",
       "      <td>1.0</td>\n",
       "      <td>0.0</td>\n",
       "      <td>0.0</td>\n",
       "    </tr>\n",
       "    <tr>\n",
       "      <th>2</th>\n",
       "      <td>0.011700</td>\n",
       "      <td>0.0</td>\n",
       "      <td>0.019</td>\n",
       "      <td>0.027778</td>\n",
       "      <td>0.555556</td>\n",
       "      <td>0.0</td>\n",
       "      <td>0.031048</td>\n",
       "      <td>0.956522</td>\n",
       "      <td>0.007188</td>\n",
       "      <td>1.0</td>\n",
       "      <td>...</td>\n",
       "      <td>0.0</td>\n",
       "      <td>0.0</td>\n",
       "      <td>0.0</td>\n",
       "      <td>0.0</td>\n",
       "      <td>0.0</td>\n",
       "      <td>0.0</td>\n",
       "      <td>0.0</td>\n",
       "      <td>0.0</td>\n",
       "      <td>0.0</td>\n",
       "      <td>0.0</td>\n",
       "    </tr>\n",
       "    <tr>\n",
       "      <th>3</th>\n",
       "      <td>0.005949</td>\n",
       "      <td>0.0</td>\n",
       "      <td>0.012</td>\n",
       "      <td>0.138889</td>\n",
       "      <td>0.555556</td>\n",
       "      <td>0.0</td>\n",
       "      <td>0.021691</td>\n",
       "      <td>0.434783</td>\n",
       "      <td>0.003982</td>\n",
       "      <td>1.0</td>\n",
       "      <td>...</td>\n",
       "      <td>0.0</td>\n",
       "      <td>0.0</td>\n",
       "      <td>0.0</td>\n",
       "      <td>0.0</td>\n",
       "      <td>0.0</td>\n",
       "      <td>0.0</td>\n",
       "      <td>0.0</td>\n",
       "      <td>0.0</td>\n",
       "      <td>0.0</td>\n",
       "      <td>0.0</td>\n",
       "    </tr>\n",
       "    <tr>\n",
       "      <th>4</th>\n",
       "      <td>0.014543</td>\n",
       "      <td>0.0</td>\n",
       "      <td>0.023</td>\n",
       "      <td>0.194444</td>\n",
       "      <td>0.555556</td>\n",
       "      <td>0.0</td>\n",
       "      <td>0.032682</td>\n",
       "      <td>0.826087</td>\n",
       "      <td>0.010811</td>\n",
       "      <td>1.0</td>\n",
       "      <td>...</td>\n",
       "      <td>0.0</td>\n",
       "      <td>0.0</td>\n",
       "      <td>0.0</td>\n",
       "      <td>0.0</td>\n",
       "      <td>0.0</td>\n",
       "      <td>0.0</td>\n",
       "      <td>0.0</td>\n",
       "      <td>0.0</td>\n",
       "      <td>0.0</td>\n",
       "      <td>0.0</td>\n",
       "    </tr>\n",
       "  </tbody>\n",
       "</table>\n",
       "<p>5 rows × 529 columns</p>\n",
       "</div>"
      ],
      "text/plain": [
       "   trip_distance  RatecodeID  fare_amount     extra   mta_tax  tolls_amount  \\\n",
       "0       0.011039         0.0        0.019  0.027778  0.555556           0.0   \n",
       "1       0.018377         0.0        0.024  0.000000  0.555556           0.0   \n",
       "2       0.011700         0.0        0.019  0.027778  0.555556           0.0   \n",
       "3       0.005949         0.0        0.012  0.138889  0.555556           0.0   \n",
       "4       0.014543         0.0        0.023  0.194444  0.555556           0.0   \n",
       "\n",
       "   total_amount  pickup_hour  duration_s  passenger_count_1  ...  \\\n",
       "0      0.031048     1.000000    0.008542                1.0  ...   \n",
       "1      0.029764     0.521739    0.009283                1.0  ...   \n",
       "2      0.031048     0.956522    0.007188                1.0  ...   \n",
       "3      0.021691     0.434783    0.003982                1.0  ...   \n",
       "4      0.032682     0.826087    0.010811                1.0  ...   \n",
       "\n",
       "   DOLocationID_259  DOLocationID_260  DOLocationID_261  DOLocationID_262  \\\n",
       "0               0.0               0.0               0.0               0.0   \n",
       "1               0.0               0.0               0.0               0.0   \n",
       "2               0.0               0.0               0.0               0.0   \n",
       "3               0.0               0.0               0.0               0.0   \n",
       "4               0.0               0.0               0.0               0.0   \n",
       "\n",
       "   DOLocationID_263  DOLocationID_264  DOLocationID_265  payment_type_2  \\\n",
       "0               0.0               0.0               0.0             0.0   \n",
       "1               0.0               0.0               0.0             1.0   \n",
       "2               0.0               0.0               0.0             0.0   \n",
       "3               0.0               0.0               0.0             0.0   \n",
       "4               0.0               0.0               0.0             0.0   \n",
       "\n",
       "   payment_type_3  payment_type_4  \n",
       "0             0.0             0.0  \n",
       "1             0.0             0.0  \n",
       "2             0.0             0.0  \n",
       "3             0.0             0.0  \n",
       "4             0.0             0.0  \n",
       "\n",
       "[5 rows x 529 columns]"
      ]
     },
     "execution_count": 66,
     "metadata": {},
     "output_type": "execute_result"
    }
   ],
   "source": [
    "x_test.head()"
   ]
  },
  {
   "cell_type": "markdown",
   "metadata": {},
   "source": [
    "# Create Models"
   ]
  },
  {
   "cell_type": "markdown",
   "metadata": {},
   "source": [
    "## Logistic Regression Model"
   ]
  },
  {
   "cell_type": "code",
   "execution_count": 67,
   "metadata": {},
   "outputs": [],
   "source": [
    "from sklearn.linear_model import LogisticRegression"
   ]
  },
  {
   "cell_type": "code",
   "execution_count": 68,
   "metadata": {},
   "outputs": [],
   "source": [
    "logreg = LogisticRegression(penalty = 'l2',\n",
    "                             class_weight = 'balanced', \n",
    "                             solver = 'saga', \n",
    "                             max_iter = 250, \n",
    "                             verbose = 1,\n",
    "                             n_jobs = -1)"
   ]
  },
  {
   "cell_type": "code",
   "execution_count": 69,
   "metadata": {},
   "outputs": [
    {
     "name": "stderr",
     "output_type": "stream",
     "text": [
      "[Parallel(n_jobs=-1)]: Using backend ThreadingBackend with 4 concurrent workers.\n"
     ]
    },
    {
     "name": "stdout",
     "output_type": "stream",
     "text": [
      "convergence after 35 epochs took 397 seconds\n"
     ]
    },
    {
     "name": "stderr",
     "output_type": "stream",
     "text": [
      "[Parallel(n_jobs=-1)]: Done   1 out of   1 | elapsed:  6.6min finished\n"
     ]
    },
    {
     "data": {
      "text/plain": [
       "LogisticRegression(C=1.0, class_weight='balanced', dual=False,\n",
       "                   fit_intercept=True, intercept_scaling=1, l1_ratio=None,\n",
       "                   max_iter=250, multi_class='auto', n_jobs=-1, penalty='l2',\n",
       "                   random_state=None, solver='saga', tol=0.0001, verbose=1,\n",
       "                   warm_start=False)"
      ]
     },
     "execution_count": 69,
     "metadata": {},
     "output_type": "execute_result"
    }
   ],
   "source": [
    "logreg.fit(x_train, y_train)"
   ]
  },
  {
   "cell_type": "code",
   "execution_count": 70,
   "metadata": {},
   "outputs": [],
   "source": [
    "log_pred = logreg.predict(x_test)"
   ]
  },
  {
   "cell_type": "code",
   "execution_count": null,
   "metadata": {},
   "outputs": [],
   "source": []
  },
  {
   "cell_type": "code",
   "execution_count": 71,
   "metadata": {},
   "outputs": [],
   "source": [
    "#### l1 penalty"
   ]
  },
  {
   "cell_type": "code",
   "execution_count": 72,
   "metadata": {},
   "outputs": [],
   "source": [
    "logreg2 = LogisticRegression(penalty = 'l1',\n",
    "                             class_weight = 'balanced', \n",
    "                             solver = 'saga', \n",
    "                             max_iter = 250, \n",
    "                             verbose = 1,\n",
    "                             n_jobs = -1)"
   ]
  },
  {
   "cell_type": "code",
   "execution_count": 73,
   "metadata": {},
   "outputs": [
    {
     "name": "stderr",
     "output_type": "stream",
     "text": [
      "[Parallel(n_jobs=-1)]: Using backend ThreadingBackend with 4 concurrent workers.\n"
     ]
    },
    {
     "name": "stdout",
     "output_type": "stream",
     "text": [
      "max_iter reached after 2838 seconds\n"
     ]
    },
    {
     "name": "stderr",
     "output_type": "stream",
     "text": [
      "C:\\Users\\gl127\\anaconda3\\lib\\site-packages\\sklearn\\linear_model\\_sag.py:330: ConvergenceWarning: The max_iter was reached which means the coef_ did not converge\n",
      "  \"the coef_ did not converge\", ConvergenceWarning)\n",
      "[Parallel(n_jobs=-1)]: Done   1 out of   1 | elapsed: 47.3min finished\n"
     ]
    },
    {
     "data": {
      "text/plain": [
       "LogisticRegression(C=1.0, class_weight='balanced', dual=False,\n",
       "                   fit_intercept=True, intercept_scaling=1, l1_ratio=None,\n",
       "                   max_iter=250, multi_class='auto', n_jobs=-1, penalty='l1',\n",
       "                   random_state=None, solver='saga', tol=0.0001, verbose=1,\n",
       "                   warm_start=False)"
      ]
     },
     "execution_count": 73,
     "metadata": {},
     "output_type": "execute_result"
    }
   ],
   "source": [
    "logreg2.fit(x_train, y_train)"
   ]
  },
  {
   "cell_type": "code",
   "execution_count": 74,
   "metadata": {},
   "outputs": [],
   "source": [
    "log_pred2 = logreg2.predict(x_test)"
   ]
  },
  {
   "cell_type": "code",
   "execution_count": null,
   "metadata": {},
   "outputs": [],
   "source": []
  },
  {
   "cell_type": "markdown",
   "metadata": {},
   "source": [
    "## Evaluate Logistic Regression Model"
   ]
  },
  {
   "cell_type": "code",
   "execution_count": 75,
   "metadata": {},
   "outputs": [],
   "source": [
    "from sklearn.metrics import accuracy_score, f1_score"
   ]
  },
  {
   "cell_type": "code",
   "execution_count": 76,
   "metadata": {},
   "outputs": [],
   "source": [
    "### ============================ l2 penalty"
   ]
  },
  {
   "cell_type": "code",
   "execution_count": 77,
   "metadata": {},
   "outputs": [
    {
     "data": {
      "text/plain": [
       "0.8034875008514406"
      ]
     },
     "execution_count": 77,
     "metadata": {},
     "output_type": "execute_result"
    }
   ],
   "source": [
    "accuracy_score(y_test, log_pred) "
   ]
  },
  {
   "cell_type": "code",
   "execution_count": 78,
   "metadata": {},
   "outputs": [
    {
     "data": {
      "text/plain": [
       "0.8007102832599888"
      ]
     },
     "execution_count": 78,
     "metadata": {},
     "output_type": "execute_result"
    }
   ],
   "source": [
    "f1_score(y_test, log_pred)"
   ]
  },
  {
   "cell_type": "code",
   "execution_count": 79,
   "metadata": {},
   "outputs": [],
   "source": [
    "### ============================ l1 penalty"
   ]
  },
  {
   "cell_type": "code",
   "execution_count": 80,
   "metadata": {},
   "outputs": [
    {
     "data": {
      "text/plain": [
       "0.917524451371721"
      ]
     },
     "execution_count": 80,
     "metadata": {},
     "output_type": "execute_result"
    }
   ],
   "source": [
    "accuracy_score(y_test, log_pred2) "
   ]
  },
  {
   "cell_type": "code",
   "execution_count": 81,
   "metadata": {},
   "outputs": [
    {
     "data": {
      "text/plain": [
       "0.9054608919303726"
      ]
     },
     "execution_count": 81,
     "metadata": {},
     "output_type": "execute_result"
    }
   ],
   "source": [
    "f1_score(y_test, log_pred2) "
   ]
  },
  {
   "cell_type": "markdown",
   "metadata": {},
   "source": [
    "## Random Forest Model"
   ]
  },
  {
   "cell_type": "markdown",
   "metadata": {},
   "source": [
    "### Create objects to test hyperparameters"
   ]
  },
  {
   "cell_type": "markdown",
   "metadata": {},
   "source": [
    "random_state = 52 to get reproduceable results"
   ]
  },
  {
   "cell_type": "code",
   "execution_count": 82,
   "metadata": {},
   "outputs": [],
   "source": [
    "from sklearn.ensemble import RandomForestClassifier"
   ]
  },
  {
   "cell_type": "code",
   "execution_count": 83,
   "metadata": {},
   "outputs": [],
   "source": [
    "rf = RandomForestClassifier(random_state = 52, n_jobs = -1, class_weight = 'balanced')"
   ]
  },
  {
   "cell_type": "code",
   "execution_count": 84,
   "metadata": {},
   "outputs": [],
   "source": [
    "from sklearn.model_selection import GridSearchCV"
   ]
  },
  {
   "cell_type": "code",
   "execution_count": 85,
   "metadata": {},
   "outputs": [],
   "source": [
    "params_to_test = {'n_estimators': [10, 20, 30]#[100,300,500], #this took too long and crashed after several hours so decrease the number\n",
    "#                   'max_depth': [5,10,15,20, None],\n",
    "                  }"
   ]
  },
  {
   "cell_type": "code",
   "execution_count": 86,
   "metadata": {},
   "outputs": [],
   "source": [
    "grid = GridSearchCV(estimator = rf, \n",
    "                    param_grid = params_to_test, \n",
    "                    scoring = 'f1',\n",
    "                    n_jobs = -1,\n",
    "                    cv = 2,\n",
    "                    verbose = 1)"
   ]
  },
  {
   "cell_type": "code",
   "execution_count": 87,
   "metadata": {},
   "outputs": [
    {
     "name": "stdout",
     "output_type": "stream",
     "text": [
      "Fitting 2 folds for each of 3 candidates, totalling 6 fits\n"
     ]
    },
    {
     "name": "stderr",
     "output_type": "stream",
     "text": [
      "[Parallel(n_jobs=-1)]: Using backend LokyBackend with 4 concurrent workers.\n",
      "[Parallel(n_jobs=-1)]: Done   6 out of   6 | elapsed:  5.4min remaining:    0.0s\n",
      "[Parallel(n_jobs=-1)]: Done   6 out of   6 | elapsed:  5.4min finished\n"
     ]
    },
    {
     "data": {
      "text/plain": [
       "GridSearchCV(cv=2, error_score=nan,\n",
       "             estimator=RandomForestClassifier(bootstrap=True, ccp_alpha=0.0,\n",
       "                                              class_weight='balanced',\n",
       "                                              criterion='gini', max_depth=None,\n",
       "                                              max_features='auto',\n",
       "                                              max_leaf_nodes=None,\n",
       "                                              max_samples=None,\n",
       "                                              min_impurity_decrease=0.0,\n",
       "                                              min_impurity_split=None,\n",
       "                                              min_samples_leaf=1,\n",
       "                                              min_samples_split=2,\n",
       "                                              min_weight_fraction_leaf=0.0,\n",
       "                                              n_estimators=100, n_jobs=-1,\n",
       "                                              oob_score=False, random_state=52,\n",
       "                                              verbose=0, warm_start=False),\n",
       "             iid='deprecated', n_jobs=-1,\n",
       "             param_grid={'n_estimators': [10, 20, 30]}, pre_dispatch='2*n_jobs',\n",
       "             refit=True, return_train_score=False, scoring='f1', verbose=1)"
      ]
     },
     "execution_count": 87,
     "metadata": {},
     "output_type": "execute_result"
    }
   ],
   "source": [
    "grid.fit(X = x_train, y = y_train)"
   ]
  },
  {
   "cell_type": "code",
   "execution_count": 88,
   "metadata": {},
   "outputs": [
    {
     "data": {
      "text/plain": [
       "{'n_estimators': 30}"
      ]
     },
     "execution_count": 88,
     "metadata": {},
     "output_type": "execute_result"
    }
   ],
   "source": [
    "grid.best_params_"
   ]
  },
  {
   "cell_type": "code",
   "execution_count": 89,
   "metadata": {},
   "outputs": [
    {
     "data": {
      "text/plain": [
       "{'mean_fit_time': array([125.43172336, 163.79663014, 155.57320738]),\n",
       " 'std_fit_time': array([1.96373582, 2.06198645, 0.10970616]),\n",
       " 'mean_score_time': array([19.09293711, 20.03941977,  7.36031866]),\n",
       " 'std_score_time': array([1.4969815 , 4.8649925 , 0.63630033]),\n",
       " 'param_n_estimators': masked_array(data=[10, 20, 30],\n",
       "              mask=[False, False, False],\n",
       "        fill_value='?',\n",
       "             dtype=object),\n",
       " 'params': [{'n_estimators': 10}, {'n_estimators': 20}, {'n_estimators': 30}],\n",
       " 'split0_test_score': array([0.95193024, 0.9550916 , 0.95712431]),\n",
       " 'split1_test_score': array([0.95082636, 0.95484996, 0.95614625]),\n",
       " 'mean_test_score': array([0.9513783 , 0.95497078, 0.95663528]),\n",
       " 'std_test_score': array([0.00055194, 0.00012082, 0.00048903]),\n",
       " 'rank_test_score': array([3, 2, 1])}"
      ]
     },
     "execution_count": 89,
     "metadata": {},
     "output_type": "execute_result"
    }
   ],
   "source": [
    "# results for 10,20,30 estimators\n",
    "grid.cv_results_"
   ]
  },
  {
   "cell_type": "code",
   "execution_count": 45,
   "metadata": {
    "scrolled": true
   },
   "outputs": [
    {
     "data": {
      "text/plain": [
       "{'mean_fit_time': array([118.12381303, 159.62323451, 145.49761808]),\n",
       " 'std_fit_time': array([0.90849698, 0.06214237, 0.16729987]),\n",
       " 'mean_score_time': array([32.53246105, 26.43195534, 14.35073793]),\n",
       " 'std_score_time': array([0.18373287, 0.13097954, 0.11526906]),\n",
       " 'param_n_estimators': masked_array(data=[10, 20, 30],\n",
       "              mask=[False, False, False],\n",
       "        fill_value='?',\n",
       "             dtype=object),\n",
       " 'params': [{'n_estimators': 10}, {'n_estimators': 20}, {'n_estimators': 30}],\n",
       " 'split0_test_score': array([0.9498536 , 0.9553242 , 0.95615397]),\n",
       " 'split1_test_score': array([0.94656946, 0.95103802, 0.9534162 ]),\n",
       " 'mean_test_score': array([0.94821153, 0.95318111, 0.95478508]),\n",
       " 'std_test_score': array([0.00164207, 0.00214309, 0.00136888]),\n",
       " 'rank_test_score': array([3, 2, 1], dtype=int32)}"
      ]
     },
     "execution_count": 45,
     "metadata": {},
     "output_type": "execute_result"
    }
   ],
   "source": [
    "# results for 10, 20, 30 estimators in the forest\n",
    "grid.cv_results_"
   ]
  },
  {
   "cell_type": "markdown",
   "metadata": {},
   "source": [
    "### Optimizing for accuracy"
   ]
  },
  {
   "cell_type": "code",
   "execution_count": 255,
   "metadata": {},
   "outputs": [],
   "source": [
    "grid2 = GridSearchCV(estimator = rf, \n",
    "                     param_grid = params_to_test, \n",
    "                     scoring = 'accuracy',\n",
    "                     n_jobs = -1,\n",
    "                     cv = 2,\n",
    "                     verbose = 1)"
   ]
  },
  {
   "cell_type": "code",
   "execution_count": 256,
   "metadata": {},
   "outputs": [
    {
     "name": "stdout",
     "output_type": "stream",
     "text": [
      "Fitting 2 folds for each of 3 candidates, totalling 6 fits\n"
     ]
    },
    {
     "name": "stderr",
     "output_type": "stream",
     "text": [
      "[Parallel(n_jobs=-1)]: Using backend LokyBackend with 4 concurrent workers.\n",
      "[Parallel(n_jobs=-1)]: Done   6 out of   6 | elapsed:  6.5min finished\n",
      "[Parallel(n_jobs=-1)]: Done   6 out of   6 | elapsed:  6.5min remaining:    0.0s\n"
     ]
    },
    {
     "data": {
      "text/plain": [
       "GridSearchCV(cv=2, error_score=nan,\n",
       "             estimator=RandomForestClassifier(bootstrap=True, ccp_alpha=0.0,\n",
       "                                              class_weight='balanced',\n",
       "                                              criterion='gini', max_depth=None,\n",
       "                                              max_features='auto',\n",
       "                                              max_leaf_nodes=None,\n",
       "                                              max_samples=None,\n",
       "                                              min_impurity_decrease=0.0,\n",
       "                                              min_impurity_split=None,\n",
       "                                              min_samples_leaf=1,\n",
       "                                              min_samples_split=2,\n",
       "                                              min_weight_fraction_leaf=0.0,\n",
       "                                              n_estimators=100, n_jobs=-1,\n",
       "                                              oob_score=False, random_state=52,\n",
       "                                              verbose=0, warm_start=False),\n",
       "             iid='deprecated', n_jobs=-1,\n",
       "             param_grid={'n_estimators': [10, 20, 30]}, pre_dispatch='2*n_jobs',\n",
       "             refit=True, return_train_score=False, scoring='accuracy',\n",
       "             verbose=1)"
      ]
     },
     "execution_count": 256,
     "metadata": {},
     "output_type": "execute_result"
    }
   ],
   "source": [
    "grid2.fit(X = x_train, y = y_train)"
   ]
  },
  {
   "cell_type": "code",
   "execution_count": 257,
   "metadata": {},
   "outputs": [
    {
     "data": {
      "text/plain": [
       "{'mean_fit_time': array([159.55684507, 205.95349705, 175.7021656 ]),\n",
       " 'std_fit_time': array([1.49923313, 2.09471095, 0.18153644]),\n",
       " 'mean_score_time': array([33.74942458, 31.22780895, 13.29429841]),\n",
       " 'std_score_time': array([0.64995348, 0.52250791, 0.42292643]),\n",
       " 'param_n_estimators': masked_array(data=[10, 20, 30],\n",
       "              mask=[False, False, False],\n",
       "        fill_value='?',\n",
       "             dtype=object),\n",
       " 'params': [{'n_estimators': 10}, {'n_estimators': 20}, {'n_estimators': 30}],\n",
       " 'split0_test_score': array([0.94947288, 0.95478014, 0.9555689 ]),\n",
       " 'split1_test_score': array([0.94601537, 0.95028956, 0.95267678]),\n",
       " 'mean_test_score': array([0.94774413, 0.95253485, 0.95412284]),\n",
       " 'std_test_score': array([0.00172876, 0.00224529, 0.00144606]),\n",
       " 'rank_test_score': array([3, 2, 1], dtype=int32)}"
      ]
     },
     "execution_count": 257,
     "metadata": {},
     "output_type": "execute_result"
    }
   ],
   "source": [
    "grid2.cv_results_ # same results, 30 estimators is best out of 10,20,30"
   ]
  },
  {
   "cell_type": "markdown",
   "metadata": {},
   "source": [
    "### Create object using best of the selected"
   ]
  },
  {
   "cell_type": "code",
   "execution_count": 94,
   "metadata": {},
   "outputs": [],
   "source": [
    "rf_train_only = RandomForestClassifier(n_estimators = 30, \n",
    "                                       random_state = 52, \n",
    "                                       n_jobs = -1, \n",
    "                                       class_weight = 'balanced')"
   ]
  },
  {
   "cell_type": "code",
   "execution_count": 95,
   "metadata": {
    "scrolled": true
   },
   "outputs": [
    {
     "data": {
      "text/plain": [
       "RandomForestClassifier(bootstrap=True, ccp_alpha=0.0, class_weight='balanced',\n",
       "                       criterion='gini', max_depth=None, max_features='auto',\n",
       "                       max_leaf_nodes=None, max_samples=None,\n",
       "                       min_impurity_decrease=0.0, min_impurity_split=None,\n",
       "                       min_samples_leaf=1, min_samples_split=2,\n",
       "                       min_weight_fraction_leaf=0.0, n_estimators=30, n_jobs=-1,\n",
       "                       oob_score=False, random_state=52, verbose=0,\n",
       "                       warm_start=False)"
      ]
     },
     "execution_count": 95,
     "metadata": {},
     "output_type": "execute_result"
    }
   ],
   "source": [
    "rf_train_only.fit(x_train, y_train)"
   ]
  },
  {
   "cell_type": "markdown",
   "metadata": {},
   "source": [
    "## Save Random Forest Model"
   ]
  },
  {
   "cell_type": "code",
   "execution_count": 96,
   "metadata": {},
   "outputs": [],
   "source": [
    "# save \n",
    "\n",
    "rf_taxi_model_name = 'rf_taxi_model'\n",
    "\n",
    "with open(rf_taxi_model_name, 'wb') as f:\n",
    "    pickle.dump(rf_train_only, f)"
   ]
  },
  {
   "cell_type": "code",
   "execution_count": 97,
   "metadata": {},
   "outputs": [],
   "source": [
    "# load\n",
    "\n",
    "rf_taxi_model_name = 'rf_taxi_model'\n",
    "\n",
    "with open(rf_taxi_model_name, 'rb') as f:\n",
    "    rf_train_only = pickle.load(f)"
   ]
  },
  {
   "cell_type": "markdown",
   "metadata": {},
   "source": [
    "### Feature importance with everything split"
   ]
  },
  {
   "cell_type": "code",
   "execution_count": 98,
   "metadata": {},
   "outputs": [],
   "source": [
    "importances = rf_train_only.feature_importances_"
   ]
  },
  {
   "cell_type": "code",
   "execution_count": 99,
   "metadata": {},
   "outputs": [
    {
     "data": {
      "text/plain": [
       "529"
      ]
     },
     "execution_count": 99,
     "metadata": {},
     "output_type": "execute_result"
    }
   ],
   "source": [
    "len(importances)"
   ]
  },
  {
   "cell_type": "code",
   "execution_count": 100,
   "metadata": {},
   "outputs": [
    {
     "data": {
      "text/plain": [
       "529"
      ]
     },
     "execution_count": 100,
     "metadata": {},
     "output_type": "execute_result"
    }
   ],
   "source": [
    "inputs;\n",
    "len(inputs)"
   ]
  },
  {
   "cell_type": "code",
   "execution_count": 101,
   "metadata": {},
   "outputs": [
    {
     "data": {
      "text/plain": [
       "[('total_amount', 0.2618370178300444),\n",
       " ('payment_type_2', 0.23867721618929688),\n",
       " ('fare_amount', 0.12984912708386276),\n",
       " ('duration_s', 0.09122868878156697),\n",
       " ('trip_distance', 0.07656845367649641),\n",
       " ('pickup_hour', 0.03390488058940655),\n",
       " ('extra', 0.01807824402638501),\n",
       " ('tolls_amount', 0.008088733346871164),\n",
       " ('passenger_count_1', 0.004935035313263864),\n",
       " ('passenger_count_2', 0.003806773694466318),\n",
       " ('payment_type_3', 0.003414610667338159),\n",
       " ('PULocationID_132', 0.003046547279867268),\n",
       " ('PULocationID_138', 0.0028705045096410523),\n",
       " ('RatecodeID', 0.002795919025282604),\n",
       " ('DOLocationID_138', 0.002061714100766088),\n",
       " ('passenger_count_3', 0.0020242299216167406),\n",
       " ('passenger_count_5', 0.001905242913658049),\n",
       " ('PULocationID_237', 0.001534310891648),\n",
       " ('PULocationID_236', 0.00147218589093491),\n",
       " ('DOLocationID_236', 0.001401364058736331)]"
      ]
     },
     "execution_count": 101,
     "metadata": {},
     "output_type": "execute_result"
    }
   ],
   "source": [
    "sorted_impor = sorted(zip(inputs,importances), key = lambda x: x[1], reverse = True)\n",
    "sorted_impor[:20]"
   ]
  },
  {
   "cell_type": "markdown",
   "metadata": {},
   "source": [
    "### Find importance of each categorical feature"
   ]
  },
  {
   "cell_type": "code",
   "execution_count": 57,
   "metadata": {},
   "outputs": [],
   "source": [
    "passenger_start = inputs.index('passenger_count_1')\n",
    "passenger_end = inputs.index('passenger_count_9')\n",
    "\n",
    "pickup_loc_start = inputs.index('PULocationID_2')\n",
    "pickup_loc_end = inputs.index('PULocationID_265')\n",
    "\n",
    "dropoff_loc_start = inputs.index('DOLocationID_2')\n",
    "dropoff_loc_end = inputs.index('DOLocationID_265')\n",
    "\n",
    "pay_start = inputs.index('payment_type_2')\n",
    "pay_end = inputs.index('payment_type_4')"
   ]
  },
  {
   "cell_type": "code",
   "execution_count": 59,
   "metadata": {},
   "outputs": [],
   "source": [
    "import numpy as np"
   ]
  },
  {
   "cell_type": "code",
   "execution_count": 251,
   "metadata": {},
   "outputs": [],
   "source": [
    "def eu_norm(importances):\n",
    "    \"\"\"finds the euclidean norm of a vector or array, calculated as\n",
    "    the square root of the sum of squares of each element\"\"\"\n",
    "    return np.sqrt((importances**2).sum())"
   ]
  },
  {
   "cell_type": "code",
   "execution_count": 74,
   "metadata": {},
   "outputs": [
    {
     "data": {
      "text/plain": [
       "0.006580444420434989"
      ]
     },
     "execution_count": 74,
     "metadata": {},
     "output_type": "execute_result"
    }
   ],
   "source": [
    "n_passengers_importance = eu_norm(importances[passenger_start : passenger_end])\n",
    "n_passengers_importance"
   ]
  },
  {
   "cell_type": "code",
   "execution_count": 75,
   "metadata": {},
   "outputs": [
    {
     "data": {
      "text/plain": [
       "0.008428068716357739"
      ]
     },
     "execution_count": 75,
     "metadata": {},
     "output_type": "execute_result"
    }
   ],
   "source": [
    "pickup_loc_importance = eu_norm(importances[pickup_loc_start : pickup_loc_end])\n",
    "pickup_loc_importance"
   ]
  },
  {
   "cell_type": "code",
   "execution_count": 76,
   "metadata": {},
   "outputs": [
    {
     "data": {
      "text/plain": [
       "0.006737459539417845"
      ]
     },
     "execution_count": 76,
     "metadata": {},
     "output_type": "execute_result"
    }
   ],
   "source": [
    "dropoff_loc_importance = eu_norm(importances[dropoff_loc_start : dropoff_loc_end])\n",
    "dropoff_loc_importance"
   ]
  },
  {
   "cell_type": "code",
   "execution_count": 77,
   "metadata": {},
   "outputs": [
    {
     "data": {
      "text/plain": [
       "0.22658663179634014"
      ]
     },
     "execution_count": 77,
     "metadata": {},
     "output_type": "execute_result"
    }
   ],
   "source": [
    "pay_type_importance = eu_norm(importances[pay_start : pay_end])\n",
    "pay_type_importance"
   ]
  },
  {
   "cell_type": "code",
   "execution_count": 79,
   "metadata": {},
   "outputs": [
    {
     "data": {
      "text/plain": [
       "(0.014380278683751956, 0.22965484908520345)"
      ]
     },
     "execution_count": 79,
     "metadata": {},
     "output_type": "execute_result"
    }
   ],
   "source": [
    "importances[passenger_start : passenger_end].sum(), importances[pay_start : pay_end].sum()"
   ]
  },
  {
   "cell_type": "code",
   "execution_count": 80,
   "metadata": {},
   "outputs": [
    {
     "data": {
      "text/plain": [
       "['trip_distance',\n",
       " 'RatecodeID',\n",
       " 'fare_amount',\n",
       " 'extra',\n",
       " 'mta_tax',\n",
       " 'tolls_amount',\n",
       " 'total_amount',\n",
       " 'pickup_hour',\n",
       " 'duration_s',\n",
       " 'passenger_count_1',\n",
       " 'passenger_count_2',\n",
       " 'passenger_count_3',\n",
       " 'passenger_count_4',\n",
       " 'passenger_count_5',\n",
       " 'passenger_count_6',\n",
       " 'passenger_count_7',\n",
       " 'passenger_count_8',\n",
       " 'passenger_count_9',\n",
       " 'PULocationID_2',\n",
       " 'PULocationID_3',\n",
       " 'PULocationID_4',\n",
       " 'PULocationID_5',\n",
       " 'PULocationID_6',\n",
       " 'PULocationID_7',\n",
       " 'PULocationID_8',\n",
       " 'PULocationID_9',\n",
       " 'PULocationID_10',\n",
       " 'PULocationID_11',\n",
       " 'PULocationID_12',\n",
       " 'PULocationID_13',\n",
       " 'PULocationID_14',\n",
       " 'PULocationID_15',\n",
       " 'PULocationID_16',\n",
       " 'PULocationID_17',\n",
       " 'PULocationID_18',\n",
       " 'PULocationID_19',\n",
       " 'PULocationID_20',\n",
       " 'PULocationID_21',\n",
       " 'PULocationID_22',\n",
       " 'PULocationID_23',\n",
       " 'PULocationID_24',\n",
       " 'PULocationID_25',\n",
       " 'PULocationID_26',\n",
       " 'PULocationID_27',\n",
       " 'PULocationID_28',\n",
       " 'PULocationID_29',\n",
       " 'PULocationID_31',\n",
       " 'PULocationID_32',\n",
       " 'PULocationID_33',\n",
       " 'PULocationID_34',\n",
       " 'PULocationID_35',\n",
       " 'PULocationID_36',\n",
       " 'PULocationID_37',\n",
       " 'PULocationID_38',\n",
       " 'PULocationID_39',\n",
       " 'PULocationID_40',\n",
       " 'PULocationID_41',\n",
       " 'PULocationID_42',\n",
       " 'PULocationID_43',\n",
       " 'PULocationID_44',\n",
       " 'PULocationID_45',\n",
       " 'PULocationID_46',\n",
       " 'PULocationID_47',\n",
       " 'PULocationID_48',\n",
       " 'PULocationID_49',\n",
       " 'PULocationID_50',\n",
       " 'PULocationID_51',\n",
       " 'PULocationID_52',\n",
       " 'PULocationID_53',\n",
       " 'PULocationID_54',\n",
       " 'PULocationID_55',\n",
       " 'PULocationID_56',\n",
       " 'PULocationID_57',\n",
       " 'PULocationID_58',\n",
       " 'PULocationID_59',\n",
       " 'PULocationID_60',\n",
       " 'PULocationID_61',\n",
       " 'PULocationID_62',\n",
       " 'PULocationID_63',\n",
       " 'PULocationID_64',\n",
       " 'PULocationID_65',\n",
       " 'PULocationID_66',\n",
       " 'PULocationID_67',\n",
       " 'PULocationID_68',\n",
       " 'PULocationID_69',\n",
       " 'PULocationID_70',\n",
       " 'PULocationID_71',\n",
       " 'PULocationID_72',\n",
       " 'PULocationID_73',\n",
       " 'PULocationID_74',\n",
       " 'PULocationID_75',\n",
       " 'PULocationID_76',\n",
       " 'PULocationID_77',\n",
       " 'PULocationID_78',\n",
       " 'PULocationID_79',\n",
       " 'PULocationID_80',\n",
       " 'PULocationID_81',\n",
       " 'PULocationID_82',\n",
       " 'PULocationID_83',\n",
       " 'PULocationID_84',\n",
       " 'PULocationID_85',\n",
       " 'PULocationID_86',\n",
       " 'PULocationID_87',\n",
       " 'PULocationID_88',\n",
       " 'PULocationID_89',\n",
       " 'PULocationID_90',\n",
       " 'PULocationID_91',\n",
       " 'PULocationID_92',\n",
       " 'PULocationID_93',\n",
       " 'PULocationID_94',\n",
       " 'PULocationID_95',\n",
       " 'PULocationID_96',\n",
       " 'PULocationID_97',\n",
       " 'PULocationID_98',\n",
       " 'PULocationID_99',\n",
       " 'PULocationID_100',\n",
       " 'PULocationID_101',\n",
       " 'PULocationID_102',\n",
       " 'PULocationID_105',\n",
       " 'PULocationID_106',\n",
       " 'PULocationID_107',\n",
       " 'PULocationID_108',\n",
       " 'PULocationID_111',\n",
       " 'PULocationID_112',\n",
       " 'PULocationID_113',\n",
       " 'PULocationID_114',\n",
       " 'PULocationID_116',\n",
       " 'PULocationID_117',\n",
       " 'PULocationID_118',\n",
       " 'PULocationID_119',\n",
       " 'PULocationID_120',\n",
       " 'PULocationID_121',\n",
       " 'PULocationID_122',\n",
       " 'PULocationID_123',\n",
       " 'PULocationID_124',\n",
       " 'PULocationID_125',\n",
       " 'PULocationID_126',\n",
       " 'PULocationID_127',\n",
       " 'PULocationID_128',\n",
       " 'PULocationID_129',\n",
       " 'PULocationID_130',\n",
       " 'PULocationID_131',\n",
       " 'PULocationID_132',\n",
       " 'PULocationID_133',\n",
       " 'PULocationID_134',\n",
       " 'PULocationID_135',\n",
       " 'PULocationID_136',\n",
       " 'PULocationID_137',\n",
       " 'PULocationID_138',\n",
       " 'PULocationID_139',\n",
       " 'PULocationID_140',\n",
       " 'PULocationID_141',\n",
       " 'PULocationID_142',\n",
       " 'PULocationID_143',\n",
       " 'PULocationID_144',\n",
       " 'PULocationID_145',\n",
       " 'PULocationID_146',\n",
       " 'PULocationID_147',\n",
       " 'PULocationID_148',\n",
       " 'PULocationID_149',\n",
       " 'PULocationID_150',\n",
       " 'PULocationID_151',\n",
       " 'PULocationID_152',\n",
       " 'PULocationID_153',\n",
       " 'PULocationID_154',\n",
       " 'PULocationID_155',\n",
       " 'PULocationID_156',\n",
       " 'PULocationID_157',\n",
       " 'PULocationID_158',\n",
       " 'PULocationID_159',\n",
       " 'PULocationID_160',\n",
       " 'PULocationID_161',\n",
       " 'PULocationID_162',\n",
       " 'PULocationID_163',\n",
       " 'PULocationID_164',\n",
       " 'PULocationID_165',\n",
       " 'PULocationID_166',\n",
       " 'PULocationID_167',\n",
       " 'PULocationID_168',\n",
       " 'PULocationID_169',\n",
       " 'PULocationID_170',\n",
       " 'PULocationID_171',\n",
       " 'PULocationID_173',\n",
       " 'PULocationID_174',\n",
       " 'PULocationID_175',\n",
       " 'PULocationID_177',\n",
       " 'PULocationID_178',\n",
       " 'PULocationID_179',\n",
       " 'PULocationID_180',\n",
       " 'PULocationID_181',\n",
       " 'PULocationID_182',\n",
       " 'PULocationID_183',\n",
       " 'PULocationID_184',\n",
       " 'PULocationID_185',\n",
       " 'PULocationID_186',\n",
       " 'PULocationID_187',\n",
       " 'PULocationID_188',\n",
       " 'PULocationID_189',\n",
       " 'PULocationID_190',\n",
       " 'PULocationID_191',\n",
       " 'PULocationID_192',\n",
       " 'PULocationID_193',\n",
       " 'PULocationID_194',\n",
       " 'PULocationID_195',\n",
       " 'PULocationID_196',\n",
       " 'PULocationID_197',\n",
       " 'PULocationID_198',\n",
       " 'PULocationID_200',\n",
       " 'PULocationID_201',\n",
       " 'PULocationID_202',\n",
       " 'PULocationID_203',\n",
       " 'PULocationID_205',\n",
       " 'PULocationID_206',\n",
       " 'PULocationID_207',\n",
       " 'PULocationID_208',\n",
       " 'PULocationID_209',\n",
       " 'PULocationID_210',\n",
       " 'PULocationID_211',\n",
       " 'PULocationID_212',\n",
       " 'PULocationID_213',\n",
       " 'PULocationID_214',\n",
       " 'PULocationID_215',\n",
       " 'PULocationID_216',\n",
       " 'PULocationID_217',\n",
       " 'PULocationID_218',\n",
       " 'PULocationID_219',\n",
       " 'PULocationID_220',\n",
       " 'PULocationID_221',\n",
       " 'PULocationID_222',\n",
       " 'PULocationID_223',\n",
       " 'PULocationID_224',\n",
       " 'PULocationID_225',\n",
       " 'PULocationID_226',\n",
       " 'PULocationID_227',\n",
       " 'PULocationID_228',\n",
       " 'PULocationID_229',\n",
       " 'PULocationID_230',\n",
       " 'PULocationID_231',\n",
       " 'PULocationID_232',\n",
       " 'PULocationID_233',\n",
       " 'PULocationID_234',\n",
       " 'PULocationID_235',\n",
       " 'PULocationID_236',\n",
       " 'PULocationID_237',\n",
       " 'PULocationID_238',\n",
       " 'PULocationID_239',\n",
       " 'PULocationID_240',\n",
       " 'PULocationID_241',\n",
       " 'PULocationID_242',\n",
       " 'PULocationID_243',\n",
       " 'PULocationID_244',\n",
       " 'PULocationID_246',\n",
       " 'PULocationID_247',\n",
       " 'PULocationID_248',\n",
       " 'PULocationID_249',\n",
       " 'PULocationID_250',\n",
       " 'PULocationID_252',\n",
       " 'PULocationID_253',\n",
       " 'PULocationID_254',\n",
       " 'PULocationID_255',\n",
       " 'PULocationID_256',\n",
       " 'PULocationID_257',\n",
       " 'PULocationID_258',\n",
       " 'PULocationID_259',\n",
       " 'PULocationID_260',\n",
       " 'PULocationID_261',\n",
       " 'PULocationID_262',\n",
       " 'PULocationID_263',\n",
       " 'PULocationID_264',\n",
       " 'PULocationID_265',\n",
       " 'DOLocationID_2',\n",
       " 'DOLocationID_3',\n",
       " 'DOLocationID_4',\n",
       " 'DOLocationID_5',\n",
       " 'DOLocationID_6',\n",
       " 'DOLocationID_7',\n",
       " 'DOLocationID_8',\n",
       " 'DOLocationID_9',\n",
       " 'DOLocationID_10',\n",
       " 'DOLocationID_11',\n",
       " 'DOLocationID_12',\n",
       " 'DOLocationID_13',\n",
       " 'DOLocationID_14',\n",
       " 'DOLocationID_15',\n",
       " 'DOLocationID_16',\n",
       " 'DOLocationID_17',\n",
       " 'DOLocationID_18',\n",
       " 'DOLocationID_19',\n",
       " 'DOLocationID_20',\n",
       " 'DOLocationID_21',\n",
       " 'DOLocationID_22',\n",
       " 'DOLocationID_23',\n",
       " 'DOLocationID_24',\n",
       " 'DOLocationID_25',\n",
       " 'DOLocationID_26',\n",
       " 'DOLocationID_27',\n",
       " 'DOLocationID_28',\n",
       " 'DOLocationID_29',\n",
       " 'DOLocationID_30',\n",
       " 'DOLocationID_31',\n",
       " 'DOLocationID_32',\n",
       " 'DOLocationID_33',\n",
       " 'DOLocationID_34',\n",
       " 'DOLocationID_35',\n",
       " 'DOLocationID_36',\n",
       " 'DOLocationID_37',\n",
       " 'DOLocationID_38',\n",
       " 'DOLocationID_39',\n",
       " 'DOLocationID_40',\n",
       " 'DOLocationID_41',\n",
       " 'DOLocationID_42',\n",
       " 'DOLocationID_43',\n",
       " 'DOLocationID_44',\n",
       " 'DOLocationID_45',\n",
       " 'DOLocationID_46',\n",
       " 'DOLocationID_47',\n",
       " 'DOLocationID_48',\n",
       " 'DOLocationID_49',\n",
       " 'DOLocationID_50',\n",
       " 'DOLocationID_51',\n",
       " 'DOLocationID_52',\n",
       " 'DOLocationID_53',\n",
       " 'DOLocationID_54',\n",
       " 'DOLocationID_55',\n",
       " 'DOLocationID_56',\n",
       " 'DOLocationID_57',\n",
       " 'DOLocationID_58',\n",
       " 'DOLocationID_59',\n",
       " 'DOLocationID_60',\n",
       " 'DOLocationID_61',\n",
       " 'DOLocationID_62',\n",
       " 'DOLocationID_63',\n",
       " 'DOLocationID_64',\n",
       " 'DOLocationID_65',\n",
       " 'DOLocationID_66',\n",
       " 'DOLocationID_67',\n",
       " 'DOLocationID_68',\n",
       " 'DOLocationID_69',\n",
       " 'DOLocationID_70',\n",
       " 'DOLocationID_71',\n",
       " 'DOLocationID_72',\n",
       " 'DOLocationID_73',\n",
       " 'DOLocationID_74',\n",
       " 'DOLocationID_75',\n",
       " 'DOLocationID_76',\n",
       " 'DOLocationID_77',\n",
       " 'DOLocationID_78',\n",
       " 'DOLocationID_79',\n",
       " 'DOLocationID_80',\n",
       " 'DOLocationID_81',\n",
       " 'DOLocationID_82',\n",
       " 'DOLocationID_83',\n",
       " 'DOLocationID_84',\n",
       " 'DOLocationID_85',\n",
       " 'DOLocationID_86',\n",
       " 'DOLocationID_87',\n",
       " 'DOLocationID_88',\n",
       " 'DOLocationID_89',\n",
       " 'DOLocationID_90',\n",
       " 'DOLocationID_91',\n",
       " 'DOLocationID_92',\n",
       " 'DOLocationID_93',\n",
       " 'DOLocationID_94',\n",
       " 'DOLocationID_95',\n",
       " 'DOLocationID_96',\n",
       " 'DOLocationID_97',\n",
       " 'DOLocationID_98',\n",
       " 'DOLocationID_99',\n",
       " 'DOLocationID_100',\n",
       " 'DOLocationID_101',\n",
       " 'DOLocationID_102',\n",
       " 'DOLocationID_105',\n",
       " 'DOLocationID_106',\n",
       " 'DOLocationID_107',\n",
       " 'DOLocationID_108',\n",
       " 'DOLocationID_109',\n",
       " 'DOLocationID_111',\n",
       " 'DOLocationID_112',\n",
       " 'DOLocationID_113',\n",
       " 'DOLocationID_114',\n",
       " 'DOLocationID_115',\n",
       " 'DOLocationID_116',\n",
       " 'DOLocationID_117',\n",
       " 'DOLocationID_118',\n",
       " 'DOLocationID_119',\n",
       " 'DOLocationID_120',\n",
       " 'DOLocationID_121',\n",
       " 'DOLocationID_122',\n",
       " 'DOLocationID_123',\n",
       " 'DOLocationID_124',\n",
       " 'DOLocationID_125',\n",
       " 'DOLocationID_126',\n",
       " 'DOLocationID_127',\n",
       " 'DOLocationID_128',\n",
       " 'DOLocationID_129',\n",
       " 'DOLocationID_130',\n",
       " 'DOLocationID_131',\n",
       " 'DOLocationID_132',\n",
       " 'DOLocationID_133',\n",
       " 'DOLocationID_134',\n",
       " 'DOLocationID_135',\n",
       " 'DOLocationID_136',\n",
       " 'DOLocationID_137',\n",
       " 'DOLocationID_138',\n",
       " 'DOLocationID_139',\n",
       " 'DOLocationID_140',\n",
       " 'DOLocationID_141',\n",
       " 'DOLocationID_142',\n",
       " 'DOLocationID_143',\n",
       " 'DOLocationID_144',\n",
       " 'DOLocationID_145',\n",
       " 'DOLocationID_146',\n",
       " 'DOLocationID_147',\n",
       " 'DOLocationID_148',\n",
       " 'DOLocationID_149',\n",
       " 'DOLocationID_150',\n",
       " 'DOLocationID_151',\n",
       " 'DOLocationID_152',\n",
       " 'DOLocationID_153',\n",
       " 'DOLocationID_154',\n",
       " 'DOLocationID_155',\n",
       " 'DOLocationID_156',\n",
       " 'DOLocationID_157',\n",
       " 'DOLocationID_158',\n",
       " 'DOLocationID_159',\n",
       " 'DOLocationID_160',\n",
       " 'DOLocationID_161',\n",
       " 'DOLocationID_162',\n",
       " 'DOLocationID_163',\n",
       " 'DOLocationID_164',\n",
       " 'DOLocationID_165',\n",
       " 'DOLocationID_166',\n",
       " 'DOLocationID_167',\n",
       " 'DOLocationID_168',\n",
       " 'DOLocationID_169',\n",
       " 'DOLocationID_170',\n",
       " 'DOLocationID_171',\n",
       " 'DOLocationID_172',\n",
       " 'DOLocationID_173',\n",
       " 'DOLocationID_174',\n",
       " 'DOLocationID_175',\n",
       " 'DOLocationID_176',\n",
       " 'DOLocationID_177',\n",
       " 'DOLocationID_178',\n",
       " 'DOLocationID_179',\n",
       " 'DOLocationID_180',\n",
       " 'DOLocationID_181',\n",
       " 'DOLocationID_182',\n",
       " 'DOLocationID_183',\n",
       " 'DOLocationID_184',\n",
       " 'DOLocationID_185',\n",
       " 'DOLocationID_186',\n",
       " 'DOLocationID_187',\n",
       " 'DOLocationID_188',\n",
       " 'DOLocationID_189',\n",
       " 'DOLocationID_190',\n",
       " 'DOLocationID_191',\n",
       " 'DOLocationID_192',\n",
       " 'DOLocationID_193',\n",
       " 'DOLocationID_194',\n",
       " 'DOLocationID_195',\n",
       " 'DOLocationID_196',\n",
       " 'DOLocationID_197',\n",
       " 'DOLocationID_198',\n",
       " 'DOLocationID_200',\n",
       " 'DOLocationID_201',\n",
       " 'DOLocationID_202',\n",
       " 'DOLocationID_203',\n",
       " 'DOLocationID_204',\n",
       " 'DOLocationID_205',\n",
       " 'DOLocationID_206',\n",
       " 'DOLocationID_207',\n",
       " 'DOLocationID_208',\n",
       " 'DOLocationID_209',\n",
       " 'DOLocationID_210',\n",
       " 'DOLocationID_211',\n",
       " 'DOLocationID_212',\n",
       " 'DOLocationID_213',\n",
       " 'DOLocationID_214',\n",
       " 'DOLocationID_215',\n",
       " 'DOLocationID_216',\n",
       " 'DOLocationID_217',\n",
       " 'DOLocationID_218',\n",
       " 'DOLocationID_219',\n",
       " 'DOLocationID_220',\n",
       " 'DOLocationID_221',\n",
       " 'DOLocationID_222',\n",
       " 'DOLocationID_223',\n",
       " 'DOLocationID_224',\n",
       " 'DOLocationID_225',\n",
       " 'DOLocationID_226',\n",
       " 'DOLocationID_227',\n",
       " 'DOLocationID_228',\n",
       " 'DOLocationID_229',\n",
       " 'DOLocationID_230',\n",
       " 'DOLocationID_231',\n",
       " 'DOLocationID_232',\n",
       " 'DOLocationID_233',\n",
       " 'DOLocationID_234',\n",
       " 'DOLocationID_235',\n",
       " 'DOLocationID_236',\n",
       " 'DOLocationID_237',\n",
       " 'DOLocationID_238',\n",
       " 'DOLocationID_239',\n",
       " 'DOLocationID_240',\n",
       " 'DOLocationID_241',\n",
       " 'DOLocationID_242',\n",
       " 'DOLocationID_243',\n",
       " 'DOLocationID_244',\n",
       " 'DOLocationID_245',\n",
       " 'DOLocationID_246',\n",
       " 'DOLocationID_247',\n",
       " 'DOLocationID_248',\n",
       " 'DOLocationID_249',\n",
       " 'DOLocationID_250',\n",
       " 'DOLocationID_251',\n",
       " 'DOLocationID_252',\n",
       " 'DOLocationID_253',\n",
       " 'DOLocationID_254',\n",
       " 'DOLocationID_255',\n",
       " 'DOLocationID_256',\n",
       " 'DOLocationID_257',\n",
       " 'DOLocationID_258',\n",
       " 'DOLocationID_259',\n",
       " 'DOLocationID_260',\n",
       " 'DOLocationID_261',\n",
       " 'DOLocationID_262',\n",
       " 'DOLocationID_263',\n",
       " 'DOLocationID_264',\n",
       " 'DOLocationID_265',\n",
       " 'payment_type_2',\n",
       " 'payment_type_3',\n",
       " 'payment_type_4']"
      ]
     },
     "execution_count": 80,
     "metadata": {},
     "output_type": "execute_result"
    }
   ],
   "source": [
    "inputs"
   ]
  },
  {
   "cell_type": "code",
   "execution_count": 83,
   "metadata": {},
   "outputs": [
    {
     "data": {
      "text/plain": [
       "[('trip_distance', 0.08324134261903572),\n",
       " ('RatecodeID', 0.005071645231988823),\n",
       " ('fare_amount', 0.124924497814652),\n",
       " ('extra', 0.017282553969087844),\n",
       " ('mta_tax', 0.0009162257639064709),\n",
       " ('tolls_amount', 0.0067497298896805145),\n",
       " ('total_amount', 0.26025267169986244),\n",
       " ('pickup_hour', 0.03867859270086176),\n",
       " ('duration_s', 0.10279784960592696)]"
      ]
     },
     "execution_count": 83,
     "metadata": {},
     "output_type": "execute_result"
    }
   ],
   "source": [
    "continuous_impor = list(zip(inputs[0:passenger_start], importances[0:passenger_start]))\n",
    "continuous_impor"
   ]
  },
  {
   "cell_type": "code",
   "execution_count": 84,
   "metadata": {},
   "outputs": [
    {
     "data": {
      "text/plain": [
       "[('n_passengers', 0.006580444420434989),\n",
       " ('pickup_loc', 0.008428068716357739),\n",
       " ('dropoff_loc', 0.006737459539417845),\n",
       " ('payment_type', 0.22658663179634014)]"
      ]
     },
     "execution_count": 84,
     "metadata": {},
     "output_type": "execute_result"
    }
   ],
   "source": [
    "categor_impor = [('n_passengers', n_passengers_importance),\n",
    "                 ('pickup_loc', pickup_loc_importance),\n",
    "                 ('dropoff_loc', dropoff_loc_importance),\n",
    "                 ('payment_type', pay_type_importance)]"
   ]
  },
  {
   "cell_type": "code",
   "execution_count": 89,
   "metadata": {},
   "outputs": [
    {
     "data": {
      "text/plain": [
       "[('total_amount', 0.26025267169986244),\n",
       " ('payment_type', 0.22658663179634014),\n",
       " ('fare_amount', 0.124924497814652),\n",
       " ('duration_s', 0.10279784960592696),\n",
       " ('trip_distance', 0.08324134261903572),\n",
       " ('pickup_hour', 0.03867859270086176),\n",
       " ('extra', 0.017282553969087844),\n",
       " ('pickup_loc', 0.008428068716357739),\n",
       " ('tolls_amount', 0.0067497298896805145),\n",
       " ('dropoff_loc', 0.006737459539417845),\n",
       " ('n_passengers', 0.006580444420434989),\n",
       " ('RatecodeID', 0.005071645231988823),\n",
       " ('mta_tax', 0.0009162257639064709)]"
      ]
     },
     "execution_count": 89,
     "metadata": {},
     "output_type": "execute_result"
    }
   ],
   "source": [
    "all_importance = []\n",
    "all_importance.extend(continuous_impor)\n",
    "all_importance.extend(categor_impor)\n",
    "sorted(all_importance, key = lambda x: x[1], reverse = True)"
   ]
  },
  {
   "cell_type": "code",
   "execution_count": null,
   "metadata": {},
   "outputs": [],
   "source": [
    "# Decided to not combine each category when viewing feature importances"
   ]
  },
  {
   "cell_type": "code",
   "execution_count": 102,
   "metadata": {},
   "outputs": [
    {
     "data": {
      "text/plain": [
       "[['Total_Amount',\n",
       "  'Payment_Type_2',\n",
       "  'Fare_Amount',\n",
       "  'Duration_S',\n",
       "  'Trip_Distance',\n",
       "  'Pickup_Hour',\n",
       "  'Extra',\n",
       "  'Tolls_Amount',\n",
       "  'Passenger_Count_1',\n",
       "  'Passenger_Count_2'],\n",
       " (0.2618370178300444,\n",
       "  0.23867721618929688,\n",
       "  0.12984912708386276,\n",
       "  0.09122868878156697,\n",
       "  0.07656845367649641,\n",
       "  0.03390488058940655,\n",
       "  0.01807824402638501,\n",
       "  0.008088733346871164,\n",
       "  0.004935035313263864,\n",
       "  0.003806773694466318)]"
      ]
     },
     "execution_count": 102,
     "metadata": {},
     "output_type": "execute_result"
    }
   ],
   "source": [
    "unzipped_fi = list(zip(*sorted_impor[:10])) # unzipped sorted feature importances top 10\n",
    "unzipped_fi[0] = list(map(lambda x: x.title(), unzipped_fi[0]))\n",
    "unzipped_fi"
   ]
  },
  {
   "cell_type": "markdown",
   "metadata": {},
   "source": [
    "### Plot feature importance"
   ]
  },
  {
   "cell_type": "code",
   "execution_count": 103,
   "metadata": {},
   "outputs": [
    {
     "data": {
      "image/png": "[encoded data removed]",
      "text/plain": [
       "<Figure size 648x576 with 1 Axes>"
      ]
     },
     "metadata": {},
     "output_type": "display_data"
    }
   ],
   "source": [
    "sns.set_style(style = 'darkgrid')\n",
    "sns.set(rc = {'figure.figsize':(9,8)}) # change graph size\n",
    "\n",
    "fi_bar = sns.barplot(orient = 'h', \n",
    "                     y = unzipped_fi[0], \n",
    "                     x = list(unzipped_fi[1]),\n",
    "                     palette = 'colorblind')\n",
    "\n",
    "fi_bar.axes.set_title('Top 10 Important Features', fontsize = 19.5, pad = 10) # title info\n",
    "fi_bar.set_xlabel('Importance', fontsize = 18, labelpad = 10) # xlabel info\n",
    "fi_bar.set_ylabel('Features', fontsize = 17.5, labelpad = 9) # ylabel info\n",
    "\n",
    "\n",
    "fig = fi_bar.get_figure()\n",
    "fig.savefig(\"top_10_taxi_features.png\") # save as png file"
   ]
  },
  {
   "cell_type": "markdown",
   "metadata": {},
   "source": [
    "#### Total Cost In Determining Good Tip Or Not"
   ]
  },
  {
   "cell_type": "code",
   "execution_count": 104,
   "metadata": {},
   "outputs": [
    {
     "data": {
      "image/png": "[encoded data removed]",
      "text/plain": [
       "<Figure size 648x576 with 1 Axes>"
      ]
     },
     "metadata": {},
     "output_type": "display_data"
    }
   ],
   "source": [
    "# looking at how people tip depending on total amount\n",
    "total_to_g_n = sns.scatterplot(x = trip_data.total_amount[trip_data.total_amount<10], \n",
    "                               y = trip_data.good_or_nah[trip_data.total_amount<10],\n",
    "                               s = 90)\n",
    "\n",
    "total_to_g_n.axes.set_title('How People Tip vs. Total Cost', fontsize = 19.5, pad = 10) # title info\n",
    "total_to_g_n.set_xlabel('Total Trip Cost', fontsize = 18, labelpad = 10) # xlabel info\n",
    "total_to_g_n.set_ylabel('Good Tip or Bad Tip', fontsize = 17.5, labelpad = 9) # ylabel info\n",
    "\n",
    "fig2 = total_to_g_n.get_figure()\n",
    "fig2.savefig(\"tip_well_vs_total.png\") # save as png file"
   ]
  },
  {
   "cell_type": "markdown",
   "metadata": {},
   "source": [
    "#### Paying in cash to determine good tip or not"
   ]
  },
  {
   "cell_type": "code",
   "execution_count": 171,
   "metadata": {},
   "outputs": [
    {
     "data": {
      "text/plain": [
       "7.60079048221015e-05"
      ]
     },
     "execution_count": 171,
     "metadata": {},
     "output_type": "execute_result"
    }
   ],
   "source": [
    "pay_cash = (trip_data.good_or_nah[trip_data.payment_type_2 == True]).mean()\n",
    "pay_cash\n",
    "\n",
    "# looks like if someone paid in cash, the tip would not be recorded - doesn't tell us much\n",
    "# if they do pay in cash then"
   ]
  },
  {
   "cell_type": "code",
   "execution_count": 172,
   "metadata": {},
   "outputs": [
    {
     "data": {
      "text/plain": [
       "0.5684812827223382"
      ]
     },
     "execution_count": 172,
     "metadata": {},
     "output_type": "execute_result"
    }
   ],
   "source": [
    "pay_not_cash = (trip_data.good_or_nah[trip_data.payment_type_2 == False]).mean()\n",
    "pay_not_cash"
   ]
  },
  {
   "cell_type": "code",
   "execution_count": 192,
   "metadata": {},
   "outputs": [
    {
     "data": {
      "image/png": "[encoded data removed]",
      "text/plain": [
       "<Figure size 648x576 with 1 Axes>"
      ]
     },
     "metadata": {},
     "output_type": "display_data"
    }
   ],
   "source": [
    "paytype_bar = sns.barplot(orient = 'v', \n",
    "                          y = [pay_cash*100, pay_not_cash*100], \n",
    "                          x = ['Paid Cash', 'Did Not Pay Cash'],\n",
    "                          palette = 'colorblind')\n",
    "\n",
    "paytype_bar.axes.set_title('% Good Tip vs. Pay Type', fontsize = 19.5, pad = 10) # title info\n",
    "paytype_bar.set_xlabel('Pay Type', fontsize = 18, labelpad = 10) # xlabel info\n",
    "paytype_bar.set_ylabel('% Good Tip', fontsize = 17.5, labelpad = 9) # ylabel info\n",
    "\n",
    "fig4 = paytype_bar.get_figure()\n",
    "fig4.savefig(\"percentgood_vs_paytype.png\") # save as png file"
   ]
  },
  {
   "cell_type": "code",
   "execution_count": null,
   "metadata": {},
   "outputs": [],
   "source": []
  },
  {
   "cell_type": "code",
   "execution_count": null,
   "metadata": {},
   "outputs": [],
   "source": []
  },
  {
   "cell_type": "markdown",
   "metadata": {},
   "source": [
    "#### Duration of trip - Good or not good tip"
   ]
  },
  {
   "cell_type": "code",
   "execution_count": 188,
   "metadata": {},
   "outputs": [
    {
     "data": {
      "image/png": "[encoded data removed]",
      "text/plain": [
       "<Figure size 648x576 with 1 Axes>"
      ]
     },
     "metadata": {},
     "output_type": "display_data"
    }
   ],
   "source": [
    "# looking at how people tip depending on duration of trip\n",
    "duration_to_g_n = sns.scatterplot(x = trip_data.duration_s[trip_data.duration_s<4500]/60, \n",
    "                                  y = trip_data.good_or_nah[trip_data.duration_s<4500],\n",
    "                                  s = 90)\n",
    "\n",
    "duration_to_g_n.axes.set_title('How People Tip vs. Duration of Trip', fontsize = 19.5, pad = 10) # title info\n",
    "duration_to_g_n.set_xlabel('Duration of Trip (min)', fontsize = 18, labelpad = 10) # xlabel info\n",
    "duration_to_g_n.set_ylabel('Good Tip or Bad Tip', fontsize = 17.5, labelpad = 9) # ylabel info\n",
    "\n",
    "fig3 = duration_to_g_n.get_figure()\n",
    "fig3.savefig(\"tip_well_vs_duration.png\") # save as png file"
   ]
  },
  {
   "cell_type": "code",
   "execution_count": null,
   "metadata": {},
   "outputs": [],
   "source": [
    "# looking at how people tip depending on duration of trip"
   ]
  },
  {
   "cell_type": "code",
   "execution_count": 106,
   "metadata": {},
   "outputs": [
    {
     "data": {
      "text/plain": [
       "0.49790183185777837"
      ]
     },
     "execution_count": 106,
     "metadata": {},
     "output_type": "execute_result"
    }
   ],
   "source": [
    "durat1 = trip_data.good_or_nah[trip_data.duration_s < 600].mean()\n",
    "durat1"
   ]
  },
  {
   "cell_type": "code",
   "execution_count": 107,
   "metadata": {},
   "outputs": [
    {
     "data": {
      "text/plain": [
       "0.4348084005978212"
      ]
     },
     "execution_count": 107,
     "metadata": {},
     "output_type": "execute_result"
    }
   ],
   "source": [
    "durat2 = trip_data.good_or_nah[(trip_data.duration_s >= 600) & (trip_data.duration_s < 1200)].mean()\n",
    "durat2"
   ]
  },
  {
   "cell_type": "code",
   "execution_count": 108,
   "metadata": {},
   "outputs": [
    {
     "data": {
      "text/plain": [
       "0.1932701011452635"
      ]
     },
     "execution_count": 108,
     "metadata": {},
     "output_type": "execute_result"
    }
   ],
   "source": [
    "durat3 = trip_data.good_or_nah[(trip_data.duration_s >= 1200) & (trip_data.duration_s < 1800)].mean()\n",
    "durat3"
   ]
  },
  {
   "cell_type": "code",
   "execution_count": 109,
   "metadata": {
    "scrolled": true
   },
   "outputs": [
    {
     "data": {
      "text/plain": [
       "0.18348048274131362"
      ]
     },
     "execution_count": 109,
     "metadata": {},
     "output_type": "execute_result"
    }
   ],
   "source": [
    "durat4 = trip_data.good_or_nah[(trip_data.duration_s >= 1800)].mean()\n",
    "durat4"
   ]
  },
  {
   "cell_type": "code",
   "execution_count": 110,
   "metadata": {},
   "outputs": [
    {
     "data": {
      "image/png": "[encoded data removed]",
      "text/plain": [
       "<Figure size 648x576 with 1 Axes>"
      ]
     },
     "metadata": {},
     "output_type": "display_data"
    }
   ],
   "source": [
    "duration_bar = sns.barplot(orient = 'v',\n",
    "                           y = [durat1,durat2,durat3,durat4],\n",
    "                           x = ['< 10 mins', '10-20 mins', '20-30 mins', '30+ mins'],\n",
    "                           palette = 'colorblind')\n",
    "\n",
    "duration_bar.axes.set_title('% Good Tip vs. Duration', fontsize = 19.5, pad = 10) # title info\n",
    "duration_bar.set_xlabel('Duration', fontsize = 18, labelpad = 10) # xlabel info\n",
    "duration_bar.set_ylabel('% Good Tip', fontsize = 17.5, labelpad = 9) # ylabel info\n",
    "\n",
    "\n",
    "fig5 = duration_bar.get_figure()\n",
    "fig5.savefig(\"goodtip_per_duration.png\") # save as png file"
   ]
  },
  {
   "cell_type": "code",
   "execution_count": 111,
   "metadata": {},
   "outputs": [
    {
     "data": {
      "text/plain": [
       "<matplotlib.axes._subplots.AxesSubplot at 0x29b95178b48>"
      ]
     },
     "execution_count": 111,
     "metadata": {},
     "output_type": "execute_result"
    },
    {
     "data": {
      "image/png": "[encoded data removed]",
      "text/plain": [
       "<Figure size 648x576 with 1 Axes>"
      ]
     },
     "metadata": {},
     "output_type": "display_data"
    }
   ],
   "source": [
    "sns.distplot(trip_data['duration_s'][trip_data.duration_s < 7200], kde = False)"
   ]
  },
  {
   "cell_type": "markdown",
   "metadata": {},
   "source": [
    "#### Duration of trip"
   ]
  },
  {
   "cell_type": "code",
   "execution_count": 112,
   "metadata": {},
   "outputs": [
    {
     "data": {
      "text/plain": [
       "<matplotlib.axes._subplots.AxesSubplot at 0x29b94122108>"
      ]
     },
     "execution_count": 112,
     "metadata": {},
     "output_type": "execute_result"
    },
    {
     "data": {
      "image/png": "[encoded data removed]",
      "text/plain": [
       "<Figure size 648x576 with 1 Axes>"
      ]
     },
     "metadata": {},
     "output_type": "display_data"
    }
   ],
   "source": [
    "sns.distplot(trip_data.trip_distance[trip_data.trip_distance < 25], kde = False)"
   ]
  },
  {
   "cell_type": "code",
   "execution_count": null,
   "metadata": {},
   "outputs": [],
   "source": []
  },
  {
   "cell_type": "code",
   "execution_count": null,
   "metadata": {},
   "outputs": [],
   "source": []
  },
  {
   "cell_type": "code",
   "execution_count": 113,
   "metadata": {},
   "outputs": [
    {
     "data": {
      "text/plain": [
       "0.4091979924203626"
      ]
     },
     "execution_count": 113,
     "metadata": {},
     "output_type": "execute_result"
    }
   ],
   "source": [
    "dist1 = trip_data.good_or_nah[trip_data.trip_distance < 0.5].mean()\n",
    "dist1"
   ]
  },
  {
   "cell_type": "code",
   "execution_count": 114,
   "metadata": {},
   "outputs": [
    {
     "data": {
      "text/plain": [
       "0.5071483072968958"
      ]
     },
     "execution_count": 114,
     "metadata": {},
     "output_type": "execute_result"
    }
   ],
   "source": [
    "dist2 = trip_data.good_or_nah[(trip_data.trip_distance >= 0.5) & (trip_data.trip_distance < 1)].mean()\n",
    "dist2"
   ]
  },
  {
   "cell_type": "code",
   "execution_count": 115,
   "metadata": {},
   "outputs": [
    {
     "data": {
      "text/plain": [
       "0.5022411953041622"
      ]
     },
     "execution_count": 115,
     "metadata": {},
     "output_type": "execute_result"
    }
   ],
   "source": [
    "dist3 = trip_data.good_or_nah[(trip_data.trip_distance >= 1) & (trip_data.trip_distance < 1.5)].mean()\n",
    "dist3"
   ]
  },
  {
   "cell_type": "code",
   "execution_count": 116,
   "metadata": {
    "scrolled": true
   },
   "outputs": [
    {
     "data": {
      "text/plain": [
       "0.4789667114283695"
      ]
     },
     "execution_count": 116,
     "metadata": {},
     "output_type": "execute_result"
    }
   ],
   "source": [
    "dist4 = trip_data.good_or_nah[(trip_data.trip_distance >= 1.5) & (trip_data.trip_distance < 2)].mean()\n",
    "dist4"
   ]
  },
  {
   "cell_type": "code",
   "execution_count": 117,
   "metadata": {
    "scrolled": true
   },
   "outputs": [
    {
     "data": {
      "text/plain": [
       "0.42047027169680157"
      ]
     },
     "execution_count": 117,
     "metadata": {},
     "output_type": "execute_result"
    }
   ],
   "source": [
    "dist5 = trip_data.good_or_nah[(trip_data.trip_distance >= 2) & (trip_data.trip_distance < 3)].mean()\n",
    "dist5"
   ]
  },
  {
   "cell_type": "code",
   "execution_count": 118,
   "metadata": {},
   "outputs": [
    {
     "data": {
      "text/plain": [
       "0.2856257488741065"
      ]
     },
     "execution_count": 118,
     "metadata": {},
     "output_type": "execute_result"
    }
   ],
   "source": [
    "dist6 = trip_data.good_or_nah[(trip_data.trip_distance >= 3) & (trip_data.trip_distance < 4)].mean()\n",
    "dist6"
   ]
  },
  {
   "cell_type": "code",
   "execution_count": 119,
   "metadata": {},
   "outputs": [
    {
     "data": {
      "text/plain": [
       "0.19136567131742513"
      ]
     },
     "execution_count": 119,
     "metadata": {},
     "output_type": "execute_result"
    }
   ],
   "source": [
    "dist7 = trip_data.good_or_nah[(trip_data.trip_distance >= 4)].mean()\n",
    "dist7"
   ]
  },
  {
   "cell_type": "code",
   "execution_count": 120,
   "metadata": {
    "scrolled": false
   },
   "outputs": [
    {
     "data": {
      "text/plain": [
       "Text(0, 0.5, '% Good Tip')"
      ]
     },
     "execution_count": 120,
     "metadata": {},
     "output_type": "execute_result"
    },
    {
     "data": {
      "image/png": "[encoded data removed]",
      "text/plain": [
       "<Figure size 648x576 with 1 Axes>"
      ]
     },
     "metadata": {},
     "output_type": "display_data"
    }
   ],
   "source": [
    "dist_bar = sns.barplot(orient = 'v',\n",
    "                           y = [dist1,dist2,dist3,dist4,dist5,dist6,dist7],\n",
    "                           x = ['< 0.5 mi', '0.5-1 mi', '1-1.5 mi', '1.5-2 mi', '2-3 mi', '3-4 mi', '> 4 mi'],\n",
    "                           palette = 'colorblind')\n",
    "\n",
    "dist_bar.axes.set_title('% Good Tip vs. Distance', fontsize = 19.5, pad = 10) # title info\n",
    "dist_bar.set_xlabel('Distance', fontsize = 18, labelpad = 10) # xlabel info\n",
    "dist_bar.set_ylabel('% Good Tip', fontsize = 17.5, labelpad = 9) # ylabel info"
   ]
  },
  {
   "cell_type": "code",
   "execution_count": null,
   "metadata": {},
   "outputs": [],
   "source": []
  },
  {
   "cell_type": "code",
   "execution_count": null,
   "metadata": {},
   "outputs": [],
   "source": []
  },
  {
   "cell_type": "code",
   "execution_count": null,
   "metadata": {},
   "outputs": [],
   "source": []
  },
  {
   "cell_type": "code",
   "execution_count": null,
   "metadata": {},
   "outputs": [],
   "source": []
  },
  {
   "cell_type": "code",
   "execution_count": null,
   "metadata": {},
   "outputs": [],
   "source": []
  },
  {
   "cell_type": "markdown",
   "metadata": {},
   "source": [
    "## Evaluate Random Forest Model On Test Set"
   ]
  },
  {
   "cell_type": "code",
   "execution_count": 121,
   "metadata": {},
   "outputs": [],
   "source": [
    "from sklearn.metrics import accuracy_score, f1_score"
   ]
  },
  {
   "cell_type": "code",
   "execution_count": 122,
   "metadata": {},
   "outputs": [],
   "source": [
    "rf_pred = rf_train_only.predict(x_test)"
   ]
  },
  {
   "cell_type": "code",
   "execution_count": 123,
   "metadata": {},
   "outputs": [
    {
     "data": {
      "text/plain": [
       "0.9408591095575204"
      ]
     },
     "execution_count": 123,
     "metadata": {},
     "output_type": "execute_result"
    }
   ],
   "source": [
    "f1_score(y_test, rf_pred) # 0.945"
   ]
  },
  {
   "cell_type": "code",
   "execution_count": 124,
   "metadata": {},
   "outputs": [
    {
     "data": {
      "text/plain": [
       "0.9515981039919544"
      ]
     },
     "execution_count": 124,
     "metadata": {},
     "output_type": "execute_result"
    }
   ],
   "source": [
    "accuracy_score(y_test, rf_pred) # 0.953"
   ]
  },
  {
   "cell_type": "code",
   "execution_count": null,
   "metadata": {},
   "outputs": [],
   "source": []
  },
  {
   "cell_type": "code",
   "execution_count": null,
   "metadata": {},
   "outputs": [],
   "source": [
    "## I wanted to run an XGBoost model but not enough time - dataset was too large just\n",
    "## for a random forest"
   ]
  },
  {
   "cell_type": "code",
   "execution_count": null,
   "metadata": {},
   "outputs": [],
   "source": []
  },
  {
   "cell_type": "code",
   "execution_count": null,
   "metadata": {},
   "outputs": [],
   "source": []
  },
  {
   "cell_type": "code",
   "execution_count": 263,
   "metadata": {},
   "outputs": [
    {
     "data": {
      "text/plain": [
       "0.4271585108145144"
      ]
     },
     "execution_count": 263,
     "metadata": {},
     "output_type": "execute_result"
    }
   ],
   "source": [
    "trip_data.good_or_nah[trip_data.total_amount > 4].mean()"
   ]
  },
  {
   "cell_type": "code",
   "execution_count": 264,
   "metadata": {},
   "outputs": [
    {
     "data": {
      "text/plain": [
       "0.019648829431438128"
      ]
     },
     "execution_count": 264,
     "metadata": {},
     "output_type": "execute_result"
    }
   ],
   "source": [
    "trip_data.good_or_nah[trip_data.total_amount <=4].mean()"
   ]
  },
  {
   "cell_type": "code",
   "execution_count": 265,
   "metadata": {},
   "outputs": [
    {
     "data": {
      "text/plain": [
       "0.4261822901592077"
      ]
     },
     "execution_count": 265,
     "metadata": {},
     "output_type": "execute_result"
    }
   ],
   "source": [
    "trip_data.good_or_nah.mean()"
   ]
  },
  {
   "cell_type": "code",
   "execution_count": null,
   "metadata": {},
   "outputs": [],
   "source": []
  },
  {
   "cell_type": "code",
   "execution_count": null,
   "metadata": {},
   "outputs": [],
   "source": []
  },
  {
   "cell_type": "code",
   "execution_count": null,
   "metadata": {},
   "outputs": [],
   "source": []
  },
  {
   "cell_type": "code",
   "execution_count": null,
   "metadata": {},
   "outputs": [],
   "source": []
  },
  {
   "cell_type": "code",
   "execution_count": null,
   "metadata": {},
   "outputs": [],
   "source": []
  },
  {
   "cell_type": "code",
   "execution_count": null,
   "metadata": {},
   "outputs": [],
   "source": []
  },
  {
   "cell_type": "code",
   "execution_count": null,
   "metadata": {},
   "outputs": [],
   "source": []
  }
 ],
 "metadata": {
  "kernelspec": {
   "display_name": "Python 3",
   "language": "python",
   "name": "python3"
  },
  "language_info": {
   "codemirror_mode": {
    "name": "ipython",
    "version": 3
   },
   "file_extension": ".py",
   "mimetype": "text/x-python",
   "name": "python",
   "nbconvert_exporter": "python",
   "pygments_lexer": "ipython3",
   "version": "3.7.6"
  },
  "toc": {
   "base_numbering": 1,
   "nav_menu": {},
   "number_sections": true,
   "sideBar": true,
   "skip_h1_title": false,
   "title_cell": "Table of Contents",
   "title_sidebar": "Contents",
   "toc_cell": false,
   "toc_position": {
    "height": "calc(100% - 180px)",
    "left": "10px",
    "top": "150px",
    "width": "285px"
   },
   "toc_section_display": true,
   "toc_window_display": true
  }
 },
 "nbformat": 4,
 "nbformat_minor": 2
}
